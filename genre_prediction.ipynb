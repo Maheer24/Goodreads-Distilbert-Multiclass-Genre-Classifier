{
 "cells": [
  {
   "cell_type": "markdown",
   "id": "19308b9b-900c-478c-8a73-3dc3fb9bfb44",
   "metadata": {},
   "source": [
    "# **Genre Prediction From Summary - Goodreads**"
   ]
  },
  {
   "cell_type": "markdown",
   "id": "7af8ac6c-a8c2-4c23-a241-8901df7181a9",
   "metadata": {},
   "source": [
    "This project aims to predict book genres using a dataset scraped from Goodreads.com, a well-known platform for book enthusiasts. The dataset includes essential features such as:\n",
    "\n",
    "- Book URLs\n",
    "- Summaries\n",
    "- Genres\n",
    "  \n",
    "**Objective:**\n",
    "Develop a DistilBERT-based model capable of accurately predicting book genres based on the provided summary.\n",
    "\n",
    "**Key Steps in the Workflow:**\n",
    "\n",
    "1. **Data Cleaning**\n",
    "\n",
    "- Removing rows with missing values and duplicates to ensure data integrity.\n",
    "- Writing a function to clean Summary text \n",
    "\n",
    "2. **Feature Engineering**\n",
    "\n",
    "- Grouping related genres (e.g., merging Adventure and Mythology with Fantasy) to improve model performance and reduce complexity.\n",
    "- Dropping unnecessary genres or those with a low count.\n",
    "- Dropping summaries in languages other than English.\n",
    "- Using a dataset from Kaggle and merging it with the original dataset to reduce imbalance."
   ]
  },
  {
   "cell_type": "markdown",
   "id": "c47ce631-ef88-4818-a5da-d049f8d455ff",
   "metadata": {},
   "source": [
    "## **1. Import Necessary Libraries**"
   ]
  },
  {
   "cell_type": "code",
   "execution_count": 1,
   "id": "b550962e-d321-444d-8a51-5c4e8cf2c82b",
   "metadata": {},
   "outputs": [
    {
     "name": "stdout",
     "output_type": "stream",
     "text": [
      "Package                   Version\n",
      "------------------------- ---------------\n",
      "absl-py                   2.1.0\n",
      "aiofiles                  23.2.1\n",
      "altair                    5.4.1\n",
      "annotated-types           0.7.0\n",
      "anyio                     4.2.0\n",
      "argon2-cffi               23.1.0\n",
      "argon2-cffi-bindings      21.2.0\n",
      "arrow                     1.3.0\n",
      "asttokens                 2.4.1\n",
      "astunparse                1.6.3\n",
      "async-lru                 2.0.4\n",
      "attrs                     23.2.0\n",
      "autocorrect               2.6.1\n",
      "Babel                     2.14.0\n",
      "beautifulsoup4            4.12.3\n",
      "black                     21.12b0\n",
      "blackcellmagic            0.0.3\n",
      "bleach                    6.1.0\n",
      "blinker                   1.8.2\n",
      "cachetools                5.5.0\n",
      "catboost                  1.2.5\n",
      "certifi                   2024.2.2\n",
      "cffi                      1.16.0\n",
      "chardet                   3.0.4\n",
      "charset-normalizer        3.3.2\n",
      "click                     8.1.7\n",
      "colorama                  0.4.6\n",
      "comm                      0.2.1\n",
      "contourpy                 1.2.0\n",
      "cycler                    0.12.1\n",
      "data                      0.4\n",
      "debugpy                   1.8.1\n",
      "decorator                 5.1.1\n",
      "defusedxml                0.7.1\n",
      "dill                      0.3.8\n",
      "et-xmlfile                1.1.0\n",
      "executing                 2.0.1\n",
      "fastapi                   0.115.0\n",
      "fastjsonschema            2.19.1\n",
      "ffmpy                     0.4.0\n",
      "filelock                  3.16.1\n",
      "flatbuffers               24.3.25\n",
      "fonttools                 4.46.0\n",
      "fqdn                      1.5.1\n",
      "fsspec                    2024.9.0\n",
      "funcsigs                  1.0.2\n",
      "future                    1.0.0\n",
      "gast                      0.6.0\n",
      "gensim                    4.3.3\n",
      "gitdb                     4.0.11\n",
      "GitPython                 3.1.43\n",
      "google-pasta              0.2.0\n",
      "googletrans               4.0.0rc1\n",
      "gradio                    4.44.0\n",
      "gradio_client             1.3.0\n",
      "graphviz                  0.20.3\n",
      "grpcio                    1.65.4\n",
      "h11                       0.9.0\n",
      "h2                        3.2.0\n",
      "h5py                      3.11.0\n",
      "hpack                     3.0.0\n",
      "hstspreload               2024.10.1\n",
      "httpcore                  0.9.1\n",
      "httpx                     0.13.3\n",
      "huggingface-hub           0.25.1\n",
      "hyperframe                5.2.0\n",
      "idna                      2.10\n",
      "imbalanced-learn          0.13.0\n",
      "imblearn                  0.0\n",
      "importlib_metadata        8.4.0\n",
      "importlib_resources       6.4.5\n",
      "ipykernel                 6.29.2\n",
      "ipython                   8.21.0\n",
      "ipywidgets                8.1.5\n",
      "isoduration               20.11.0\n",
      "jedi                      0.19.1\n",
      "Jinja2                    3.1.3\n",
      "joblib                    1.4.2\n",
      "json5                     0.9.14\n",
      "jsonpointer               2.4\n",
      "jsonschema                4.21.1\n",
      "jsonschema-specifications 2023.12.1\n",
      "jupyter                   1.0.0\n",
      "jupyter_client            8.6.0\n",
      "jupyter-console           6.6.3\n",
      "jupyter_core              5.7.1\n",
      "jupyter-events            0.9.0\n",
      "jupyter-lsp               2.2.2\n",
      "jupyter_server            2.12.5\n",
      "jupyter_server_terminals  0.5.2\n",
      "jupyterlab                4.2.5\n",
      "jupyterlab_pygments       0.3.0\n",
      "jupyterlab_server         2.27.3\n",
      "jupyterlab_widgets        3.0.13\n",
      "keras                     3.4.1\n",
      "kiwisolver                1.4.5\n",
      "langdetect                1.0.9\n",
      "latex                     0.7.0\n",
      "libclang                  18.1.1\n",
      "Markdown                  3.6\n",
      "markdown-it-py            3.0.0\n",
      "MarkupSafe                2.1.5\n",
      "matplotlib                3.8.2\n",
      "matplotlib-inline         0.1.6\n",
      "mdurl                     0.1.2\n",
      "mistune                   3.0.2\n",
      "ml-dtypes                 0.3.2\n",
      "mpmath                    1.3.0\n",
      "mypy-extensions           1.0.0\n",
      "namex                     0.0.8\n",
      "narwhals                  1.8.3\n",
      "nbclient                  0.9.0\n",
      "nbconvert                 7.16.4\n",
      "nbformat                  5.9.2\n",
      "nest-asyncio              1.6.0\n",
      "networkx                  3.4.2\n",
      "nltk                      3.9.1\n",
      "notebook                  7.2.2\n",
      "notebook_shim             0.2.3\n",
      "numpy                     1.26.2\n",
      "openpyxl                  3.1.2\n",
      "opt-einsum                3.3.0\n",
      "optree                    0.12.1\n",
      "orjson                    3.10.7\n",
      "overrides                 7.7.0\n",
      "packaging                 23.2\n",
      "pandas                    2.1.4\n",
      "pandoc                    2.3\n",
      "pandocfilters             1.5.1\n",
      "parso                     0.8.3\n",
      "pathspec                  0.12.1\n",
      "patsy                     0.5.6\n",
      "Pillow                    10.1.0\n",
      "pip                       24.3.1\n",
      "platformdirs              4.2.0\n",
      "plotly                    5.23.0\n",
      "plumbum                   1.8.2\n",
      "ply                       3.11\n",
      "prometheus-client         0.19.0\n",
      "prompt-toolkit            3.0.43\n",
      "protobuf                  4.25.4\n",
      "psutil                    5.9.8\n",
      "pure-eval                 0.2.2\n",
      "pyarrow                   17.0.0\n",
      "pycparser                 2.21\n",
      "pydantic                  2.9.2\n",
      "pydantic_core             2.23.4\n",
      "pydeck                    0.9.1\n",
      "pydub                     0.25.1\n",
      "pygame                    2.5.2\n",
      "Pygments                  2.17.2\n",
      "pyparsing                 3.1.1\n",
      "python-dateutil           2.8.2\n",
      "python-json-logger        2.0.7\n",
      "python-multipart          0.0.10\n",
      "pytz                      2023.3.post1\n",
      "pywin32                   306\n",
      "pywinpty                  2.0.12\n",
      "PyYAML                    6.0.1\n",
      "pyzmq                     25.1.2\n",
      "qtconsole                 5.5.1\n",
      "QtPy                      2.4.1\n",
      "referencing               0.33.0\n",
      "regex                     2024.9.11\n",
      "requests                  2.31.0\n",
      "rfc3339-validator         0.1.4\n",
      "rfc3986                   1.5.0\n",
      "rfc3986-validator         0.1.1\n",
      "rich                      13.7.1\n",
      "rpds-py                   0.17.1\n",
      "ruff                      0.6.8\n",
      "safetensors               0.5.0\n",
      "scikeras                  0.13.0\n",
      "scikit-learn              1.5.1\n",
      "scipy                     1.12.0\n",
      "seaborn                   0.13.2\n",
      "semantic-version          2.10.0\n",
      "Send2Trash                1.8.2\n",
      "setuptools                75.6.0\n",
      "shellingham               1.5.4\n",
      "shutilwhich               1.1.0\n",
      "six                       1.16.0\n",
      "sklearn-compat            0.1.3\n",
      "smart-open                7.1.0\n",
      "smmap                     5.0.1\n",
      "sniffio                   1.3.0\n",
      "soupsieve                 2.5\n",
      "stack-data                0.6.3\n",
      "starlette                 0.38.6\n",
      "statsmodels               0.14.2\n",
      "streamlit                 1.38.0\n",
      "sympy                     1.13.1\n",
      "tempdir                   0.7.1\n",
      "tenacity                  8.5.0\n",
      "tensorboard               2.16.2\n",
      "tensorboard-data-server   0.7.2\n",
      "tensorflow-cpu            2.16.1\n",
      "tensorflow-intel          2.16.1\n",
      "termcolor                 2.4.0\n",
      "terminado                 0.18.0\n",
      "textblob                  0.18.0.post0\n",
      "tf_keras                  2.16.0\n",
      "threadpoolctl             3.5.0\n",
      "tinycss2                  1.2.1\n",
      "tokenizers                0.21.0\n",
      "toml                      0.10.2\n",
      "tomli                     1.2.3\n",
      "tomlkit                   0.12.0\n",
      "torch                     2.5.1\n",
      "tornado                   6.4\n",
      "tqdm                      4.66.5\n",
      "traitlets                 5.14.1\n",
      "transformers              4.47.1\n",
      "typer                     0.12.5\n",
      "types-python-dateutil     2.8.19.20240106\n",
      "typing_extensions         4.12.2\n",
      "tzdata                    2023.3\n",
      "uri-template              1.3.0\n",
      "urllib3                   2.2.0\n",
      "utils                     1.0.2\n",
      "uvicorn                   0.30.6\n",
      "watchdog                  4.0.2\n",
      "watermark                 2.4.3\n",
      "wcwidth                   0.2.13\n",
      "webcolors                 1.13\n",
      "webencodings              0.5.1\n",
      "websocket-client          1.7.0\n",
      "websockets                12.0\n",
      "Werkzeug                  3.0.3\n",
      "wheel                     0.43.0\n",
      "widgetsnbextension        4.0.13\n",
      "wrapt                     1.16.0\n",
      "xgboost                   2.1.1\n",
      "xlrd                      2.0.1\n",
      "zipp                      3.20.0\n",
      "Note: you may need to restart the kernel to use updated packages.\n"
     ]
    }
   ],
   "source": [
    "pip list"
   ]
  },
  {
   "cell_type": "code",
   "execution_count": 1,
   "id": "e4b05e6f-d8d0-4cd8-b698-ee923a419bf1",
   "metadata": {},
   "outputs": [],
   "source": [
    "import pandas as pd\n",
    "import numpy as np\n",
    "import seaborn as sns\n",
    "import matplotlib.pyplot as plt\n",
    "import os\n",
    "from langdetect import detect, DetectorFactory\n",
    "from bs4 import BeautifulSoup\n",
    "\n",
    "import re\n",
    "import nltk\n",
    "from nltk.tokenize import word_tokenize,sent_tokenize\n",
    "from nltk.corpus import stopwords\n",
    "\n",
    "RANDOM_STATE = 42"
   ]
  },
  {
   "cell_type": "markdown",
   "id": "c6bb64f1-a177-40a8-908a-d47af68fac30",
   "metadata": {},
   "source": [
    "### Merge X csv files into a single file"
   ]
  },
  {
   "cell_type": "code",
   "execution_count": 2,
   "id": "2984d171-ee65-47d0-b78b-e9eca4b3c865",
   "metadata": {},
   "outputs": [],
   "source": [
    "#files = [file for file in os.listdir('C:/Users/HP/Downloads/books_data')]\n",
    "\n",
    "# Create an empty Dataframe to concatenate on\n",
    "#all_books_data = pd.DataFrame()\n",
    "\n",
    "#for file in files:\n",
    "#    df = pd.read_csv('C:/Users/HP/Downloads/books_data/'+file)\n",
    "#    all_books_data = pd.concat([all_books_data, df])\n",
    "\n",
    "#all_books_data.to_csv('all_books_data.csv')"
   ]
  },
  {
   "cell_type": "code",
   "execution_count": 3,
   "id": "9056d350-1c6e-4ef9-9505-f86d4d17ffb4",
   "metadata": {},
   "outputs": [],
   "source": [
    "df = pd.read_csv(\"C:/Users/HP/Downloads/all_books_data.xls\")"
   ]
  },
  {
   "cell_type": "code",
   "execution_count": 4,
   "id": "68348439-b42a-4eb3-8267-b25e57c3ce3f",
   "metadata": {},
   "outputs": [],
   "source": [
    "pd.set_option('display.max_colwidth', None)"
   ]
  },
  {
   "cell_type": "code",
   "execution_count": 5,
   "id": "068d596c-2ca9-47ba-9fa3-7f9823fced05",
   "metadata": {
    "scrolled": true
   },
   "outputs": [
    {
     "data": {
      "text/html": [
       "<div>\n",
       "<style scoped>\n",
       "    .dataframe tbody tr th:only-of-type {\n",
       "        vertical-align: middle;\n",
       "    }\n",
       "\n",
       "    .dataframe tbody tr th {\n",
       "        vertical-align: top;\n",
       "    }\n",
       "\n",
       "    .dataframe thead th {\n",
       "        text-align: right;\n",
       "    }\n",
       "</style>\n",
       "<table border=\"1\" class=\"dataframe\">\n",
       "  <thead>\n",
       "    <tr style=\"text-align: right;\">\n",
       "      <th></th>\n",
       "      <th>Unnamed: 0.1</th>\n",
       "      <th>Book_URL</th>\n",
       "      <th>Summary</th>\n",
       "      <th>Genres</th>\n",
       "      <th>Unnamed: 0</th>\n",
       "    </tr>\n",
       "  </thead>\n",
       "  <tbody>\n",
       "    <tr>\n",
       "      <th>0</th>\n",
       "      <td>0</td>\n",
       "      <td>/book/show/18479335-coyote-in-provence</td>\n",
       "      <td>What happens when the very beautiful and sexy Maria Brooks, now Elena Johnson, a woman hiding out in Provence from the California legal authorities, meets Jordan Kramer, a handsome art theft detective from Los Angeles?He's looking for stolen California paintings reportedly for sale in Provence. She's trying to stay under the radar. Both share a love of food and wine. Will Jordan find Pierre, the French chef who's suspected of being the art thief? and who are the young Afghan girls hiding out in his parents' barn?A cozy mystery with great food, art, and romantic suspense at its best.</td>\n",
       "      <td>Food, Mystery, Thriller, Amazon, Suspense, Mystery Thriller, France</td>\n",
       "      <td>NaN</td>\n",
       "    </tr>\n",
       "    <tr>\n",
       "      <th>1</th>\n",
       "      <td>1</td>\n",
       "      <td>/book/show/49823970-more-than-love-a-husband-s-tale</td>\n",
       "      <td>This book developed from a journal of my thoughts and feelings recorded in response to the shock of my wife’s diagnosis of Pancreatic Cancer in December 2015. Initially, I kept it as a personal diary of things that I believed were important at the time, including the poems and prose I wrote which sprang organically from the events as they unfolded. Whilst these few short months were extremely challenging, at times shocking and ultimately tragic, they were also a time of great love. Hopefully, I have captured some of those few moments of pure happiness, humour and joy which I believe will not only help other people touched by cancer but will show sufferers and their families that there is no right or wrong way to behave, just as long as you continue to show how much you care and as much as possible, be there for each other.</td>\n",
       "      <td>Nonfiction, Memoir, Book Club, Inspirational, Education, How To</td>\n",
       "      <td>NaN</td>\n",
       "    </tr>\n",
       "    <tr>\n",
       "      <th>2</th>\n",
       "      <td>2</td>\n",
       "      <td>/book/show/89717.The_Haunting_of_Hill_House</td>\n",
       "      <td>It is the story of four seekers who arrive at a notoriously unfriendly pile called Hill House: Dr. Montague, an occult scholar looking for solid evidence of a \"haunting\"; Theodora, the lighthearted assistant; Eleanor, a friendless, fragile young woman well acquainted with poltergeists; and Luke, the future heir of Hill House. At first, their stay seems destined to be merely a spooky encounter with inexplicable phenomena. But Hill House is gathering its powers—and soon it will choose one of them to make its own.</td>\n",
       "      <td>Horror, Fiction, Gothic, Mystery, Paranormal, Classics, Audiobook</td>\n",
       "      <td>NaN</td>\n",
       "    </tr>\n",
       "    <tr>\n",
       "      <th>3</th>\n",
       "      <td>3</td>\n",
       "      <td>/book/show/51738.Just_Listen</td>\n",
       "      <td>Last year, Annabel was \"the girl who has everything\" — at least that's the part she played in the television commercial for Kopf's Department Store.This year, she's the girl who has nothing: no best friend because mean-but-exciting Sophie dropped her, no peace at home since her older sister became anorexic, and no one to sit with at lunch. Until she meets Owen Armstrong.Tall, dark, and music-obsessed, Owen is a reformed bad boy with a commitment to truth-telling. With Owen's help, maybe Annabel can face what happened the night she and Sophie stopped being friends.</td>\n",
       "      <td>Young Adult, Romance, Contemporary, Fiction, Realistic Fiction, Chick Lit, Teen</td>\n",
       "      <td>NaN</td>\n",
       "    </tr>\n",
       "    <tr>\n",
       "      <th>4</th>\n",
       "      <td>4</td>\n",
       "      <td>/book/show/541920.An_Army_at_Dawn</td>\n",
       "      <td>WINNER OF THE PULITZER PRIZE ANDNEW YORK TIMESBESTSELLERIn the first volume of his monumental trilogy about the liberation of Europe in WW II, Pulitzer Prize winner Rick Atkinson tells the riveting story of the war in North AfricaThe liberation of Europe and the destruction of the Third Reich is a story of courage and enduring triumph, of calamity and miscalculation. In this first volume of the Liberation Trilogy, Rick Atkinson shows why no modern reader can understand the ultimate victory of the Allied powers without a grasp of the great drama that unfolded in North Africa in 1942 and 1943. That first year of the Allied war was a pivotal point in American history, the moment when the United States began to act like a great power.Beginning with the daring amphibious invasion in November 1942, An Army at Dawn follows the American and British armies as they fight the French in Morocco and Algeria, and then take on the Germans and Italians in Tunisia. Battle by battle, an inexperienced and sometimes poorly led army gradually becomes a superb fighting force. Central to the tale are the extraordinary but fallible commanders who come to dominate the battlefield: Eisenhower, Patton, Bradley, Montgomery, and Rommel.Brilliantly researched, rich with new material and vivid insights, Atkinson's narrative provides the definitive history of the war in North Africa.</td>\n",
       "      <td>History, Nonfiction, World War II, Military History, War, Military Fiction, Africa</td>\n",
       "      <td>NaN</td>\n",
       "    </tr>\n",
       "  </tbody>\n",
       "</table>\n",
       "</div>"
      ],
      "text/plain": [
       "   Unnamed: 0.1                                             Book_URL  \\\n",
       "0             0               /book/show/18479335-coyote-in-provence   \n",
       "1             1  /book/show/49823970-more-than-love-a-husband-s-tale   \n",
       "2             2          /book/show/89717.The_Haunting_of_Hill_House   \n",
       "3             3                         /book/show/51738.Just_Listen   \n",
       "4             4                    /book/show/541920.An_Army_at_Dawn   \n",
       "\n",
       "                                                                                                                                                                                                                                                                                                                                                                                                                                                                                                                                                                                                                                                                                                                                                                                                                                                                                                                                                                                                                                                                                                                                                                                                                                                                                                                                                                                                                          Summary  \\\n",
       "0                                                                                                                                                                                                                                                                                                                                                                                                                                                                                                                                                                                                                                                                                                                                                                                                                   What happens when the very beautiful and sexy Maria Brooks, now Elena Johnson, a woman hiding out in Provence from the California legal authorities, meets Jordan Kramer, a handsome art theft detective from Los Angeles?He's looking for stolen California paintings reportedly for sale in Provence. She's trying to stay under the radar. Both share a love of food and wine. Will Jordan find Pierre, the French chef who's suspected of being the art thief? and who are the young Afghan girls hiding out in his parents' barn?A cozy mystery with great food, art, and romantic suspense at its best.   \n",
       "1                                                                                                                                                                                                                                                                                                                                                                                                                                                                                                                                                              This book developed from a journal of my thoughts and feelings recorded in response to the shock of my wife’s diagnosis of Pancreatic Cancer in December 2015. Initially, I kept it as a personal diary of things that I believed were important at the time, including the poems and prose I wrote which sprang organically from the events as they unfolded. Whilst these few short months were extremely challenging, at times shocking and ultimately tragic, they were also a time of great love. Hopefully, I have captured some of those few moments of pure happiness, humour and joy which I believe will not only help other people touched by cancer but will show sufferers and their families that there is no right or wrong way to behave, just as long as you continue to show how much you care and as much as possible, be there for each other.   \n",
       "2                                                                                                                                                                                                                                                                                                                                                                                                                                                                                                                                                                                                                                                                                                                                                                                                                                                                                            It is the story of four seekers who arrive at a notoriously unfriendly pile called Hill House: Dr. Montague, an occult scholar looking for solid evidence of a \"haunting\"; Theodora, the lighthearted assistant; Eleanor, a friendless, fragile young woman well acquainted with poltergeists; and Luke, the future heir of Hill House. At first, their stay seems destined to be merely a spooky encounter with inexplicable phenomena. But Hill House is gathering its powers—and soon it will choose one of them to make its own.   \n",
       "3                                                                                                                                                                                                                                                                                                                                                                                                                                                                                                                                                                                                                                                                                                                                                                                                                                      Last year, Annabel was \"the girl who has everything\" — at least that's the part she played in the television commercial for Kopf's Department Store.This year, she's the girl who has nothing: no best friend because mean-but-exciting Sophie dropped her, no peace at home since her older sister became anorexic, and no one to sit with at lunch. Until she meets Owen Armstrong.Tall, dark, and music-obsessed, Owen is a reformed bad boy with a commitment to truth-telling. With Owen's help, maybe Annabel can face what happened the night she and Sophie stopped being friends.   \n",
       "4  WINNER OF THE PULITZER PRIZE ANDNEW YORK TIMESBESTSELLERIn the first volume of his monumental trilogy about the liberation of Europe in WW II, Pulitzer Prize winner Rick Atkinson tells the riveting story of the war in North AfricaThe liberation of Europe and the destruction of the Third Reich is a story of courage and enduring triumph, of calamity and miscalculation. In this first volume of the Liberation Trilogy, Rick Atkinson shows why no modern reader can understand the ultimate victory of the Allied powers without a grasp of the great drama that unfolded in North Africa in 1942 and 1943. That first year of the Allied war was a pivotal point in American history, the moment when the United States began to act like a great power.Beginning with the daring amphibious invasion in November 1942, An Army at Dawn follows the American and British armies as they fight the French in Morocco and Algeria, and then take on the Germans and Italians in Tunisia. Battle by battle, an inexperienced and sometimes poorly led army gradually becomes a superb fighting force. Central to the tale are the extraordinary but fallible commanders who come to dominate the battlefield: Eisenhower, Patton, Bradley, Montgomery, and Rommel.Brilliantly researched, rich with new material and vivid insights, Atkinson's narrative provides the definitive history of the war in North Africa.   \n",
       "\n",
       "                                                                               Genres  \\\n",
       "0                 Food, Mystery, Thriller, Amazon, Suspense, Mystery Thriller, France   \n",
       "1                     Nonfiction, Memoir, Book Club, Inspirational, Education, How To   \n",
       "2                   Horror, Fiction, Gothic, Mystery, Paranormal, Classics, Audiobook   \n",
       "3     Young Adult, Romance, Contemporary, Fiction, Realistic Fiction, Chick Lit, Teen   \n",
       "4  History, Nonfiction, World War II, Military History, War, Military Fiction, Africa   \n",
       "\n",
       "   Unnamed: 0  \n",
       "0         NaN  \n",
       "1         NaN  \n",
       "2         NaN  \n",
       "3         NaN  \n",
       "4         NaN  "
      ]
     },
     "execution_count": 5,
     "metadata": {},
     "output_type": "execute_result"
    }
   ],
   "source": [
    "df.head()"
   ]
  },
  {
   "cell_type": "code",
   "execution_count": 6,
   "id": "727b7d23-e307-4981-82e7-353093bea961",
   "metadata": {},
   "outputs": [
    {
     "data": {
      "text/plain": [
       "Unnamed: 0.1      int64\n",
       "Book_URL         object\n",
       "Summary          object\n",
       "Genres           object\n",
       "Unnamed: 0      float64\n",
       "dtype: object"
      ]
     },
     "execution_count": 6,
     "metadata": {},
     "output_type": "execute_result"
    }
   ],
   "source": [
    "df.dtypes"
   ]
  },
  {
   "cell_type": "markdown",
   "id": "0a05d3e0-9a72-4ac0-a4d4-84a814785f67",
   "metadata": {},
   "source": [
    "## **2. Pre process Data**"
   ]
  },
  {
   "cell_type": "markdown",
   "id": "a1e6bf6e-2e7a-44bf-8d83-8cafc13f06fe",
   "metadata": {},
   "source": [
    "### **a. Drop unnecessary columns**"
   ]
  },
  {
   "cell_type": "code",
   "execution_count": 7,
   "id": "287d4db2-5f83-48c8-8862-0ba15a1fb798",
   "metadata": {},
   "outputs": [],
   "source": [
    "df.drop(['Unnamed: 0.1', 'Unnamed: 0', 'Book_URL'], axis = 1, inplace = True)"
   ]
  },
  {
   "cell_type": "code",
   "execution_count": 8,
   "id": "5ca1fe5c-d878-4ee1-9552-7b88ca904186",
   "metadata": {
    "scrolled": true
   },
   "outputs": [
    {
     "data": {
      "text/html": [
       "<div>\n",
       "<style scoped>\n",
       "    .dataframe tbody tr th:only-of-type {\n",
       "        vertical-align: middle;\n",
       "    }\n",
       "\n",
       "    .dataframe tbody tr th {\n",
       "        vertical-align: top;\n",
       "    }\n",
       "\n",
       "    .dataframe thead th {\n",
       "        text-align: right;\n",
       "    }\n",
       "</style>\n",
       "<table border=\"1\" class=\"dataframe\">\n",
       "  <thead>\n",
       "    <tr style=\"text-align: right;\">\n",
       "      <th></th>\n",
       "      <th>Summary</th>\n",
       "      <th>Genres</th>\n",
       "    </tr>\n",
       "  </thead>\n",
       "  <tbody>\n",
       "    <tr>\n",
       "      <th>0</th>\n",
       "      <td>What happens when the very beautiful and sexy Maria Brooks, now Elena Johnson, a woman hiding out in Provence from the California legal authorities, meets Jordan Kramer, a handsome art theft detective from Los Angeles?He's looking for stolen California paintings reportedly for sale in Provence. She's trying to stay under the radar. Both share a love of food and wine. Will Jordan find Pierre, the French chef who's suspected of being the art thief? and who are the young Afghan girls hiding out in his parents' barn?A cozy mystery with great food, art, and romantic suspense at its best.</td>\n",
       "      <td>Food, Mystery, Thriller, Amazon, Suspense, Mystery Thriller, France</td>\n",
       "    </tr>\n",
       "    <tr>\n",
       "      <th>1</th>\n",
       "      <td>This book developed from a journal of my thoughts and feelings recorded in response to the shock of my wife’s diagnosis of Pancreatic Cancer in December 2015. Initially, I kept it as a personal diary of things that I believed were important at the time, including the poems and prose I wrote which sprang organically from the events as they unfolded. Whilst these few short months were extremely challenging, at times shocking and ultimately tragic, they were also a time of great love. Hopefully, I have captured some of those few moments of pure happiness, humour and joy which I believe will not only help other people touched by cancer but will show sufferers and their families that there is no right or wrong way to behave, just as long as you continue to show how much you care and as much as possible, be there for each other.</td>\n",
       "      <td>Nonfiction, Memoir, Book Club, Inspirational, Education, How To</td>\n",
       "    </tr>\n",
       "    <tr>\n",
       "      <th>2</th>\n",
       "      <td>It is the story of four seekers who arrive at a notoriously unfriendly pile called Hill House: Dr. Montague, an occult scholar looking for solid evidence of a \"haunting\"; Theodora, the lighthearted assistant; Eleanor, a friendless, fragile young woman well acquainted with poltergeists; and Luke, the future heir of Hill House. At first, their stay seems destined to be merely a spooky encounter with inexplicable phenomena. But Hill House is gathering its powers—and soon it will choose one of them to make its own.</td>\n",
       "      <td>Horror, Fiction, Gothic, Mystery, Paranormal, Classics, Audiobook</td>\n",
       "    </tr>\n",
       "    <tr>\n",
       "      <th>3</th>\n",
       "      <td>Last year, Annabel was \"the girl who has everything\" — at least that's the part she played in the television commercial for Kopf's Department Store.This year, she's the girl who has nothing: no best friend because mean-but-exciting Sophie dropped her, no peace at home since her older sister became anorexic, and no one to sit with at lunch. Until she meets Owen Armstrong.Tall, dark, and music-obsessed, Owen is a reformed bad boy with a commitment to truth-telling. With Owen's help, maybe Annabel can face what happened the night she and Sophie stopped being friends.</td>\n",
       "      <td>Young Adult, Romance, Contemporary, Fiction, Realistic Fiction, Chick Lit, Teen</td>\n",
       "    </tr>\n",
       "    <tr>\n",
       "      <th>4</th>\n",
       "      <td>WINNER OF THE PULITZER PRIZE ANDNEW YORK TIMESBESTSELLERIn the first volume of his monumental trilogy about the liberation of Europe in WW II, Pulitzer Prize winner Rick Atkinson tells the riveting story of the war in North AfricaThe liberation of Europe and the destruction of the Third Reich is a story of courage and enduring triumph, of calamity and miscalculation. In this first volume of the Liberation Trilogy, Rick Atkinson shows why no modern reader can understand the ultimate victory of the Allied powers without a grasp of the great drama that unfolded in North Africa in 1942 and 1943. That first year of the Allied war was a pivotal point in American history, the moment when the United States began to act like a great power.Beginning with the daring amphibious invasion in November 1942, An Army at Dawn follows the American and British armies as they fight the French in Morocco and Algeria, and then take on the Germans and Italians in Tunisia. Battle by battle, an inexperienced and sometimes poorly led army gradually becomes a superb fighting force. Central to the tale are the extraordinary but fallible commanders who come to dominate the battlefield: Eisenhower, Patton, Bradley, Montgomery, and Rommel.Brilliantly researched, rich with new material and vivid insights, Atkinson's narrative provides the definitive history of the war in North Africa.</td>\n",
       "      <td>History, Nonfiction, World War II, Military History, War, Military Fiction, Africa</td>\n",
       "    </tr>\n",
       "  </tbody>\n",
       "</table>\n",
       "</div>"
      ],
      "text/plain": [
       "                                                                                                                                                                                                                                                                                                                                                                                                                                                                                                                                                                                                                                                                                                                                                                                                                                                                                                                                                                                                                                                                                                                                                                                                                                                                                                                                                                                                                          Summary  \\\n",
       "0                                                                                                                                                                                                                                                                                                                                                                                                                                                                                                                                                                                                                                                                                                                                                                                                                   What happens when the very beautiful and sexy Maria Brooks, now Elena Johnson, a woman hiding out in Provence from the California legal authorities, meets Jordan Kramer, a handsome art theft detective from Los Angeles?He's looking for stolen California paintings reportedly for sale in Provence. She's trying to stay under the radar. Both share a love of food and wine. Will Jordan find Pierre, the French chef who's suspected of being the art thief? and who are the young Afghan girls hiding out in his parents' barn?A cozy mystery with great food, art, and romantic suspense at its best.   \n",
       "1                                                                                                                                                                                                                                                                                                                                                                                                                                                                                                                                                              This book developed from a journal of my thoughts and feelings recorded in response to the shock of my wife’s diagnosis of Pancreatic Cancer in December 2015. Initially, I kept it as a personal diary of things that I believed were important at the time, including the poems and prose I wrote which sprang organically from the events as they unfolded. Whilst these few short months were extremely challenging, at times shocking and ultimately tragic, they were also a time of great love. Hopefully, I have captured some of those few moments of pure happiness, humour and joy which I believe will not only help other people touched by cancer but will show sufferers and their families that there is no right or wrong way to behave, just as long as you continue to show how much you care and as much as possible, be there for each other.   \n",
       "2                                                                                                                                                                                                                                                                                                                                                                                                                                                                                                                                                                                                                                                                                                                                                                                                                                                                                            It is the story of four seekers who arrive at a notoriously unfriendly pile called Hill House: Dr. Montague, an occult scholar looking for solid evidence of a \"haunting\"; Theodora, the lighthearted assistant; Eleanor, a friendless, fragile young woman well acquainted with poltergeists; and Luke, the future heir of Hill House. At first, their stay seems destined to be merely a spooky encounter with inexplicable phenomena. But Hill House is gathering its powers—and soon it will choose one of them to make its own.   \n",
       "3                                                                                                                                                                                                                                                                                                                                                                                                                                                                                                                                                                                                                                                                                                                                                                                                                                      Last year, Annabel was \"the girl who has everything\" — at least that's the part she played in the television commercial for Kopf's Department Store.This year, she's the girl who has nothing: no best friend because mean-but-exciting Sophie dropped her, no peace at home since her older sister became anorexic, and no one to sit with at lunch. Until she meets Owen Armstrong.Tall, dark, and music-obsessed, Owen is a reformed bad boy with a commitment to truth-telling. With Owen's help, maybe Annabel can face what happened the night she and Sophie stopped being friends.   \n",
       "4  WINNER OF THE PULITZER PRIZE ANDNEW YORK TIMESBESTSELLERIn the first volume of his monumental trilogy about the liberation of Europe in WW II, Pulitzer Prize winner Rick Atkinson tells the riveting story of the war in North AfricaThe liberation of Europe and the destruction of the Third Reich is a story of courage and enduring triumph, of calamity and miscalculation. In this first volume of the Liberation Trilogy, Rick Atkinson shows why no modern reader can understand the ultimate victory of the Allied powers without a grasp of the great drama that unfolded in North Africa in 1942 and 1943. That first year of the Allied war was a pivotal point in American history, the moment when the United States began to act like a great power.Beginning with the daring amphibious invasion in November 1942, An Army at Dawn follows the American and British armies as they fight the French in Morocco and Algeria, and then take on the Germans and Italians in Tunisia. Battle by battle, an inexperienced and sometimes poorly led army gradually becomes a superb fighting force. Central to the tale are the extraordinary but fallible commanders who come to dominate the battlefield: Eisenhower, Patton, Bradley, Montgomery, and Rommel.Brilliantly researched, rich with new material and vivid insights, Atkinson's narrative provides the definitive history of the war in North Africa.   \n",
       "\n",
       "                                                                               Genres  \n",
       "0                 Food, Mystery, Thriller, Amazon, Suspense, Mystery Thriller, France  \n",
       "1                     Nonfiction, Memoir, Book Club, Inspirational, Education, How To  \n",
       "2                   Horror, Fiction, Gothic, Mystery, Paranormal, Classics, Audiobook  \n",
       "3     Young Adult, Romance, Contemporary, Fiction, Realistic Fiction, Chick Lit, Teen  \n",
       "4  History, Nonfiction, World War II, Military History, War, Military Fiction, Africa  "
      ]
     },
     "execution_count": 8,
     "metadata": {},
     "output_type": "execute_result"
    }
   ],
   "source": [
    "df.head()"
   ]
  },
  {
   "cell_type": "code",
   "execution_count": 9,
   "id": "8d30f571-b557-4b59-a461-3eade75081f0",
   "metadata": {},
   "outputs": [
    {
     "data": {
      "text/plain": [
       "(7500, 2)"
      ]
     },
     "execution_count": 9,
     "metadata": {},
     "output_type": "execute_result"
    }
   ],
   "source": [
    "df.shape"
   ]
  },
  {
   "cell_type": "markdown",
   "id": "7213b83d-7ab9-433a-b561-1238af869976",
   "metadata": {},
   "source": [
    "### **b. Remove Null values**"
   ]
  },
  {
   "cell_type": "code",
   "execution_count": 10,
   "id": "9724bf5d-2386-4931-b98f-e64cd6e0f074",
   "metadata": {},
   "outputs": [
    {
     "data": {
      "text/plain": [
       "Summary    10\n",
       "Genres      0\n",
       "dtype: int64"
      ]
     },
     "execution_count": 10,
     "metadata": {},
     "output_type": "execute_result"
    }
   ],
   "source": [
    "df.isna().sum()"
   ]
  },
  {
   "cell_type": "code",
   "execution_count": 11,
   "id": "02770e8d-c6fd-4280-b87b-6c131e195c7b",
   "metadata": {},
   "outputs": [
    {
     "data": {
      "text/plain": [
       "Summary      0\n",
       "Genres     283\n",
       "dtype: int64"
      ]
     },
     "execution_count": 11,
     "metadata": {},
     "output_type": "execute_result"
    }
   ],
   "source": [
    "(df == 'No genres available').sum()"
   ]
  },
  {
   "cell_type": "code",
   "execution_count": 12,
   "id": "5fe1788e-b291-4d1b-9601-92ba44635dfc",
   "metadata": {},
   "outputs": [
    {
     "data": {
      "text/plain": [
       "Summary    0\n",
       "Genres     0\n",
       "dtype: int64"
      ]
     },
     "execution_count": 12,
     "metadata": {},
     "output_type": "execute_result"
    }
   ],
   "source": [
    "(df == 'Summary not available.').sum()"
   ]
  },
  {
   "cell_type": "code",
   "execution_count": 13,
   "id": "c1584a8c-ac34-4d19-9278-887f6cc7151e",
   "metadata": {},
   "outputs": [
    {
     "data": {
      "text/plain": [
       "Summary    7\n",
       "Genres     0\n",
       "dtype: int64"
      ]
     },
     "execution_count": 13,
     "metadata": {},
     "output_type": "execute_result"
    }
   ],
   "source": [
    "(df == \"Description section not found.\").sum()"
   ]
  },
  {
   "cell_type": "code",
   "execution_count": 14,
   "id": "6c3d536e-83a5-4b04-bd90-9d94630bb314",
   "metadata": {},
   "outputs": [
    {
     "data": {
      "text/plain": [
       "Summary    52\n",
       "Genres      0\n",
       "dtype: int64"
      ]
     },
     "execution_count": 14,
     "metadata": {},
     "output_type": "execute_result"
    }
   ],
   "source": [
    "(df == 'Error fetching summary').sum()"
   ]
  },
  {
   "cell_type": "code",
   "execution_count": 15,
   "id": "4d9e6514-595e-4966-aecc-5f4cee524861",
   "metadata": {},
   "outputs": [
    {
     "data": {
      "text/plain": [
       "Summary     0\n",
       "Genres     52\n",
       "dtype: int64"
      ]
     },
     "execution_count": 15,
     "metadata": {},
     "output_type": "execute_result"
    }
   ],
   "source": [
    "(df == 'Error fetching genre').sum()"
   ]
  },
  {
   "cell_type": "code",
   "execution_count": 16,
   "id": "a75851df-4b96-4fa6-9864-02775d0eed87",
   "metadata": {},
   "outputs": [],
   "source": [
    "df.drop(df[df['Genres'] == 'No genres available'].index, inplace = True)"
   ]
  },
  {
   "cell_type": "code",
   "execution_count": 17,
   "id": "3ee69654-242b-4b91-97f0-5d4c2d7e3c20",
   "metadata": {},
   "outputs": [],
   "source": [
    "df.drop(df[df['Summary'] == 'Description section not found.'].index, inplace = True)"
   ]
  },
  {
   "cell_type": "code",
   "execution_count": 18,
   "id": "e28a9276-1437-46a2-81c9-99eb8da4faf8",
   "metadata": {},
   "outputs": [],
   "source": [
    "df.drop(df[df['Summary'] == 'Error fetching summary'].index, inplace = True)"
   ]
  },
  {
   "cell_type": "code",
   "execution_count": 19,
   "id": "503af130-4d3f-48f0-9308-007ff1cbcffb",
   "metadata": {},
   "outputs": [],
   "source": [
    "df.drop(df[df['Genres'] == 'Error fetching genre'].index, inplace = True)"
   ]
  },
  {
   "cell_type": "code",
   "execution_count": 20,
   "id": "7bb20d21-8557-476f-8ff0-a9edd3c58b82",
   "metadata": {},
   "outputs": [],
   "source": [
    "df.dropna(inplace = True)"
   ]
  },
  {
   "cell_type": "code",
   "execution_count": 21,
   "id": "9fada6e9-c5fd-4958-bfab-470407e8277b",
   "metadata": {},
   "outputs": [
    {
     "data": {
      "text/plain": [
       "(7161, 2)"
      ]
     },
     "execution_count": 21,
     "metadata": {},
     "output_type": "execute_result"
    }
   ],
   "source": [
    "df.shape"
   ]
  },
  {
   "cell_type": "markdown",
   "id": "1b2f71d4-354e-45de-9812-ab93fad33f4a",
   "metadata": {},
   "source": [
    "### **c. Drop Duplicates**"
   ]
  },
  {
   "cell_type": "code",
   "execution_count": 22,
   "id": "fd8b7fc3-5bae-4d84-9046-e2cc77db1a4a",
   "metadata": {},
   "outputs": [
    {
     "data": {
      "text/plain": [
       "False    7130\n",
       "True       31\n",
       "Name: count, dtype: int64"
      ]
     },
     "execution_count": 22,
     "metadata": {},
     "output_type": "execute_result"
    }
   ],
   "source": [
    "df.duplicated(['Summary']).value_counts()\n"
   ]
  },
  {
   "cell_type": "code",
   "execution_count": 23,
   "id": "17bd6940-3a3e-4f93-a6c1-518847411248",
   "metadata": {
    "scrolled": true
   },
   "outputs": [
    {
     "data": {
      "text/html": [
       "<div>\n",
       "<style scoped>\n",
       "    .dataframe tbody tr th:only-of-type {\n",
       "        vertical-align: middle;\n",
       "    }\n",
       "\n",
       "    .dataframe tbody tr th {\n",
       "        vertical-align: top;\n",
       "    }\n",
       "\n",
       "    .dataframe thead th {\n",
       "        text-align: right;\n",
       "    }\n",
       "</style>\n",
       "<table border=\"1\" class=\"dataframe\">\n",
       "  <thead>\n",
       "    <tr style=\"text-align: right;\">\n",
       "      <th></th>\n",
       "      <th>Summary</th>\n",
       "      <th>Genres</th>\n",
       "    </tr>\n",
       "  </thead>\n",
       "  <tbody>\n",
       "    <tr>\n",
       "      <th>1140</th>\n",
       "      <td>People don’t just disappear without a trace....Shelby Tebow is the first to go missing. Not long after, Meredith Dickey and her six-year-old daughter, Delilah, vanish just blocks away from where Shelby was last seen, striking fear into their once-peaceful community. Are these incidents connected? After an elusive search that yields more questions than answers, the case eventually goes cold.Now, 11 years later, Delilah shockingly returns. Everyone wants to know what happened to her, but no one is prepared for what they’ll find....In this smart and chilling thriller, master of suspense andNew York Timesbest-selling author Mary Kubica takes domestic secrets to a whole new level, showing that some people will stop at nothing to keep the truth buried.</td>\n",
       "      <td>Thriller, Mystery, Mystery Thriller, Audiobook, Fiction, Suspense, Crime</td>\n",
       "    </tr>\n",
       "    <tr>\n",
       "      <th>2165</th>\n",
       "      <td>Sometimes discovering the truth can leave you more hopeless than believing the lies…That’s what seventeen-year-old Sky realizes after she meets Dean Holder. A guy with a reputation that rivals her own and an uncanny ability to invoke feelings in her she’s never had before. He terrifies her and captivates her all in the span of just one encounter, and something about the way he makes her feel sparks buried memories from a past that she wishes could just stay buried.Sky struggles to keep him at a distance knowing he’s nothing but trouble, but Holder insists on learning everything about her. After finally caving to his unwavering pursuit, Sky soon finds that Holder isn’t at all who he’s been claiming to be. When the secrets he’s been keeping are finally revealed, every single facet of Sky’s life will change forever.</td>\n",
       "      <td>Romance, New Adult, Young Adult, Contemporary, Fiction, Contemporary Romance, Abuse</td>\n",
       "    </tr>\n",
       "    <tr>\n",
       "      <th>3240</th>\n",
       "      <td>People don’t just disappear without a trace....Shelby Tebow is the first to go missing. Not long after, Meredith Dickey and her six-year-old daughter, Delilah, vanish just blocks away from where Shelby was last seen, striking fear into their once-peaceful community. Are these incidents connected? After an elusive search that yields more questions than answers, the case eventually goes cold.Now, 11 years later, Delilah shockingly returns. Everyone wants to know what happened to her, but no one is prepared for what they’ll find....In this smart and chilling thriller, master of suspense andNew York Timesbest-selling author Mary Kubica takes domestic secrets to a whole new level, showing that some people will stop at nothing to keep the truth buried.</td>\n",
       "      <td>Thriller, Mystery, Mystery Thriller, Audiobook, Fiction, Suspense, Crime</td>\n",
       "    </tr>\n",
       "    <tr>\n",
       "      <th>3852</th>\n",
       "      <td>Written with love, humility, and faith, this brief but poignant volume was first published in 1961 and concerns the death of C. S. Lewis's wife, the American-born poet Joy Davidman. In her introduction to this new edition, Madeleine L'Engle writes: \"I am grateful to Lewis for having the courage to yell, to doubt, to kick at God in angry violence. This is a part of a healthy grief which is not often encouraged. It is helpful indeed that C. S. Lewis, who has been such a successful apologist for Christianity, should have the courage to admit doubt about what he has so superbly proclaimed. It gives us permission to admit our own doubts, our own angers and anguishes, and to know that they are part of the soul's growth.\"Written in longhand in notebooks that Lewis found in his home, A Grief Observed probes the \"mad midnight moments\" of Lewis's mourning and loss, moments in which he questioned what he had previously believed about life and death, marriage, and even God. Indecision and self-pity assailed Lewis. \"We are under the harrow and can't escape,\" he writes. \"I know that the thing I want is exactly the thing I can never get. The old life, the jokes, the drinks, the arguments, the lovemaking, the tiny, heartbreaking commonplace.\" Writing A Grief Observed as \"a defense against total collapse, a safety valve,\" he came to recognize that \"bereavement is a universal and integral part of our experience of love.\"Lewis writes his statement of faith with precision, humor, and grace. Yet neither is Lewis reluctant to confess his continuing doubts and his awareness of his own human frailty. This is precisely the quality which suggests that A Grief Observed may become \"among the great devotional books of our age.\"</td>\n",
       "      <td>Nonfiction, Christian, Religion, Christianity, Theology, Memoir, Classics</td>\n",
       "    </tr>\n",
       "    <tr>\n",
       "      <th>4298</th>\n",
       "      <td>A legendary competition.A mesmerizing romance.An unbreakable bondbetween two sisters.Scarlett Dragna has never left the tiny island where she and her sister, Tella, live with their powerful, and cruel, father. Now Scarlett’s father has arranged a marriage for her, and Scarlett thinks her dreams of seeing Caraval—the faraway, once-a-year performance where the audience participates in the show—are over.But this year, Scarlett’s long-dreamt-of invitation finally arrives. With the help of a mysterious sailor, Tella whisks Scarlett away to the show. Only, as soon as they arrive, Tella is kidnapped by Caraval’s mastermind organizer, Legend. It turns out that this season’s Caraval revolves around Tella, and whoever finds her first is the winner.Scarlett has been told that everything that happens during Caraval is only an elaborate performance. Nevertheless she becomes enmeshed in a game of love, heartbreak, and magic. And whether Caraval is real or not, Scarlett must find Tella before the five nights of the game are over or a dangerous domino effect of consequences will be set off, and her beloved sister will disappear forever.Welcome, welcome toCaraval. . . beware of getting swept too far away.</td>\n",
       "      <td>Fantasy, Young Adult, Romance, Fiction, Mystery, Young Adult Fantasy, Magic</td>\n",
       "    </tr>\n",
       "    <tr>\n",
       "      <th>...</th>\n",
       "      <td>...</td>\n",
       "      <td>...</td>\n",
       "    </tr>\n",
       "    <tr>\n",
       "      <th>7298</th>\n",
       "      <td>This edition makes easily accessible the most important parts of Marx's and Engels's major early philosophical work, The German Ideology, a text of key importance for students.</td>\n",
       "      <td>Philosophy, Politics, Nonfiction, Theory, History, Sociology, Economics</td>\n",
       "    </tr>\n",
       "    <tr>\n",
       "      <th>7299</th>\n",
       "      <td>New York Times Bestseller\"This book may help those who are susceptible to illnesses that can be prevented.\"—His Holiness the Dalai Lama\"Absolutely the best book I've read on nutrition and diet\" –Dan Buettner, author of The Blue Zones SolutionFrom the physician behind the wildly popular NutritionFacts website, How Not to Die reveals the groundbreaking scientific evidence behind the only diet that can prevent and reverse many of the causes of disease-related death.The vast majority of premature deaths can be prevented through simple changes in diet and lifestyle. In How Not to Die, Dr. Michael Greger, the internationally-renowned nutrition expert, physician, and founder of NutritionFacts, examines the fifteen top causes of premature death in America-heart disease, various cancers, diabetes, Parkinson's, high blood pressure, and more-and explains how nutritional and lifestyle interventions can sometimes trump prescription pills and other pharmaceutical and surgical approaches, freeing us to live healthier lives.The simple truth is that most doctors are good at treating acute illnesses but bad at preventing chronic disease. The fifteen leading causes of death claim the lives of 1.6 million Americans annually. This doesn't have to be the case. By following Dr. Greger's advice, all of it backed up by strong scientific evidence, you will learn which foods to eat and which lifestyle changes to make to live longer.History of prostate cancer in your family? Put down that glass of milk and add flaxseed to your diet whenever you can. Have high blood pressure? Hibiscus tea can work better than a leading hypertensive drug-and without the side effects. Fighting off liver disease? Drinking coffee can reduce liver inflammation. Battling breast cancer? Consuming soy is associated with prolonged survival. Worried about heart disease (the number 1 killer in the United States)? Switch to a whole-food, plant-based diet, which has been repeatedly shown not just to prevent the disease but often stop it in its tracks.In addition to showing what to eat to help treat the top fifteen causes of death, How Not to Die includes Dr. Greger's Daily Dozen -a checklist of the twelve foods we should consume every day. Full of practical, actionable advice and surprising, cutting edge nutritional science, these doctor's orders are just what we need to live longer, healthier lives.</td>\n",
       "      <td>Health, Nonfiction, Nutrition, Science, Food, Self Help, Audiobook</td>\n",
       "    </tr>\n",
       "    <tr>\n",
       "      <th>7301</th>\n",
       "      <td>This edition makes easily accessible the most important parts of Marx's and Engels's major early philosophical work, The German Ideology, a text of key importance for students.</td>\n",
       "      <td>Philosophy, Politics, Nonfiction, Theory, History, Sociology, Economics</td>\n",
       "    </tr>\n",
       "    <tr>\n",
       "      <th>7302</th>\n",
       "      <td>New York Times Bestseller\"This book may help those who are susceptible to illnesses that can be prevented.\"—His Holiness the Dalai Lama\"Absolutely the best book I've read on nutrition and diet\" –Dan Buettner, author of The Blue Zones SolutionFrom the physician behind the wildly popular NutritionFacts website, How Not to Die reveals the groundbreaking scientific evidence behind the only diet that can prevent and reverse many of the causes of disease-related death.The vast majority of premature deaths can be prevented through simple changes in diet and lifestyle. In How Not to Die, Dr. Michael Greger, the internationally-renowned nutrition expert, physician, and founder of NutritionFacts, examines the fifteen top causes of premature death in America-heart disease, various cancers, diabetes, Parkinson's, high blood pressure, and more-and explains how nutritional and lifestyle interventions can sometimes trump prescription pills and other pharmaceutical and surgical approaches, freeing us to live healthier lives.The simple truth is that most doctors are good at treating acute illnesses but bad at preventing chronic disease. The fifteen leading causes of death claim the lives of 1.6 million Americans annually. This doesn't have to be the case. By following Dr. Greger's advice, all of it backed up by strong scientific evidence, you will learn which foods to eat and which lifestyle changes to make to live longer.History of prostate cancer in your family? Put down that glass of milk and add flaxseed to your diet whenever you can. Have high blood pressure? Hibiscus tea can work better than a leading hypertensive drug-and without the side effects. Fighting off liver disease? Drinking coffee can reduce liver inflammation. Battling breast cancer? Consuming soy is associated with prolonged survival. Worried about heart disease (the number 1 killer in the United States)? Switch to a whole-food, plant-based diet, which has been repeatedly shown not just to prevent the disease but often stop it in its tracks.In addition to showing what to eat to help treat the top fifteen causes of death, How Not to Die includes Dr. Greger's Daily Dozen -a checklist of the twelve foods we should consume every day. Full of practical, actionable advice and surprising, cutting edge nutritional science, these doctor's orders are just what we need to live longer, healthier lives.</td>\n",
       "      <td>Health, Nonfiction, Nutrition, Science, Food, Self Help, Audiobook</td>\n",
       "    </tr>\n",
       "    <tr>\n",
       "      <th>7430</th>\n",
       "      <td>The boy you love is a legend.Literally. Now he says that you're one too.  Praise for The Levels \"If you like the paranormal romance of TWILIGHT, the mystery of MORTAL INSTRUMENTS,or the intrigue of VAMPIRE ACADEMY and HARRY POTTER then this is for you.\"  -Somerset Reader</td>\n",
       "      <td>Young Adult, Fantasy, Paranormal, Romance, Mythology, Paranormal Romance, Fiction</td>\n",
       "    </tr>\n",
       "  </tbody>\n",
       "</table>\n",
       "<p>62 rows × 2 columns</p>\n",
       "</div>"
      ],
      "text/plain": [
       "                                                                                                                                                                                                                                                                                                                                                                                                                                                                                                                                                                                                                                                                                                                                                                                                                                                                                                                                                                                                                                                                                                                                                                                                                                                                                                                                                                                                                                                                                                                                                                                                                                                                                                                                                                                                                                                                                                                                                                                                                                                                                                                                                                                                                                                                                                                                                                                                                                                                               Summary  \\\n",
       "1140                                                                                                                                                                                                                                                                                                                                                                                                                                                                                                                                                                                                                                                                                                                                                                                                                                                                                                                                                                                                                                                                                                                                                                                                                                                                                                                                                                                                                                                                                                                                                                                                                                                                                              People don’t just disappear without a trace....Shelby Tebow is the first to go missing. Not long after, Meredith Dickey and her six-year-old daughter, Delilah, vanish just blocks away from where Shelby was last seen, striking fear into their once-peaceful community. Are these incidents connected? After an elusive search that yields more questions than answers, the case eventually goes cold.Now, 11 years later, Delilah shockingly returns. Everyone wants to know what happened to her, but no one is prepared for what they’ll find....In this smart and chilling thriller, master of suspense andNew York Timesbest-selling author Mary Kubica takes domestic secrets to a whole new level, showing that some people will stop at nothing to keep the truth buried.   \n",
       "2165                                                                                                                                                                                                                                                                                                                                                                                                                                                                                                                                                                                                                                                                                                                                                                                                                                                                                                                                                                                                                                                                                                                                                                                                                                                                                                                                                                                                                                                                                                                                                                                                                          Sometimes discovering the truth can leave you more hopeless than believing the lies…That’s what seventeen-year-old Sky realizes after she meets Dean Holder. A guy with a reputation that rivals her own and an uncanny ability to invoke feelings in her she’s never had before. He terrifies her and captivates her all in the span of just one encounter, and something about the way he makes her feel sparks buried memories from a past that she wishes could just stay buried.Sky struggles to keep him at a distance knowing he’s nothing but trouble, but Holder insists on learning everything about her. After finally caving to his unwavering pursuit, Sky soon finds that Holder isn’t at all who he’s been claiming to be. When the secrets he’s been keeping are finally revealed, every single facet of Sky’s life will change forever.   \n",
       "3240                                                                                                                                                                                                                                                                                                                                                                                                                                                                                                                                                                                                                                                                                                                                                                                                                                                                                                                                                                                                                                                                                                                                                                                                                                                                                                                                                                                                                                                                                                                                                                                                                                                                                              People don’t just disappear without a trace....Shelby Tebow is the first to go missing. Not long after, Meredith Dickey and her six-year-old daughter, Delilah, vanish just blocks away from where Shelby was last seen, striking fear into their once-peaceful community. Are these incidents connected? After an elusive search that yields more questions than answers, the case eventually goes cold.Now, 11 years later, Delilah shockingly returns. Everyone wants to know what happened to her, but no one is prepared for what they’ll find....In this smart and chilling thriller, master of suspense andNew York Timesbest-selling author Mary Kubica takes domestic secrets to a whole new level, showing that some people will stop at nothing to keep the truth buried.   \n",
       "3852                                                                                                                                                                                                                                                                                                                                                                                                                                                                                                                                                                                                                                                                                  Written with love, humility, and faith, this brief but poignant volume was first published in 1961 and concerns the death of C. S. Lewis's wife, the American-born poet Joy Davidman. In her introduction to this new edition, Madeleine L'Engle writes: \"I am grateful to Lewis for having the courage to yell, to doubt, to kick at God in angry violence. This is a part of a healthy grief which is not often encouraged. It is helpful indeed that C. S. Lewis, who has been such a successful apologist for Christianity, should have the courage to admit doubt about what he has so superbly proclaimed. It gives us permission to admit our own doubts, our own angers and anguishes, and to know that they are part of the soul's growth.\"Written in longhand in notebooks that Lewis found in his home, A Grief Observed probes the \"mad midnight moments\" of Lewis's mourning and loss, moments in which he questioned what he had previously believed about life and death, marriage, and even God. Indecision and self-pity assailed Lewis. \"We are under the harrow and can't escape,\" he writes. \"I know that the thing I want is exactly the thing I can never get. The old life, the jokes, the drinks, the arguments, the lovemaking, the tiny, heartbreaking commonplace.\" Writing A Grief Observed as \"a defense against total collapse, a safety valve,\" he came to recognize that \"bereavement is a universal and integral part of our experience of love.\"Lewis writes his statement of faith with precision, humor, and grace. Yet neither is Lewis reluctant to confess his continuing doubts and his awareness of his own human frailty. This is precisely the quality which suggests that A Grief Observed may become \"among the great devotional books of our age.\"   \n",
       "4298                                                                                                                                                                                                                                                                                                                                                                                                                                                                                                                                                                                                                                                                                                                                                                                                                                                                                                                                                                                                                                                                                                                                                                                                                           A legendary competition.A mesmerizing romance.An unbreakable bondbetween two sisters.Scarlett Dragna has never left the tiny island where she and her sister, Tella, live with their powerful, and cruel, father. Now Scarlett’s father has arranged a marriage for her, and Scarlett thinks her dreams of seeing Caraval—the faraway, once-a-year performance where the audience participates in the show—are over.But this year, Scarlett’s long-dreamt-of invitation finally arrives. With the help of a mysterious sailor, Tella whisks Scarlett away to the show. Only, as soon as they arrive, Tella is kidnapped by Caraval’s mastermind organizer, Legend. It turns out that this season’s Caraval revolves around Tella, and whoever finds her first is the winner.Scarlett has been told that everything that happens during Caraval is only an elaborate performance. Nevertheless she becomes enmeshed in a game of love, heartbreak, and magic. And whether Caraval is real or not, Scarlett must find Tella before the five nights of the game are over or a dangerous domino effect of consequences will be set off, and her beloved sister will disappear forever.Welcome, welcome toCaraval. . . beware of getting swept too far away.   \n",
       "...                                                                                                                                                                                                                                                                                                                                                                                                                                                                                                                                                                                                                                                                                                                                                                                                                                                                                                                                                                                                                                                                                                                                                                                                                                                                                                                                                                                                                                                                                                                                                                                                                                                                                                                                                                                                                                                                                                                                                                                                                                                                                                                                                                                                                                                                                                                                                                                                                                                                                ...   \n",
       "7298                                                                                                                                                                                                                                                                                                                                                                                                                                                                                                                                                                                                                                                                                                                                                                                                                                                                                                                                                                                                                                                                                                                                                                                                                                                                                                                                                                                                                                                                                                                                                                                                                                                                                                                                                                                                                                                                                                                                                                                                                                                                                                                                                                                                                                                                                                  This edition makes easily accessible the most important parts of Marx's and Engels's major early philosophical work, The German Ideology, a text of key importance for students.   \n",
       "7299  New York Times Bestseller\"This book may help those who are susceptible to illnesses that can be prevented.\"—His Holiness the Dalai Lama\"Absolutely the best book I've read on nutrition and diet\" –Dan Buettner, author of The Blue Zones SolutionFrom the physician behind the wildly popular NutritionFacts website, How Not to Die reveals the groundbreaking scientific evidence behind the only diet that can prevent and reverse many of the causes of disease-related death.The vast majority of premature deaths can be prevented through simple changes in diet and lifestyle. In How Not to Die, Dr. Michael Greger, the internationally-renowned nutrition expert, physician, and founder of NutritionFacts, examines the fifteen top causes of premature death in America-heart disease, various cancers, diabetes, Parkinson's, high blood pressure, and more-and explains how nutritional and lifestyle interventions can sometimes trump prescription pills and other pharmaceutical and surgical approaches, freeing us to live healthier lives.The simple truth is that most doctors are good at treating acute illnesses but bad at preventing chronic disease. The fifteen leading causes of death claim the lives of 1.6 million Americans annually. This doesn't have to be the case. By following Dr. Greger's advice, all of it backed up by strong scientific evidence, you will learn which foods to eat and which lifestyle changes to make to live longer.History of prostate cancer in your family? Put down that glass of milk and add flaxseed to your diet whenever you can. Have high blood pressure? Hibiscus tea can work better than a leading hypertensive drug-and without the side effects. Fighting off liver disease? Drinking coffee can reduce liver inflammation. Battling breast cancer? Consuming soy is associated with prolonged survival. Worried about heart disease (the number 1 killer in the United States)? Switch to a whole-food, plant-based diet, which has been repeatedly shown not just to prevent the disease but often stop it in its tracks.In addition to showing what to eat to help treat the top fifteen causes of death, How Not to Die includes Dr. Greger's Daily Dozen -a checklist of the twelve foods we should consume every day. Full of practical, actionable advice and surprising, cutting edge nutritional science, these doctor's orders are just what we need to live longer, healthier lives.   \n",
       "7301                                                                                                                                                                                                                                                                                                                                                                                                                                                                                                                                                                                                                                                                                                                                                                                                                                                                                                                                                                                                                                                                                                                                                                                                                                                                                                                                                                                                                                                                                                                                                                                                                                                                                                                                                                                                                                                                                                                                                                                                                                                                                                                                                                                                                                                                                                  This edition makes easily accessible the most important parts of Marx's and Engels's major early philosophical work, The German Ideology, a text of key importance for students.   \n",
       "7302  New York Times Bestseller\"This book may help those who are susceptible to illnesses that can be prevented.\"—His Holiness the Dalai Lama\"Absolutely the best book I've read on nutrition and diet\" –Dan Buettner, author of The Blue Zones SolutionFrom the physician behind the wildly popular NutritionFacts website, How Not to Die reveals the groundbreaking scientific evidence behind the only diet that can prevent and reverse many of the causes of disease-related death.The vast majority of premature deaths can be prevented through simple changes in diet and lifestyle. In How Not to Die, Dr. Michael Greger, the internationally-renowned nutrition expert, physician, and founder of NutritionFacts, examines the fifteen top causes of premature death in America-heart disease, various cancers, diabetes, Parkinson's, high blood pressure, and more-and explains how nutritional and lifestyle interventions can sometimes trump prescription pills and other pharmaceutical and surgical approaches, freeing us to live healthier lives.The simple truth is that most doctors are good at treating acute illnesses but bad at preventing chronic disease. The fifteen leading causes of death claim the lives of 1.6 million Americans annually. This doesn't have to be the case. By following Dr. Greger's advice, all of it backed up by strong scientific evidence, you will learn which foods to eat and which lifestyle changes to make to live longer.History of prostate cancer in your family? Put down that glass of milk and add flaxseed to your diet whenever you can. Have high blood pressure? Hibiscus tea can work better than a leading hypertensive drug-and without the side effects. Fighting off liver disease? Drinking coffee can reduce liver inflammation. Battling breast cancer? Consuming soy is associated with prolonged survival. Worried about heart disease (the number 1 killer in the United States)? Switch to a whole-food, plant-based diet, which has been repeatedly shown not just to prevent the disease but often stop it in its tracks.In addition to showing what to eat to help treat the top fifteen causes of death, How Not to Die includes Dr. Greger's Daily Dozen -a checklist of the twelve foods we should consume every day. Full of practical, actionable advice and surprising, cutting edge nutritional science, these doctor's orders are just what we need to live longer, healthier lives.   \n",
       "7430                                                                                                                                                                                                                                                                                                                                                                                                                                                                                                                                                                                                                                                                                                                                                                                                                                                                                                                                                                                                                                                                                                                                                                                                                                                                                                                                                                                                                                                                                                                                                                                                                                                                                                                                                                                                                                                                                                                                                                                                                                                                                                                                                                                                   The boy you love is a legend.Literally. Now he says that you're one too.  Praise for The Levels \"If you like the paranormal romance of TWILIGHT, the mystery of MORTAL INSTRUMENTS,or the intrigue of VAMPIRE ACADEMY and HARRY POTTER then this is for you.\"  -Somerset Reader   \n",
       "\n",
       "                                                                                   Genres  \n",
       "1140             Thriller, Mystery, Mystery Thriller, Audiobook, Fiction, Suspense, Crime  \n",
       "2165  Romance, New Adult, Young Adult, Contemporary, Fiction, Contemporary Romance, Abuse  \n",
       "3240             Thriller, Mystery, Mystery Thriller, Audiobook, Fiction, Suspense, Crime  \n",
       "3852            Nonfiction, Christian, Religion, Christianity, Theology, Memoir, Classics  \n",
       "4298          Fantasy, Young Adult, Romance, Fiction, Mystery, Young Adult Fantasy, Magic  \n",
       "...                                                                                   ...  \n",
       "7298              Philosophy, Politics, Nonfiction, Theory, History, Sociology, Economics  \n",
       "7299                   Health, Nonfiction, Nutrition, Science, Food, Self Help, Audiobook  \n",
       "7301              Philosophy, Politics, Nonfiction, Theory, History, Sociology, Economics  \n",
       "7302                   Health, Nonfiction, Nutrition, Science, Food, Self Help, Audiobook  \n",
       "7430    Young Adult, Fantasy, Paranormal, Romance, Mythology, Paranormal Romance, Fiction  \n",
       "\n",
       "[62 rows x 2 columns]"
      ]
     },
     "execution_count": 23,
     "metadata": {},
     "output_type": "execute_result"
    }
   ],
   "source": [
    "df[df.duplicated(subset = ['Summary'], keep = False)]"
   ]
  },
  {
   "cell_type": "code",
   "execution_count": 24,
   "id": "b0b09567-3518-416a-96ea-4f3a89a85068",
   "metadata": {},
   "outputs": [],
   "source": [
    "df.drop_duplicates(inplace = True)"
   ]
  },
  {
   "cell_type": "markdown",
   "id": "778f222d-6730-41db-b70e-649621f3a863",
   "metadata": {},
   "source": [
    "### **d. Remove Summaries in languages other than English**"
   ]
  },
  {
   "cell_type": "code",
   "execution_count": 25,
   "id": "65917c4c-f90b-4676-9d32-3f8b0bde3463",
   "metadata": {},
   "outputs": [
    {
     "data": {
      "text/plain": [
       "'36歳未婚女性、古倉恵子。大学卒業後も就職せず、コンビニのバイトは18年目。これまで彼氏なし。オープン当初からスマイルマート日色駅前店で働き続け、変わりゆくメンバーを見送りながら、店長は8人目だ。日々食べるのはコンビニ食、夢の中でもコンビニのレジを打ち、清潔なコンビニの風景と「いらっしゃいませ!」の掛け声が、毎日の安らかな眠りをもたらしてくれる。仕事も家庭もある同窓生たちからどんなに不思議がられても、完璧なマニュアルの存在するコンビニこそが、私を世界の正常な「部品」にしてくれる――。ある日、婚活目的の新入り男性、白羽がやってきて、そんなコンビニ的生き方は「恥ずかしくないのか」とつきつけられるが……。現代の実存を問い、正常と異常の境目がゆらぐ衝撃のリアリズム小説。'"
      ]
     },
     "execution_count": 25,
     "metadata": {},
     "output_type": "execute_result"
    }
   ],
   "source": [
    "df.loc[5287,'Summary']"
   ]
  },
  {
   "cell_type": "code",
   "execution_count": 26,
   "id": "c84fc1c6-76f7-4715-8b6b-89ed7fa9623b",
   "metadata": {},
   "outputs": [],
   "source": [
    "DetectorFactory.seed = 0\n",
    "\n",
    "def detect_language(text):\n",
    "    try:\n",
    "        return detect(text)\n",
    "    except:\n",
    "        return 'unknown'"
   ]
  },
  {
   "cell_type": "code",
   "execution_count": 27,
   "id": "8db86a68-262a-4ab7-be98-b03ad745a81b",
   "metadata": {},
   "outputs": [],
   "source": [
    "df['Language'] = df['Summary'].apply(detect_language)"
   ]
  },
  {
   "cell_type": "code",
   "execution_count": 28,
   "id": "aac3eca5-6505-4a1d-a537-5205e282f6cc",
   "metadata": {
    "scrolled": true
   },
   "outputs": [
    {
     "data": {
      "text/html": [
       "<div>\n",
       "<style scoped>\n",
       "    .dataframe tbody tr th:only-of-type {\n",
       "        vertical-align: middle;\n",
       "    }\n",
       "\n",
       "    .dataframe tbody tr th {\n",
       "        vertical-align: top;\n",
       "    }\n",
       "\n",
       "    .dataframe thead th {\n",
       "        text-align: right;\n",
       "    }\n",
       "</style>\n",
       "<table border=\"1\" class=\"dataframe\">\n",
       "  <thead>\n",
       "    <tr style=\"text-align: right;\">\n",
       "      <th></th>\n",
       "      <th>Summary</th>\n",
       "      <th>Genres</th>\n",
       "      <th>Language</th>\n",
       "    </tr>\n",
       "  </thead>\n",
       "  <tbody>\n",
       "    <tr>\n",
       "      <th>0</th>\n",
       "      <td>What happens when the very beautiful and sexy Maria Brooks, now Elena Johnson, a woman hiding out in Provence from the California legal authorities, meets Jordan Kramer, a handsome art theft detective from Los Angeles?He's looking for stolen California paintings reportedly for sale in Provence. She's trying to stay under the radar. Both share a love of food and wine. Will Jordan find Pierre, the French chef who's suspected of being the art thief? and who are the young Afghan girls hiding out in his parents' barn?A cozy mystery with great food, art, and romantic suspense at its best.</td>\n",
       "      <td>Food, Mystery, Thriller, Amazon, Suspense, Mystery Thriller, France</td>\n",
       "      <td>en</td>\n",
       "    </tr>\n",
       "    <tr>\n",
       "      <th>1</th>\n",
       "      <td>This book developed from a journal of my thoughts and feelings recorded in response to the shock of my wife’s diagnosis of Pancreatic Cancer in December 2015. Initially, I kept it as a personal diary of things that I believed were important at the time, including the poems and prose I wrote which sprang organically from the events as they unfolded. Whilst these few short months were extremely challenging, at times shocking and ultimately tragic, they were also a time of great love. Hopefully, I have captured some of those few moments of pure happiness, humour and joy which I believe will not only help other people touched by cancer but will show sufferers and their families that there is no right or wrong way to behave, just as long as you continue to show how much you care and as much as possible, be there for each other.</td>\n",
       "      <td>Nonfiction, Memoir, Book Club, Inspirational, Education, How To</td>\n",
       "      <td>en</td>\n",
       "    </tr>\n",
       "    <tr>\n",
       "      <th>2</th>\n",
       "      <td>It is the story of four seekers who arrive at a notoriously unfriendly pile called Hill House: Dr. Montague, an occult scholar looking for solid evidence of a \"haunting\"; Theodora, the lighthearted assistant; Eleanor, a friendless, fragile young woman well acquainted with poltergeists; and Luke, the future heir of Hill House. At first, their stay seems destined to be merely a spooky encounter with inexplicable phenomena. But Hill House is gathering its powers—and soon it will choose one of them to make its own.</td>\n",
       "      <td>Horror, Fiction, Gothic, Mystery, Paranormal, Classics, Audiobook</td>\n",
       "      <td>en</td>\n",
       "    </tr>\n",
       "    <tr>\n",
       "      <th>3</th>\n",
       "      <td>Last year, Annabel was \"the girl who has everything\" — at least that's the part she played in the television commercial for Kopf's Department Store.This year, she's the girl who has nothing: no best friend because mean-but-exciting Sophie dropped her, no peace at home since her older sister became anorexic, and no one to sit with at lunch. Until she meets Owen Armstrong.Tall, dark, and music-obsessed, Owen is a reformed bad boy with a commitment to truth-telling. With Owen's help, maybe Annabel can face what happened the night she and Sophie stopped being friends.</td>\n",
       "      <td>Young Adult, Romance, Contemporary, Fiction, Realistic Fiction, Chick Lit, Teen</td>\n",
       "      <td>en</td>\n",
       "    </tr>\n",
       "    <tr>\n",
       "      <th>4</th>\n",
       "      <td>WINNER OF THE PULITZER PRIZE ANDNEW YORK TIMESBESTSELLERIn the first volume of his monumental trilogy about the liberation of Europe in WW II, Pulitzer Prize winner Rick Atkinson tells the riveting story of the war in North AfricaThe liberation of Europe and the destruction of the Third Reich is a story of courage and enduring triumph, of calamity and miscalculation. In this first volume of the Liberation Trilogy, Rick Atkinson shows why no modern reader can understand the ultimate victory of the Allied powers without a grasp of the great drama that unfolded in North Africa in 1942 and 1943. That first year of the Allied war was a pivotal point in American history, the moment when the United States began to act like a great power.Beginning with the daring amphibious invasion in November 1942, An Army at Dawn follows the American and British armies as they fight the French in Morocco and Algeria, and then take on the Germans and Italians in Tunisia. Battle by battle, an inexperienced and sometimes poorly led army gradually becomes a superb fighting force. Central to the tale are the extraordinary but fallible commanders who come to dominate the battlefield: Eisenhower, Patton, Bradley, Montgomery, and Rommel.Brilliantly researched, rich with new material and vivid insights, Atkinson's narrative provides the definitive history of the war in North Africa.</td>\n",
       "      <td>History, Nonfiction, World War II, Military History, War, Military Fiction, Africa</td>\n",
       "      <td>en</td>\n",
       "    </tr>\n",
       "  </tbody>\n",
       "</table>\n",
       "</div>"
      ],
      "text/plain": [
       "                                                                                                                                                                                                                                                                                                                                                                                                                                                                                                                                                                                                                                                                                                                                                                                                                                                                                                                                                                                                                                                                                                                                                                                                                                                                                                                                                                                                                          Summary  \\\n",
       "0                                                                                                                                                                                                                                                                                                                                                                                                                                                                                                                                                                                                                                                                                                                                                                                                                   What happens when the very beautiful and sexy Maria Brooks, now Elena Johnson, a woman hiding out in Provence from the California legal authorities, meets Jordan Kramer, a handsome art theft detective from Los Angeles?He's looking for stolen California paintings reportedly for sale in Provence. She's trying to stay under the radar. Both share a love of food and wine. Will Jordan find Pierre, the French chef who's suspected of being the art thief? and who are the young Afghan girls hiding out in his parents' barn?A cozy mystery with great food, art, and romantic suspense at its best.   \n",
       "1                                                                                                                                                                                                                                                                                                                                                                                                                                                                                                                                                              This book developed from a journal of my thoughts and feelings recorded in response to the shock of my wife’s diagnosis of Pancreatic Cancer in December 2015. Initially, I kept it as a personal diary of things that I believed were important at the time, including the poems and prose I wrote which sprang organically from the events as they unfolded. Whilst these few short months were extremely challenging, at times shocking and ultimately tragic, they were also a time of great love. Hopefully, I have captured some of those few moments of pure happiness, humour and joy which I believe will not only help other people touched by cancer but will show sufferers and their families that there is no right or wrong way to behave, just as long as you continue to show how much you care and as much as possible, be there for each other.   \n",
       "2                                                                                                                                                                                                                                                                                                                                                                                                                                                                                                                                                                                                                                                                                                                                                                                                                                                                                            It is the story of four seekers who arrive at a notoriously unfriendly pile called Hill House: Dr. Montague, an occult scholar looking for solid evidence of a \"haunting\"; Theodora, the lighthearted assistant; Eleanor, a friendless, fragile young woman well acquainted with poltergeists; and Luke, the future heir of Hill House. At first, their stay seems destined to be merely a spooky encounter with inexplicable phenomena. But Hill House is gathering its powers—and soon it will choose one of them to make its own.   \n",
       "3                                                                                                                                                                                                                                                                                                                                                                                                                                                                                                                                                                                                                                                                                                                                                                                                                                      Last year, Annabel was \"the girl who has everything\" — at least that's the part she played in the television commercial for Kopf's Department Store.This year, she's the girl who has nothing: no best friend because mean-but-exciting Sophie dropped her, no peace at home since her older sister became anorexic, and no one to sit with at lunch. Until she meets Owen Armstrong.Tall, dark, and music-obsessed, Owen is a reformed bad boy with a commitment to truth-telling. With Owen's help, maybe Annabel can face what happened the night she and Sophie stopped being friends.   \n",
       "4  WINNER OF THE PULITZER PRIZE ANDNEW YORK TIMESBESTSELLERIn the first volume of his monumental trilogy about the liberation of Europe in WW II, Pulitzer Prize winner Rick Atkinson tells the riveting story of the war in North AfricaThe liberation of Europe and the destruction of the Third Reich is a story of courage and enduring triumph, of calamity and miscalculation. In this first volume of the Liberation Trilogy, Rick Atkinson shows why no modern reader can understand the ultimate victory of the Allied powers without a grasp of the great drama that unfolded in North Africa in 1942 and 1943. That first year of the Allied war was a pivotal point in American history, the moment when the United States began to act like a great power.Beginning with the daring amphibious invasion in November 1942, An Army at Dawn follows the American and British armies as they fight the French in Morocco and Algeria, and then take on the Germans and Italians in Tunisia. Battle by battle, an inexperienced and sometimes poorly led army gradually becomes a superb fighting force. Central to the tale are the extraordinary but fallible commanders who come to dominate the battlefield: Eisenhower, Patton, Bradley, Montgomery, and Rommel.Brilliantly researched, rich with new material and vivid insights, Atkinson's narrative provides the definitive history of the war in North Africa.   \n",
       "\n",
       "                                                                               Genres  \\\n",
       "0                 Food, Mystery, Thriller, Amazon, Suspense, Mystery Thriller, France   \n",
       "1                     Nonfiction, Memoir, Book Club, Inspirational, Education, How To   \n",
       "2                   Horror, Fiction, Gothic, Mystery, Paranormal, Classics, Audiobook   \n",
       "3     Young Adult, Romance, Contemporary, Fiction, Realistic Fiction, Chick Lit, Teen   \n",
       "4  History, Nonfiction, World War II, Military History, War, Military Fiction, Africa   \n",
       "\n",
       "  Language  \n",
       "0       en  \n",
       "1       en  \n",
       "2       en  \n",
       "3       en  \n",
       "4       en  "
      ]
     },
     "execution_count": 28,
     "metadata": {},
     "output_type": "execute_result"
    }
   ],
   "source": [
    "df.head()"
   ]
  },
  {
   "cell_type": "code",
   "execution_count": 29,
   "id": "dfea7f3a-061f-4de0-a205-cc46f0779eed",
   "metadata": {
    "scrolled": true
   },
   "outputs": [
    {
     "data": {
      "text/plain": [
       "Language\n",
       "en    7030\n",
       "fr      25\n",
       "es      17\n",
       "de      14\n",
       "ro      12\n",
       "it       5\n",
       "pt       5\n",
       "ar       4\n",
       "sv       3\n",
       "nl       3\n",
       "hu       2\n",
       "pl       2\n",
       "ja       1\n",
       "et       1\n",
       "bg       1\n",
       "tr       1\n",
       "af       1\n",
       "sq       1\n",
       "no       1\n",
       "da       1\n",
       "hr       1\n",
       "tl       1\n",
       "Name: count, dtype: int64"
      ]
     },
     "execution_count": 29,
     "metadata": {},
     "output_type": "execute_result"
    }
   ],
   "source": [
    "df['Language'].value_counts()"
   ]
  },
  {
   "cell_type": "code",
   "execution_count": 30,
   "id": "cc0c83df-0c5d-4138-af64-15775e2b9127",
   "metadata": {
    "scrolled": true
   },
   "outputs": [
    {
     "data": {
      "text/html": [
       "<div>\n",
       "<style scoped>\n",
       "    .dataframe tbody tr th:only-of-type {\n",
       "        vertical-align: middle;\n",
       "    }\n",
       "\n",
       "    .dataframe tbody tr th {\n",
       "        vertical-align: top;\n",
       "    }\n",
       "\n",
       "    .dataframe thead th {\n",
       "        text-align: right;\n",
       "    }\n",
       "</style>\n",
       "<table border=\"1\" class=\"dataframe\">\n",
       "  <thead>\n",
       "    <tr style=\"text-align: right;\">\n",
       "      <th></th>\n",
       "      <th>Summary</th>\n",
       "      <th>Genres</th>\n",
       "      <th>Language</th>\n",
       "    </tr>\n",
       "  </thead>\n",
       "  <tbody>\n",
       "    <tr>\n",
       "      <th>235</th>\n",
       "      <td>Wie alle Hauptwerke Hermann Hesses hat auch der Demian, den der damals 40jährige Autor mitten im Ersten Weltkrieg schrieb, eine ebenso ungewöhnliche wie spannende Entstehungs- und Wirkungsgeschichte. Daß dieses im Herbst 1917 vollendete Buch erst im Juni 1919, ein halbes Jahr nach Kriegsende, veröffentlicht wurde, lag an der Unbekanntheit des Verfassers. Denn Hesse hatte das Manuskript dem Verlag als das Erstlingswerk eines kranken jungen Dichters empfohlen, des zeitkritischen Poeten Emil Sinclair, der bisher nur in Zeitungen und Zeitschriften durch pazifistische Mahnrufe und Erzählungen aufgefallen war (die gleichfalls von Hesse stammten). Doch trotz des Inkognitos erlebte das Buch eine geradezu stürmische Aufnahme und wurde noch im Erscheinungsjahr mit dem Fontane-Preis für das beste Erstlingswerk eines Nachwuchsautors ausgezeichnet. Thomas Mann verglich die elektrisierende Wirkung des Buches mit der von Goethes Werther, da es »mit unheimlicher Genauigkeit den Nerv der Zeit traf und eine ganze Jugend, die wähnte aus ihrer Mitte sei ihr ein Künder ihres tiefsten Lebens entstanden, zu dankbarem Entzücken hinriß«. Bis zur Entdeckung des Pseudonyms im Mai 1920 erschienen drei Auflagen, denen dann unter Hesses eigenem Namen zu seinen Lebzeiten noch 93 weitere folgten.</td>\n",
       "      <td>Fiction, Philosophy, German Literature, Literature, Novels, Germany, Coming Of Age</td>\n",
       "      <td>de</td>\n",
       "    </tr>\n",
       "    <tr>\n",
       "      <th>640</th>\n",
       "      <td>Tres tazas de te( La lucha de un hombre por promover la paz escuela a escuela = Three Cups of Tea) &lt;&gt; Paperback &lt;&gt; GregMortenson &lt;&gt; RocaEditorial</td>\n",
       "      <td>Nonfiction, Memoir, Biography, Travel, Education, Book Club, Biography Memoir</td>\n",
       "      <td>es</td>\n",
       "    </tr>\n",
       "    <tr>\n",
       "      <th>661</th>\n",
       "      <td>Jeden anderen hätte Brittany Ellis, wohlbehütete Beauty Queen und unangefochtene Nr. 1 an der Schule, lieber als Chemiepartner gehabt als Alex Fuentes, den zugegebenermaßen attraktiven Leader einer Gang. Und auch Alex weiß: eine explosivere Mischung als ihn und die reiche »Miss Perfecta« kann es kaum geben. Dennoch wettet er mit seinen Freunden: Binnen 14 Tagen wird es ihm gelingen, die schöne Brittany zu verführen. Womit keiner gerechnet hat: Dass aus dem gefährlichen Spiel alsbald gefährlicher Ernst wird, denn Brittany und Alex verlieben sich mit Haut und Haaren ineinander. Das aber kann die Gang, der Alex angehört, nicht zulassen …</td>\n",
       "      <td>Romance, Young Adult, Contemporary, High School, Contemporary Romance, Fiction, New Adult</td>\n",
       "      <td>de</td>\n",
       "    </tr>\n",
       "    <tr>\n",
       "      <th>696</th>\n",
       "      <td>Glen Runciter está muerto. ¿O lo están todos los demás? Lo que es seguro es que alguien ha muerto en una explosión organizada por los competidores de Runciter. De hecho, sus empleados asisten a un funeral. Pero durante el duelo comienzan a recibir mensajes descorcentantes, e incluso morbosos, de su jefe. Y el mundo a su alrededor comienza a desmoronarse de un modo que sugiere que a ellos tampoco les queda mucho tiempo.Esta mordaz comedia metafísica de muerte y salvación (que podrá llevar un cómodo envase) es un tour de force de amenaza paranoica y comedia absurda, en la cual los muertos ofrecen consejos comerciales, compran su siguiente reencarnación y corren el riesgo continuo de volver a morir.</td>\n",
       "      <td>Science Fiction, Fiction, Classics, Novels, Science Fiction Fantasy, Mystery, Audiobook</td>\n",
       "      <td>es</td>\n",
       "    </tr>\n",
       "    <tr>\n",
       "      <th>719</th>\n",
       "      <td>Durata: 4 ore e 7 minutiGiappone, inizi degli anni '70. In un paese già scosso dagli effetti dei violenti moti studenteschi del '68, Ryū, Lily e il loro gruppo di amici gravitano nei dintorni della base militare americana di Yokota, a poche decine di chilometri da Tokyo, di cui frequentano alcuni dei soldati lì di stanza.Vivono una quotidianità scombinata, fatta di un uso costante e ossessionato di qualsiasi sostanza stupefacente si ritrovino a portata di mano, di sesso estremo, di piccoli furti e di qualunque altro comportamento vada a costituire un'anomalia e una sfida alle regole di un'allora ancora rigida e opprimente società giapponese.La loro appare come un'esistenza senza speranza, in cui il dolore, procurato dagli altri o autoinflitto, e altre sensazioni fisiche estreme diventano il mezzo per annullare qualsiasi altra percezione, per non sentire più nulla.Ma in questa realtà desolata, descritta in uno stile volutamente freddo e distaccato, quasi chirurgico, traspare ogni tanto dai personaggi un'innocenza fanciullesca, forse proprio quella che hanno o credono di avere perso, e alla quale in realtà vorrebbero tornare.E dalle crude descrizioni del romanzo emerge paradossalmente una asettica e terribile bellezza. Bellezza nel nonsense, nel caos, nel grottesco. Perché anche in un apparente degrado, come recita il testo, \"ogni cosa irradia luce propria\".©2021 Atmosphere libri (P)2021 Atmosphere libri</td>\n",
       "      <td>Fiction, Japan, Japanese Literature, Contemporary, Horror, Asia, Literature</td>\n",
       "      <td>it</td>\n",
       "    </tr>\n",
       "    <tr>\n",
       "      <th>...</th>\n",
       "      <td>...</td>\n",
       "      <td>...</td>\n",
       "      <td>...</td>\n",
       "    </tr>\n",
       "    <tr>\n",
       "      <th>7406</th>\n",
       "      <td>\" Fleur de miel fleur de peau... \" Cette ritournelle est peu prs tout ce qui reste Mlia de sa mre. Comment ferait-elle pour vivre si grand-mre Rosa ne lui parlait pas de la reine du Palais des Dionades, de la Folle-des-Mers et si sa Marraine la Fe ne veillait pas sur elle</td>\n",
       "      <td>Childrens, Fiction, Portuguese Literature, Portugal, Adolescence</td>\n",
       "      <td>fr</td>\n",
       "    </tr>\n",
       "    <tr>\n",
       "      <th>7448</th>\n",
       "      <td>Llega un momento en que la razn de vivir encuentra un lugar en nuestra vida y de repente, todo lo que nos confunda empieza a tener sentido: nos vamos dando cuenta de que lo que importa son las cosas que no podemos ver y que las que s podemos ver no siempre son fieles a lo que parecen. Con el tiempo nos damos cuenta de lo mucho que valen nuestras relaciones y el lugar que merecen y de alguna forma, todo lo que hacemos nos va transformando en algo mucho ms grande. Conforme vamos viviendo, vamos sintiendo y con el sentir se aclara todo: las lgrimas nos revelan que son y siempre van a ser parte de nosotros, pero las risas nos recuerdan una y otra vez que son la esencia de la vida. El amor es todo y no podemos limitarnos a sentir slo partes de una fuerza tan grande. Espero que el amor que hoy recibas lo regreses con un detalle desde el fondo de tu corazn, porque nada en la vida vale ms que eso y que todo lo que hagas sea con las mejores intenciones, porque algn da todo lo que has</td>\n",
       "      <td>Nonfiction, Self Help, Womens</td>\n",
       "      <td>es</td>\n",
       "    </tr>\n",
       "    <tr>\n",
       "      <th>7452</th>\n",
       "      <td>El lector tiene entre sus manos uno de los libros mas transcendentes de todos los tiempos. Una obra única que debe ser leída por parejas, padres de familia, entrenadores, lideres juveniles y formar parte imprescindible de todas las bibliotecas en el siglo veintiuno. Mediante una novela cautivadora, explica con claridad como fundamentar una relación amorosa constructiva, y propone una visión moderna del sexo prematrimonial que conserva los valores fundamentales. Juventud en éxtasis, enfrenta el tema del noviazgo y la elección de pareja en forma directa y actual proporcionando a los jóvenes armas para tomar las mejores decisiones. Esta es una obra literaria digna de análisis. Ha sido propuesta como lectura complementaria en miles de colegios de nivel medio y medio superior en todo el mundo de habla hispana.</td>\n",
       "      <td>School, Young Adult, Fiction, Self Help, Spanish Literature, Contemporary, Romance</td>\n",
       "      <td>es</td>\n",
       "    </tr>\n",
       "    <tr>\n",
       "      <th>7453</th>\n",
       "      <td>Book by Pullman, Philip</td>\n",
       "      <td>Fantasy, Fiction, Mystery, Science Fiction</td>\n",
       "      <td>tl</td>\n",
       "    </tr>\n",
       "    <tr>\n",
       "      <th>7486</th>\n",
       "      <td>Quand Léna sort de chez elle pour aller à l’école, le ciel a des couleurs étranges. Une fleur pourpre émerge d’une fi ssure sur un mur de l’école. Perché sur une branche, un petit être l’interpelle. C’est un Sprite, qui l’avertit que le basculement a commencé et que deux forces vont s’affronter. Bientôt la nuit gagne sur le jour. Un troll apparaît. Des meutes d’animaux monstrueux envahissent le monde. Afin de les arrêter, Léna devra découvrir qui sont ses alliés pour vaincre Leucémia…</td>\n",
       "      <td>Fantasy, Bande Dessinée, France, Childrens, Fiction</td>\n",
       "      <td>fr</td>\n",
       "    </tr>\n",
       "  </tbody>\n",
       "</table>\n",
       "<p>102 rows × 3 columns</p>\n",
       "</div>"
      ],
      "text/plain": [
       "                                                                                                                                                                                                                                                                                                                                                                                                                                                                                                                                                                                                                                                                                                                                                                                                                                                                                                                                                                                                                                                                                                                                                                                                                                                                                                                                                                                                                                                                                Summary  \\\n",
       "235                                                                                                                                               Wie alle Hauptwerke Hermann Hesses hat auch der Demian, den der damals 40jährige Autor mitten im Ersten Weltkrieg schrieb, eine ebenso ungewöhnliche wie spannende Entstehungs- und Wirkungsgeschichte. Daß dieses im Herbst 1917 vollendete Buch erst im Juni 1919, ein halbes Jahr nach Kriegsende, veröffentlicht wurde, lag an der Unbekanntheit des Verfassers. Denn Hesse hatte das Manuskript dem Verlag als das Erstlingswerk eines kranken jungen Dichters empfohlen, des zeitkritischen Poeten Emil Sinclair, der bisher nur in Zeitungen und Zeitschriften durch pazifistische Mahnrufe und Erzählungen aufgefallen war (die gleichfalls von Hesse stammten). Doch trotz des Inkognitos erlebte das Buch eine geradezu stürmische Aufnahme und wurde noch im Erscheinungsjahr mit dem Fontane-Preis für das beste Erstlingswerk eines Nachwuchsautors ausgezeichnet. Thomas Mann verglich die elektrisierende Wirkung des Buches mit der von Goethes Werther, da es »mit unheimlicher Genauigkeit den Nerv der Zeit traf und eine ganze Jugend, die wähnte aus ihrer Mitte sei ihr ein Künder ihres tiefsten Lebens entstanden, zu dankbarem Entzücken hinriß«. Bis zur Entdeckung des Pseudonyms im Mai 1920 erschienen drei Auflagen, denen dann unter Hesses eigenem Namen zu seinen Lebzeiten noch 93 weitere folgten.   \n",
       "640                                                                                                                                                                                                                                                                                                                                                                                                                                                                                                                                                                                                                                                                                                                                                                                                                                                                                                                                                                                                                                                                                                                                                                                                                                                                                                                                   Tres tazas de te( La lucha de un hombre por promover la paz escuela a escuela = Three Cups of Tea) <> Paperback <> GregMortenson <> RocaEditorial   \n",
       "661                                                                                                                                                                                                                                                                                                                                                                                                                                                                                                                                                                                                                                                                                                                                                                                                                  Jeden anderen hätte Brittany Ellis, wohlbehütete Beauty Queen und unangefochtene Nr. 1 an der Schule, lieber als Chemiepartner gehabt als Alex Fuentes, den zugegebenermaßen attraktiven Leader einer Gang. Und auch Alex weiß: eine explosivere Mischung als ihn und die reiche »Miss Perfecta« kann es kaum geben. Dennoch wettet er mit seinen Freunden: Binnen 14 Tagen wird es ihm gelingen, die schöne Brittany zu verführen. Womit keiner gerechnet hat: Dass aus dem gefährlichen Spiel alsbald gefährlicher Ernst wird, denn Brittany und Alex verlieben sich mit Haut und Haaren ineinander. Das aber kann die Gang, der Alex angehört, nicht zulassen …   \n",
       "696                                                                                                                                                                                                                                                                                                                                                                                                                                                                                                                                                                                                                                                                                                                                                   Glen Runciter está muerto. ¿O lo están todos los demás? Lo que es seguro es que alguien ha muerto en una explosión organizada por los competidores de Runciter. De hecho, sus empleados asisten a un funeral. Pero durante el duelo comienzan a recibir mensajes descorcentantes, e incluso morbosos, de su jefe. Y el mundo a su alrededor comienza a desmoronarse de un modo que sugiere que a ellos tampoco les queda mucho tiempo.Esta mordaz comedia metafísica de muerte y salvación (que podrá llevar un cómodo envase) es un tour de force de amenaza paranoica y comedia absurda, en la cual los muertos ofrecen consejos comerciales, compran su siguiente reencarnación y corren el riesgo continuo de volver a morir.   \n",
       "719   Durata: 4 ore e 7 minutiGiappone, inizi degli anni '70. In un paese già scosso dagli effetti dei violenti moti studenteschi del '68, Ryū, Lily e il loro gruppo di amici gravitano nei dintorni della base militare americana di Yokota, a poche decine di chilometri da Tokyo, di cui frequentano alcuni dei soldati lì di stanza.Vivono una quotidianità scombinata, fatta di un uso costante e ossessionato di qualsiasi sostanza stupefacente si ritrovino a portata di mano, di sesso estremo, di piccoli furti e di qualunque altro comportamento vada a costituire un'anomalia e una sfida alle regole di un'allora ancora rigida e opprimente società giapponese.La loro appare come un'esistenza senza speranza, in cui il dolore, procurato dagli altri o autoinflitto, e altre sensazioni fisiche estreme diventano il mezzo per annullare qualsiasi altra percezione, per non sentire più nulla.Ma in questa realtà desolata, descritta in uno stile volutamente freddo e distaccato, quasi chirurgico, traspare ogni tanto dai personaggi un'innocenza fanciullesca, forse proprio quella che hanno o credono di avere perso, e alla quale in realtà vorrebbero tornare.E dalle crude descrizioni del romanzo emerge paradossalmente una asettica e terribile bellezza. Bellezza nel nonsense, nel caos, nel grottesco. Perché anche in un apparente degrado, come recita il testo, \"ogni cosa irradia luce propria\".©2021 Atmosphere libri (P)2021 Atmosphere libri   \n",
       "...                                                                                                                                                                                                                                                                                                                                                                                                                                                                                                                                                                                                                                                                                                                                                                                                                                                                                                                                                                                                                                                                                                                                                                                                                                                                                                                                                                                                                                                                                 ...   \n",
       "7406                                                                                                                                                                                                                                                                                                                                                                                                                                                                                                                                                                                                                                                                                                                                                                                                                                                                                                                                                                                                                                                                                                                                                                                                   \" Fleur de miel fleur de peau... \" Cette ritournelle est peu prs tout ce qui reste Mlia de sa mre. Comment ferait-elle pour vivre si grand-mre Rosa ne lui parlait pas de la reine du Palais des Dionades, de la Folle-des-Mers et si sa Marraine la Fe ne veillait pas sur elle   \n",
       "7448                                                                                                                                                                                                                                                                                                                                                                                                                                                      Llega un momento en que la razn de vivir encuentra un lugar en nuestra vida y de repente, todo lo que nos confunda empieza a tener sentido: nos vamos dando cuenta de que lo que importa son las cosas que no podemos ver y que las que s podemos ver no siempre son fieles a lo que parecen. Con el tiempo nos damos cuenta de lo mucho que valen nuestras relaciones y el lugar que merecen y de alguna forma, todo lo que hacemos nos va transformando en algo mucho ms grande. Conforme vamos viviendo, vamos sintiendo y con el sentir se aclara todo: las lgrimas nos revelan que son y siempre van a ser parte de nosotros, pero las risas nos recuerdan una y otra vez que son la esencia de la vida. El amor es todo y no podemos limitarnos a sentir slo partes de una fuerza tan grande. Espero que el amor que hoy recibas lo regreses con un detalle desde el fondo de tu corazn, porque nada en la vida vale ms que eso y que todo lo que hagas sea con las mejores intenciones, porque algn da todo lo que has   \n",
       "7452                                                                                                                                                                                                                                                                                                                                                                                                                                                                                                                                                                                                                                   El lector tiene entre sus manos uno de los libros mas transcendentes de todos los tiempos. Una obra única que debe ser leída por parejas, padres de familia, entrenadores, lideres juveniles y formar parte imprescindible de todas las bibliotecas en el siglo veintiuno. Mediante una novela cautivadora, explica con claridad como fundamentar una relación amorosa constructiva, y propone una visión moderna del sexo prematrimonial que conserva los valores fundamentales. Juventud en éxtasis, enfrenta el tema del noviazgo y la elección de pareja en forma directa y actual proporcionando a los jóvenes armas para tomar las mejores decisiones. Esta es una obra literaria digna de análisis. Ha sido propuesta como lectura complementaria en miles de colegios de nivel medio y medio superior en todo el mundo de habla hispana.   \n",
       "7453                                                                                                                                                                                                                                                                                                                                                                                                                                                                                                                                                                                                                                                                                                                                                                                                                                                                                                                                                                                                                                                                                                                                                                                                                                                                                                                                                                                                                                                            Book by Pullman, Philip   \n",
       "7486                                                                                                                                                                                                                                                                                                                                                                                                                                                                                                                                                                                                                                                                                                                                                                                                                                                                                                                                                                          Quand Léna sort de chez elle pour aller à l’école, le ciel a des couleurs étranges. Une fleur pourpre émerge d’une fi ssure sur un mur de l’école. Perché sur une branche, un petit être l’interpelle. C’est un Sprite, qui l’avertit que le basculement a commencé et que deux forces vont s’affronter. Bientôt la nuit gagne sur le jour. Un troll apparaît. Des meutes d’animaux monstrueux envahissent le monde. Afin de les arrêter, Léna devra découvrir qui sont ses alliés pour vaincre Leucémia…   \n",
       "\n",
       "                                                                                         Genres  \\\n",
       "235          Fiction, Philosophy, German Literature, Literature, Novels, Germany, Coming Of Age   \n",
       "640               Nonfiction, Memoir, Biography, Travel, Education, Book Club, Biography Memoir   \n",
       "661   Romance, Young Adult, Contemporary, High School, Contemporary Romance, Fiction, New Adult   \n",
       "696     Science Fiction, Fiction, Classics, Novels, Science Fiction Fantasy, Mystery, Audiobook   \n",
       "719                 Fiction, Japan, Japanese Literature, Contemporary, Horror, Asia, Literature   \n",
       "...                                                                                         ...   \n",
       "7406                           Childrens, Fiction, Portuguese Literature, Portugal, Adolescence   \n",
       "7448                                                              Nonfiction, Self Help, Womens   \n",
       "7452         School, Young Adult, Fiction, Self Help, Spanish Literature, Contemporary, Romance   \n",
       "7453                                                 Fantasy, Fiction, Mystery, Science Fiction   \n",
       "7486                                        Fantasy, Bande Dessinée, France, Childrens, Fiction   \n",
       "\n",
       "     Language  \n",
       "235        de  \n",
       "640        es  \n",
       "661        de  \n",
       "696        es  \n",
       "719        it  \n",
       "...       ...  \n",
       "7406       fr  \n",
       "7448       es  \n",
       "7452       es  \n",
       "7453       tl  \n",
       "7486       fr  \n",
       "\n",
       "[102 rows x 3 columns]"
      ]
     },
     "execution_count": 30,
     "metadata": {},
     "output_type": "execute_result"
    }
   ],
   "source": [
    "df[df['Language'] != 'en']"
   ]
  },
  {
   "cell_type": "code",
   "execution_count": 31,
   "id": "30b5e46e-8ffd-4234-a40b-523573d39849",
   "metadata": {},
   "outputs": [],
   "source": [
    "df.drop(df[df['Language'] != 'en'].index, inplace = True)"
   ]
  },
  {
   "cell_type": "code",
   "execution_count": 32,
   "id": "34196d3d-fcf9-4f99-94f7-5e7e7095c60c",
   "metadata": {},
   "outputs": [],
   "source": [
    "df.drop('Language',axis = 1, inplace = True)"
   ]
  },
  {
   "cell_type": "code",
   "execution_count": 33,
   "id": "03f7ae60-6552-4922-902d-d67ca2351954",
   "metadata": {},
   "outputs": [
    {
     "data": {
      "text/html": [
       "<div>\n",
       "<style scoped>\n",
       "    .dataframe tbody tr th:only-of-type {\n",
       "        vertical-align: middle;\n",
       "    }\n",
       "\n",
       "    .dataframe tbody tr th {\n",
       "        vertical-align: top;\n",
       "    }\n",
       "\n",
       "    .dataframe thead th {\n",
       "        text-align: right;\n",
       "    }\n",
       "</style>\n",
       "<table border=\"1\" class=\"dataframe\">\n",
       "  <thead>\n",
       "    <tr style=\"text-align: right;\">\n",
       "      <th></th>\n",
       "      <th>Summary</th>\n",
       "      <th>Genres</th>\n",
       "    </tr>\n",
       "  </thead>\n",
       "  <tbody>\n",
       "    <tr>\n",
       "      <th>0</th>\n",
       "      <td>What happens when the very beautiful and sexy Maria Brooks, now Elena Johnson, a woman hiding out in Provence from the California legal authorities, meets Jordan Kramer, a handsome art theft detective from Los Angeles?He's looking for stolen California paintings reportedly for sale in Provence. She's trying to stay under the radar. Both share a love of food and wine. Will Jordan find Pierre, the French chef who's suspected of being the art thief? and who are the young Afghan girls hiding out in his parents' barn?A cozy mystery with great food, art, and romantic suspense at its best.</td>\n",
       "      <td>Food, Mystery, Thriller, Amazon, Suspense, Mystery Thriller, France</td>\n",
       "    </tr>\n",
       "    <tr>\n",
       "      <th>1</th>\n",
       "      <td>This book developed from a journal of my thoughts and feelings recorded in response to the shock of my wife’s diagnosis of Pancreatic Cancer in December 2015. Initially, I kept it as a personal diary of things that I believed were important at the time, including the poems and prose I wrote which sprang organically from the events as they unfolded. Whilst these few short months were extremely challenging, at times shocking and ultimately tragic, they were also a time of great love. Hopefully, I have captured some of those few moments of pure happiness, humour and joy which I believe will not only help other people touched by cancer but will show sufferers and their families that there is no right or wrong way to behave, just as long as you continue to show how much you care and as much as possible, be there for each other.</td>\n",
       "      <td>Nonfiction, Memoir, Book Club, Inspirational, Education, How To</td>\n",
       "    </tr>\n",
       "  </tbody>\n",
       "</table>\n",
       "</div>"
      ],
      "text/plain": [
       "                                                                                                                                                                                                                                                                                                                                                                                                                                                                                                                                                                                                                                                                                                                                                                                                                                                              Summary  \\\n",
       "0                                                                                                                                                                                                                                                       What happens when the very beautiful and sexy Maria Brooks, now Elena Johnson, a woman hiding out in Provence from the California legal authorities, meets Jordan Kramer, a handsome art theft detective from Los Angeles?He's looking for stolen California paintings reportedly for sale in Provence. She's trying to stay under the radar. Both share a love of food and wine. Will Jordan find Pierre, the French chef who's suspected of being the art thief? and who are the young Afghan girls hiding out in his parents' barn?A cozy mystery with great food, art, and romantic suspense at its best.   \n",
       "1  This book developed from a journal of my thoughts and feelings recorded in response to the shock of my wife’s diagnosis of Pancreatic Cancer in December 2015. Initially, I kept it as a personal diary of things that I believed were important at the time, including the poems and prose I wrote which sprang organically from the events as they unfolded. Whilst these few short months were extremely challenging, at times shocking and ultimately tragic, they were also a time of great love. Hopefully, I have captured some of those few moments of pure happiness, humour and joy which I believe will not only help other people touched by cancer but will show sufferers and their families that there is no right or wrong way to behave, just as long as you continue to show how much you care and as much as possible, be there for each other.   \n",
       "\n",
       "                                                                Genres  \n",
       "0  Food, Mystery, Thriller, Amazon, Suspense, Mystery Thriller, France  \n",
       "1      Nonfiction, Memoir, Book Club, Inspirational, Education, How To  "
      ]
     },
     "execution_count": 33,
     "metadata": {},
     "output_type": "execute_result"
    }
   ],
   "source": [
    "df.head(2)"
   ]
  },
  {
   "cell_type": "markdown",
   "id": "87bf77db-7427-44cc-a319-a1ccad7dc5d2",
   "metadata": {},
   "source": [
    "## **3. Reducing Number of genres**"
   ]
  },
  {
   "cell_type": "markdown",
   "id": "1f34979f-4305-4ffa-961a-1918fa08bba4",
   "metadata": {},
   "source": [
    "### **a. Reduce Genres from 7 to 1**"
   ]
  },
  {
   "cell_type": "code",
   "execution_count": 34,
   "id": "91b9300f-d0d2-4e24-bdf2-ed30cb0451db",
   "metadata": {},
   "outputs": [
    {
     "name": "stdout",
     "output_type": "stream",
     "text": [
      "['Food', 'Mystery', 'Thriller', 'Amazon']\n",
      "['Food', 'Mystery', 'Thriller']\n",
      "Food,Mystery,Thriller\n"
     ]
    }
   ],
   "source": [
    "a = \"Food, Mystery, Thriller, Amazon\"\n",
    "b = a.split(', ')\n",
    "print(b)\n",
    "c = b[:3]\n",
    "print(c)\n",
    "d = (',').join(c)\n",
    "print(d)"
   ]
  },
  {
   "cell_type": "markdown",
   "id": "cc91ddd3-890c-466e-8df1-724548775a9f",
   "metadata": {},
   "source": [
    "- Each book has a different number of genres.\n",
    "- The maximum number of genre is 7.\n",
    "- We will reduce the max number of genres to 1 to reduce noise in our model."
   ]
  },
  {
   "cell_type": "code",
   "execution_count": 35,
   "id": "6e3cd88c-badc-497e-893d-8e07c7b693db",
   "metadata": {},
   "outputs": [],
   "source": [
    "def limit_genre(genres):\n",
    "    genres = genres.split(', ')\n",
    "    if len(genres) > 1:\n",
    "        genres = genres[:1]\n",
    "    return ', '.join(genres)\n",
    "        \n",
    "df['Genres'] = df['Genres'].apply(limit_genre)"
   ]
  },
  {
   "cell_type": "code",
   "execution_count": 36,
   "id": "14761b37-ef2b-492d-97f5-6b9cd31fde32",
   "metadata": {},
   "outputs": [
    {
     "data": {
      "text/html": [
       "<div>\n",
       "<style scoped>\n",
       "    .dataframe tbody tr th:only-of-type {\n",
       "        vertical-align: middle;\n",
       "    }\n",
       "\n",
       "    .dataframe tbody tr th {\n",
       "        vertical-align: top;\n",
       "    }\n",
       "\n",
       "    .dataframe thead th {\n",
       "        text-align: right;\n",
       "    }\n",
       "</style>\n",
       "<table border=\"1\" class=\"dataframe\">\n",
       "  <thead>\n",
       "    <tr style=\"text-align: right;\">\n",
       "      <th></th>\n",
       "      <th>Summary</th>\n",
       "      <th>Genres</th>\n",
       "    </tr>\n",
       "  </thead>\n",
       "  <tbody>\n",
       "    <tr>\n",
       "      <th>0</th>\n",
       "      <td>What happens when the very beautiful and sexy Maria Brooks, now Elena Johnson, a woman hiding out in Provence from the California legal authorities, meets Jordan Kramer, a handsome art theft detective from Los Angeles?He's looking for stolen California paintings reportedly for sale in Provence. She's trying to stay under the radar. Both share a love of food and wine. Will Jordan find Pierre, the French chef who's suspected of being the art thief? and who are the young Afghan girls hiding out in his parents' barn?A cozy mystery with great food, art, and romantic suspense at its best.</td>\n",
       "      <td>Food</td>\n",
       "    </tr>\n",
       "    <tr>\n",
       "      <th>1</th>\n",
       "      <td>This book developed from a journal of my thoughts and feelings recorded in response to the shock of my wife’s diagnosis of Pancreatic Cancer in December 2015. Initially, I kept it as a personal diary of things that I believed were important at the time, including the poems and prose I wrote which sprang organically from the events as they unfolded. Whilst these few short months were extremely challenging, at times shocking and ultimately tragic, they were also a time of great love. Hopefully, I have captured some of those few moments of pure happiness, humour and joy which I believe will not only help other people touched by cancer but will show sufferers and their families that there is no right or wrong way to behave, just as long as you continue to show how much you care and as much as possible, be there for each other.</td>\n",
       "      <td>Nonfiction</td>\n",
       "    </tr>\n",
       "    <tr>\n",
       "      <th>2</th>\n",
       "      <td>It is the story of four seekers who arrive at a notoriously unfriendly pile called Hill House: Dr. Montague, an occult scholar looking for solid evidence of a \"haunting\"; Theodora, the lighthearted assistant; Eleanor, a friendless, fragile young woman well acquainted with poltergeists; and Luke, the future heir of Hill House. At first, their stay seems destined to be merely a spooky encounter with inexplicable phenomena. But Hill House is gathering its powers—and soon it will choose one of them to make its own.</td>\n",
       "      <td>Horror</td>\n",
       "    </tr>\n",
       "    <tr>\n",
       "      <th>3</th>\n",
       "      <td>Last year, Annabel was \"the girl who has everything\" — at least that's the part she played in the television commercial for Kopf's Department Store.This year, she's the girl who has nothing: no best friend because mean-but-exciting Sophie dropped her, no peace at home since her older sister became anorexic, and no one to sit with at lunch. Until she meets Owen Armstrong.Tall, dark, and music-obsessed, Owen is a reformed bad boy with a commitment to truth-telling. With Owen's help, maybe Annabel can face what happened the night she and Sophie stopped being friends.</td>\n",
       "      <td>Young Adult</td>\n",
       "    </tr>\n",
       "    <tr>\n",
       "      <th>4</th>\n",
       "      <td>WINNER OF THE PULITZER PRIZE ANDNEW YORK TIMESBESTSELLERIn the first volume of his monumental trilogy about the liberation of Europe in WW II, Pulitzer Prize winner Rick Atkinson tells the riveting story of the war in North AfricaThe liberation of Europe and the destruction of the Third Reich is a story of courage and enduring triumph, of calamity and miscalculation. In this first volume of the Liberation Trilogy, Rick Atkinson shows why no modern reader can understand the ultimate victory of the Allied powers without a grasp of the great drama that unfolded in North Africa in 1942 and 1943. That first year of the Allied war was a pivotal point in American history, the moment when the United States began to act like a great power.Beginning with the daring amphibious invasion in November 1942, An Army at Dawn follows the American and British armies as they fight the French in Morocco and Algeria, and then take on the Germans and Italians in Tunisia. Battle by battle, an inexperienced and sometimes poorly led army gradually becomes a superb fighting force. Central to the tale are the extraordinary but fallible commanders who come to dominate the battlefield: Eisenhower, Patton, Bradley, Montgomery, and Rommel.Brilliantly researched, rich with new material and vivid insights, Atkinson's narrative provides the definitive history of the war in North Africa.</td>\n",
       "      <td>History</td>\n",
       "    </tr>\n",
       "  </tbody>\n",
       "</table>\n",
       "</div>"
      ],
      "text/plain": [
       "                                                                                                                                                                                                                                                                                                                                                                                                                                                                                                                                                                                                                                                                                                                                                                                                                                                                                                                                                                                                                                                                                                                                                                                                                                                                                                                                                                                                                          Summary  \\\n",
       "0                                                                                                                                                                                                                                                                                                                                                                                                                                                                                                                                                                                                                                                                                                                                                                                                                   What happens when the very beautiful and sexy Maria Brooks, now Elena Johnson, a woman hiding out in Provence from the California legal authorities, meets Jordan Kramer, a handsome art theft detective from Los Angeles?He's looking for stolen California paintings reportedly for sale in Provence. She's trying to stay under the radar. Both share a love of food and wine. Will Jordan find Pierre, the French chef who's suspected of being the art thief? and who are the young Afghan girls hiding out in his parents' barn?A cozy mystery with great food, art, and romantic suspense at its best.   \n",
       "1                                                                                                                                                                                                                                                                                                                                                                                                                                                                                                                                                              This book developed from a journal of my thoughts and feelings recorded in response to the shock of my wife’s diagnosis of Pancreatic Cancer in December 2015. Initially, I kept it as a personal diary of things that I believed were important at the time, including the poems and prose I wrote which sprang organically from the events as they unfolded. Whilst these few short months were extremely challenging, at times shocking and ultimately tragic, they were also a time of great love. Hopefully, I have captured some of those few moments of pure happiness, humour and joy which I believe will not only help other people touched by cancer but will show sufferers and their families that there is no right or wrong way to behave, just as long as you continue to show how much you care and as much as possible, be there for each other.   \n",
       "2                                                                                                                                                                                                                                                                                                                                                                                                                                                                                                                                                                                                                                                                                                                                                                                                                                                                                            It is the story of four seekers who arrive at a notoriously unfriendly pile called Hill House: Dr. Montague, an occult scholar looking for solid evidence of a \"haunting\"; Theodora, the lighthearted assistant; Eleanor, a friendless, fragile young woman well acquainted with poltergeists; and Luke, the future heir of Hill House. At first, their stay seems destined to be merely a spooky encounter with inexplicable phenomena. But Hill House is gathering its powers—and soon it will choose one of them to make its own.   \n",
       "3                                                                                                                                                                                                                                                                                                                                                                                                                                                                                                                                                                                                                                                                                                                                                                                                                                      Last year, Annabel was \"the girl who has everything\" — at least that's the part she played in the television commercial for Kopf's Department Store.This year, she's the girl who has nothing: no best friend because mean-but-exciting Sophie dropped her, no peace at home since her older sister became anorexic, and no one to sit with at lunch. Until she meets Owen Armstrong.Tall, dark, and music-obsessed, Owen is a reformed bad boy with a commitment to truth-telling. With Owen's help, maybe Annabel can face what happened the night she and Sophie stopped being friends.   \n",
       "4  WINNER OF THE PULITZER PRIZE ANDNEW YORK TIMESBESTSELLERIn the first volume of his monumental trilogy about the liberation of Europe in WW II, Pulitzer Prize winner Rick Atkinson tells the riveting story of the war in North AfricaThe liberation of Europe and the destruction of the Third Reich is a story of courage and enduring triumph, of calamity and miscalculation. In this first volume of the Liberation Trilogy, Rick Atkinson shows why no modern reader can understand the ultimate victory of the Allied powers without a grasp of the great drama that unfolded in North Africa in 1942 and 1943. That first year of the Allied war was a pivotal point in American history, the moment when the United States began to act like a great power.Beginning with the daring amphibious invasion in November 1942, An Army at Dawn follows the American and British armies as they fight the French in Morocco and Algeria, and then take on the Germans and Italians in Tunisia. Battle by battle, an inexperienced and sometimes poorly led army gradually becomes a superb fighting force. Central to the tale are the extraordinary but fallible commanders who come to dominate the battlefield: Eisenhower, Patton, Bradley, Montgomery, and Rommel.Brilliantly researched, rich with new material and vivid insights, Atkinson's narrative provides the definitive history of the war in North Africa.   \n",
       "\n",
       "        Genres  \n",
       "0         Food  \n",
       "1   Nonfiction  \n",
       "2       Horror  \n",
       "3  Young Adult  \n",
       "4      History  "
      ]
     },
     "execution_count": 36,
     "metadata": {},
     "output_type": "execute_result"
    }
   ],
   "source": [
    "df.head()"
   ]
  },
  {
   "cell_type": "markdown",
   "id": "1067a494-b5df-48b9-915c-6b1946488193",
   "metadata": {},
   "source": [
    "### **b. Remove Unnecessary genres**"
   ]
  },
  {
   "cell_type": "code",
   "execution_count": 37,
   "id": "6b766dce-3200-440d-be87-5be5915f0163",
   "metadata": {},
   "outputs": [
    {
     "name": "stdout",
     "output_type": "stream",
     "text": [
      "Genres\n",
      "Fiction               1157\n",
      "Fantasy                868\n",
      "Mystery                748\n",
      "Nonfiction             713\n",
      "Young Adult            411\n",
      "Historical Fiction     391\n",
      "Thriller               325\n",
      "Science Fiction        321\n",
      "Romance                240\n",
      "Horror                 211\n",
      "Classics               156\n",
      "History                141\n",
      "Biography               88\n",
      "Plays                   83\n",
      "Business                72\n",
      "Picture Books           70\n",
      "Self Help               55\n",
      "Contemporary            53\n",
      "Childrens               48\n",
      "Science                 42\n",
      "Philosophy              37\n",
      "Psychology              35\n",
      "Poetry                  33\n",
      "Graphic Novels          32\n",
      "Drama                   32\n",
      "Memoir                  32\n",
      "Crime                   31\n",
      "Novels                  29\n",
      "Humor                   28\n",
      "Christian               28\n",
      "Short Stories           26\n",
      "Paranormal              25\n",
      "Urban Fantasy           25\n",
      "True Crime              18\n",
      "Dystopia                17\n",
      "M M Romance             17\n",
      "Historical Romance      17\n",
      "Vampires                16\n",
      "Music                   16\n",
      "Spirituality            15\n",
      "Religion                13\n",
      "Time Travel             12\n",
      "Chick Lit               11\n",
      "Name: count, dtype: int64\n"
     ]
    }
   ],
   "source": [
    "genre_counts = df['Genres'].value_counts() \n",
    "greater_than_10 = genre_counts[genre_counts > 10]\n",
    "print(greater_than_10)"
   ]
  },
  {
   "cell_type": "code",
   "execution_count": 38,
   "id": "78e7e325-380e-4483-bb7b-78d89a2cc46d",
   "metadata": {},
   "outputs": [
    {
     "name": "stdout",
     "output_type": "stream",
     "text": [
      "Genres\n",
      "Star Wars             9\n",
      "Dark                  9\n",
      "Politics              9\n",
      "Paranormal Romance    8\n",
      "Feminism              8\n",
      "                     ..\n",
      "Love                  1\n",
      "Sports Romance        1\n",
      "Westerns              1\n",
      "Buddhism              1\n",
      "Dogs                  1\n",
      "Name: count, Length: 94, dtype: int64\n"
     ]
    }
   ],
   "source": [
    "less_than_10 = genre_counts[genre_counts < 10]\n",
    "print(less_than_10)"
   ]
  },
  {
   "cell_type": "code",
   "execution_count": 39,
   "id": "423d7723-75d9-4ede-ac68-30e749eb0614",
   "metadata": {
    "scrolled": true
   },
   "outputs": [
    {
     "data": {
      "text/plain": [
       "['Fiction',\n",
       " 'Fantasy',\n",
       " 'Mystery',\n",
       " 'Nonfiction',\n",
       " 'Young Adult',\n",
       " 'Historical Fiction',\n",
       " 'Thriller',\n",
       " 'Science Fiction',\n",
       " 'Romance',\n",
       " 'Horror',\n",
       " 'Classics',\n",
       " 'History',\n",
       " 'Biography',\n",
       " 'Plays',\n",
       " 'Business',\n",
       " 'Picture Books',\n",
       " 'Self Help',\n",
       " 'Contemporary',\n",
       " 'Childrens',\n",
       " 'Science',\n",
       " 'Philosophy',\n",
       " 'Psychology',\n",
       " 'Poetry',\n",
       " 'Graphic Novels',\n",
       " 'Drama',\n",
       " 'Memoir',\n",
       " 'Crime',\n",
       " 'Novels',\n",
       " 'Humor',\n",
       " 'Christian',\n",
       " 'Short Stories',\n",
       " 'Paranormal',\n",
       " 'Urban Fantasy',\n",
       " 'True Crime',\n",
       " 'Dystopia',\n",
       " 'M M Romance',\n",
       " 'Historical Romance',\n",
       " 'Vampires',\n",
       " 'Music',\n",
       " 'Spirituality',\n",
       " 'Religion',\n",
       " 'Time Travel',\n",
       " 'Chick Lit',\n",
       " 'Middle Grade',\n",
       " 'Travel',\n",
       " 'Islam',\n",
       " 'Star Wars',\n",
       " 'Dark',\n",
       " 'Politics',\n",
       " 'Paranormal Romance',\n",
       " 'Feminism',\n",
       " 'New Adult',\n",
       " 'Finance',\n",
       " 'Mystery Thriller',\n",
       " 'Zombies',\n",
       " 'Suspense',\n",
       " 'LGBT',\n",
       " 'Health',\n",
       " 'Adventure',\n",
       " 'Art',\n",
       " 'Reverse Harem',\n",
       " 'Christian Fiction',\n",
       " 'Mythology',\n",
       " 'Steampunk',\n",
       " 'War',\n",
       " 'Writing',\n",
       " 'Manga',\n",
       " 'Theology',\n",
       " 'Animals',\n",
       " 'Epic',\n",
       " 'Relationships',\n",
       " 'Erotica',\n",
       " 'Christmas',\n",
       " 'Comics',\n",
       " 'Leadership',\n",
       " 'Artificial Intelligence',\n",
       " 'Food',\n",
       " 'Inspirational',\n",
       " 'Mental Health',\n",
       " 'Education',\n",
       " 'Romantic Suspense',\n",
       " 'Historical',\n",
       " 'Anthropology',\n",
       " 'Horses',\n",
       " 'Lesbian',\n",
       " 'Economics',\n",
       " 'Holocaust',\n",
       " 'Witches',\n",
       " 'True Story',\n",
       " 'France',\n",
       " 'Occult',\n",
       " 'Parenting',\n",
       " 'Contemporary Romance',\n",
       " 'Productivity',\n",
       " 'Modern',\n",
       " 'Science Fiction Fantasy',\n",
       " 'Magical Realism',\n",
       " 'Amazon',\n",
       " 'Prayer',\n",
       " 'Hockey',\n",
       " '19th Century',\n",
       " 'Survival',\n",
       " 'Africa',\n",
       " 'Sports',\n",
       " 'Personal Development',\n",
       " 'Photography',\n",
       " 'Native American',\n",
       " 'Lds Fiction',\n",
       " 'Young Adult Romance',\n",
       " 'Christian Living',\n",
       " 'Wolves',\n",
       " 'Pirates',\n",
       " 'Superheroes',\n",
       " 'Paganism',\n",
       " 'Military Fiction',\n",
       " 'Beauty and The Beast',\n",
       " 'Canada',\n",
       " 'Reference',\n",
       " 'Architecture',\n",
       " 'Coming Of Age',\n",
       " 'Japan',\n",
       " 'Spy Thriller',\n",
       " 'Audiobook',\n",
       " 'How To',\n",
       " 'Book Club',\n",
       " 'Computer Science',\n",
       " 'Epic Fantasy',\n",
       " 'Design',\n",
       " 'Teen',\n",
       " 'Mental Illness',\n",
       " 'Noir',\n",
       " 'Realistic Fiction',\n",
       " 'Legal Thriller',\n",
       " 'Autobiography',\n",
       " 'China',\n",
       " 'Love',\n",
       " 'Sports Romance',\n",
       " 'Westerns',\n",
       " 'Buddhism',\n",
       " 'Dogs']"
      ]
     },
     "execution_count": 39,
     "metadata": {},
     "output_type": "execute_result"
    }
   ],
   "source": [
    "genre_counts.index.to_list()"
   ]
  },
  {
   "cell_type": "markdown",
   "id": "eab587e4-cae8-452a-8b88-a8ff6c2b5bba",
   "metadata": {},
   "source": [
    "#### We'll drop some genres for the following reasons:\n",
    "1. They are too specific\n",
    "2. They can encompass a wide range of books\n",
    "3. They have a very low count\n",
    "4. They are irrelevent"
   ]
  },
  {
   "cell_type": "code",
   "execution_count": 40,
   "id": "7783f5f3-40e7-4eb5-bf25-b4bd31475598",
   "metadata": {},
   "outputs": [],
   "source": [
    "genres_to_remove = [\n",
    "    \"Nonfiction\",\"Parenting\",\"Relationships\",\"Business\",\"Productivity\",\"Economics\",\"Finance\",\"Africa\", \"Amazon\", \"Audiobook\", \"Book Club\", \"Canada\", \"China\", \"France\", \"Japan\", \"Native American\", \"Food\", \"Health\", \"Fitness\", \n",
    "    \"Westerns\", \"Lds Fiction\", \"Reference\",\"Education\", \"Writing\",\"How To\",\"Hockey\",\"Sports\",\"Christmas\",\"Animals\",\"Dogs\",\"Horses\",\"Wolves\",\n",
    "    \"Comics\", \"Graphic Novels\", \"Manga\", \"LGBT\", \"Lesbian\", \"M M Romance\", \"Humor\",\"Anthropology\", \"Travel\",\"Modern\", \"Contemporary\", \"Chick Lit\",\n",
    "    \"Art\",\"Architecture\", \"Design\",\"Photography\",\"Music\"\n",
    "]"
   ]
  },
  {
   "cell_type": "code",
   "execution_count": 41,
   "id": "75e90fba-136f-4804-b357-af6db1761e20",
   "metadata": {},
   "outputs": [],
   "source": [
    "df = df[~df['Genres'].isin(genres_to_remove)]"
   ]
  },
  {
   "cell_type": "code",
   "execution_count": 42,
   "id": "4807042e-1161-4760-8646-8e94df8088f3",
   "metadata": {},
   "outputs": [],
   "source": [
    "df.reset_index(drop = True, inplace = True)"
   ]
  },
  {
   "cell_type": "code",
   "execution_count": 43,
   "id": "88df7ecf-b11b-487a-a448-7cda64220a2d",
   "metadata": {},
   "outputs": [
    {
     "data": {
      "text/plain": [
       "(5987, 2)"
      ]
     },
     "execution_count": 43,
     "metadata": {},
     "output_type": "execute_result"
    }
   ],
   "source": [
    "df.shape"
   ]
  },
  {
   "cell_type": "code",
   "execution_count": 44,
   "id": "f35180f9-8629-4717-bc25-891dac762f9d",
   "metadata": {},
   "outputs": [
    {
     "data": {
      "text/html": [
       "<div>\n",
       "<style scoped>\n",
       "    .dataframe tbody tr th:only-of-type {\n",
       "        vertical-align: middle;\n",
       "    }\n",
       "\n",
       "    .dataframe tbody tr th {\n",
       "        vertical-align: top;\n",
       "    }\n",
       "\n",
       "    .dataframe thead th {\n",
       "        text-align: right;\n",
       "    }\n",
       "</style>\n",
       "<table border=\"1\" class=\"dataframe\">\n",
       "  <thead>\n",
       "    <tr style=\"text-align: right;\">\n",
       "      <th></th>\n",
       "      <th>Summary</th>\n",
       "      <th>Genres</th>\n",
       "    </tr>\n",
       "  </thead>\n",
       "  <tbody>\n",
       "    <tr>\n",
       "      <th>0</th>\n",
       "      <td>It is the story of four seekers who arrive at a notoriously unfriendly pile called Hill House: Dr. Montague, an occult scholar looking for solid evidence of a \"haunting\"; Theodora, the lighthearted assistant; Eleanor, a friendless, fragile young woman well acquainted with poltergeists; and Luke, the future heir of Hill House. At first, their stay seems destined to be merely a spooky encounter with inexplicable phenomena. But Hill House is gathering its powers—and soon it will choose one of them to make its own.</td>\n",
       "      <td>Horror</td>\n",
       "    </tr>\n",
       "    <tr>\n",
       "      <th>1</th>\n",
       "      <td>Last year, Annabel was \"the girl who has everything\" — at least that's the part she played in the television commercial for Kopf's Department Store.This year, she's the girl who has nothing: no best friend because mean-but-exciting Sophie dropped her, no peace at home since her older sister became anorexic, and no one to sit with at lunch. Until she meets Owen Armstrong.Tall, dark, and music-obsessed, Owen is a reformed bad boy with a commitment to truth-telling. With Owen's help, maybe Annabel can face what happened the night she and Sophie stopped being friends.</td>\n",
       "      <td>Young Adult</td>\n",
       "    </tr>\n",
       "    <tr>\n",
       "      <th>2</th>\n",
       "      <td>WINNER OF THE PULITZER PRIZE ANDNEW YORK TIMESBESTSELLERIn the first volume of his monumental trilogy about the liberation of Europe in WW II, Pulitzer Prize winner Rick Atkinson tells the riveting story of the war in North AfricaThe liberation of Europe and the destruction of the Third Reich is a story of courage and enduring triumph, of calamity and miscalculation. In this first volume of the Liberation Trilogy, Rick Atkinson shows why no modern reader can understand the ultimate victory of the Allied powers without a grasp of the great drama that unfolded in North Africa in 1942 and 1943. That first year of the Allied war was a pivotal point in American history, the moment when the United States began to act like a great power.Beginning with the daring amphibious invasion in November 1942, An Army at Dawn follows the American and British armies as they fight the French in Morocco and Algeria, and then take on the Germans and Italians in Tunisia. Battle by battle, an inexperienced and sometimes poorly led army gradually becomes a superb fighting force. Central to the tale are the extraordinary but fallible commanders who come to dominate the battlefield: Eisenhower, Patton, Bradley, Montgomery, and Rommel.Brilliantly researched, rich with new material and vivid insights, Atkinson's narrative provides the definitive history of the war in North Africa.</td>\n",
       "      <td>History</td>\n",
       "    </tr>\n",
       "    <tr>\n",
       "      <th>3</th>\n",
       "      <td>In the early hours of January 31, 1968, the North Vietnamese launched over one hundred attacks across South Vietnam in what would become known as the Tet Offensive. The lynchpin of Tet was the capture of Hue, Vietnam?s intellectual and cultural capital, by 10,000 National Liberation Front troops who descended from hidden camps and surged across the city of 140,000. Within hours the entire city was in their hands save for two small military outposts. American commanders refused to believe the size and scope of the Front?s presence, ordering small companies of marines against thousands of entrenched enemy troops. After several futile and deadly days, Lieutenant Colonel Ernie Cheatham would finally come up with a strategy to retake the city, block by block and building by building, in some of the most intense urban combat since World War II.With unprecedented access to war archives in the U.S. and Vietnam and interviews with participants from both sides, Bowden narrates each stage of this crucial battle through multiple viewpoints. Played out over 24 days and ultimately costing 10,000 lives, the Battle of Hue was by far the bloodiest of the entire war. When it ended, the American debate was never again about winning, only about how to leave. Hue 1968 is a gripping and moving account of this pivotal moment.</td>\n",
       "      <td>History</td>\n",
       "    </tr>\n",
       "    <tr>\n",
       "      <th>4</th>\n",
       "      <td>Shakespeare’s King Lear challenges us with the magnitude, intensity, and sheer duration of the pain that it represents. Its figures harden their hearts, engage in violence, or try to alleviate the suffering of others. Lear himself rages until his sanity cracks. What, then, keeps bringing us back to King Lear? For all the force of its language, King Lear is almost equally powerful when translated, suggesting that it is the story, in large part, that draws us to the play.The play tells us about families struggling between greed and cruelty, on the one hand, and support and consolation, on the other. Emotions are extreme, magnified to gigantic proportions. We also see old age portrayed in all its vulnerability, pride, and, perhaps, wisdom—one reason this most devastating of Shakespeare’s tragedies is also perhaps his most moving.The authoritative edition of King Lear from The Folger Shakespeare Library, the trusted and widely used Shakespeare series for students and general readers, includes:-Freshly edited text based on the best early printed version of the play-Full explanatory notes conveniently placed on pages facing the text of the play-Scene-by-scene plot summaries-A key to the play’s famous lines and phrases-An introduction to reading Shakespeare’s language-An essay by a leading Shakespeare scholar providing a modern perspective on the play-Fresh images from the Folger Shakespeare Library’s vast holdings of rare books-An annotated guide to further readingEssay by Susan SnyderThe Folger Shakespeare Library in Washington, DC, is home to the world’s largest collection of Shakespeare’s printed works, and a magnet for Shakespeare scholars from around the globe. In addition to exhibitions open to the public throughout the year, the Folger offers a full calendar of performances and programs. For more information, visit Folger.edu.</td>\n",
       "      <td>Plays</td>\n",
       "    </tr>\n",
       "  </tbody>\n",
       "</table>\n",
       "</div>"
      ],
      "text/plain": [
       "                                                                                                                                                                                                                                                                                                                                                                                                                                                                                                                                                                                                                                                                                                                                                                                                                                                                                                                                                                                                                                                                                                                                                                                                                                                                                                                                                                                                                                                                                                                                                                                                                                                                                                                                                                                                                                                                                                                               Summary  \\\n",
       "0                                                                                                                                                                                                                                                                                                                                                                                                                                                                                                                                                                                                                                                                                                                                                                                                                                                                                                                                                                                                                                                                                                                                                                                                                                                                                                                                                                                                 It is the story of four seekers who arrive at a notoriously unfriendly pile called Hill House: Dr. Montague, an occult scholar looking for solid evidence of a \"haunting\"; Theodora, the lighthearted assistant; Eleanor, a friendless, fragile young woman well acquainted with poltergeists; and Luke, the future heir of Hill House. At first, their stay seems destined to be merely a spooky encounter with inexplicable phenomena. But Hill House is gathering its powers—and soon it will choose one of them to make its own.   \n",
       "1                                                                                                                                                                                                                                                                                                                                                                                                                                                                                                                                                                                                                                                                                                                                                                                                                                                                                                                                                                                                                                                                                                                                                                                                                                                                                                                                           Last year, Annabel was \"the girl who has everything\" — at least that's the part she played in the television commercial for Kopf's Department Store.This year, she's the girl who has nothing: no best friend because mean-but-exciting Sophie dropped her, no peace at home since her older sister became anorexic, and no one to sit with at lunch. Until she meets Owen Armstrong.Tall, dark, and music-obsessed, Owen is a reformed bad boy with a commitment to truth-telling. With Owen's help, maybe Annabel can face what happened the night she and Sophie stopped being friends.   \n",
       "2                                                                                                                                                                                                                                                                                                                                                                                                                                                                                                       WINNER OF THE PULITZER PRIZE ANDNEW YORK TIMESBESTSELLERIn the first volume of his monumental trilogy about the liberation of Europe in WW II, Pulitzer Prize winner Rick Atkinson tells the riveting story of the war in North AfricaThe liberation of Europe and the destruction of the Third Reich is a story of courage and enduring triumph, of calamity and miscalculation. In this first volume of the Liberation Trilogy, Rick Atkinson shows why no modern reader can understand the ultimate victory of the Allied powers without a grasp of the great drama that unfolded in North Africa in 1942 and 1943. That first year of the Allied war was a pivotal point in American history, the moment when the United States began to act like a great power.Beginning with the daring amphibious invasion in November 1942, An Army at Dawn follows the American and British armies as they fight the French in Morocco and Algeria, and then take on the Germans and Italians in Tunisia. Battle by battle, an inexperienced and sometimes poorly led army gradually becomes a superb fighting force. Central to the tale are the extraordinary but fallible commanders who come to dominate the battlefield: Eisenhower, Patton, Bradley, Montgomery, and Rommel.Brilliantly researched, rich with new material and vivid insights, Atkinson's narrative provides the definitive history of the war in North Africa.   \n",
       "3                                                                                                                                                                                                                                                                                                                                                                                                                                                                                                                                                         In the early hours of January 31, 1968, the North Vietnamese launched over one hundred attacks across South Vietnam in what would become known as the Tet Offensive. The lynchpin of Tet was the capture of Hue, Vietnam?s intellectual and cultural capital, by 10,000 National Liberation Front troops who descended from hidden camps and surged across the city of 140,000. Within hours the entire city was in their hands save for two small military outposts. American commanders refused to believe the size and scope of the Front?s presence, ordering small companies of marines against thousands of entrenched enemy troops. After several futile and deadly days, Lieutenant Colonel Ernie Cheatham would finally come up with a strategy to retake the city, block by block and building by building, in some of the most intense urban combat since World War II.With unprecedented access to war archives in the U.S. and Vietnam and interviews with participants from both sides, Bowden narrates each stage of this crucial battle through multiple viewpoints. Played out over 24 days and ultimately costing 10,000 lives, the Battle of Hue was by far the bloodiest of the entire war. When it ended, the American debate was never again about winning, only about how to leave. Hue 1968 is a gripping and moving account of this pivotal moment.   \n",
       "4  Shakespeare’s King Lear challenges us with the magnitude, intensity, and sheer duration of the pain that it represents. Its figures harden their hearts, engage in violence, or try to alleviate the suffering of others. Lear himself rages until his sanity cracks. What, then, keeps bringing us back to King Lear? For all the force of its language, King Lear is almost equally powerful when translated, suggesting that it is the story, in large part, that draws us to the play.The play tells us about families struggling between greed and cruelty, on the one hand, and support and consolation, on the other. Emotions are extreme, magnified to gigantic proportions. We also see old age portrayed in all its vulnerability, pride, and, perhaps, wisdom—one reason this most devastating of Shakespeare’s tragedies is also perhaps his most moving.The authoritative edition of King Lear from The Folger Shakespeare Library, the trusted and widely used Shakespeare series for students and general readers, includes:-Freshly edited text based on the best early printed version of the play-Full explanatory notes conveniently placed on pages facing the text of the play-Scene-by-scene plot summaries-A key to the play’s famous lines and phrases-An introduction to reading Shakespeare’s language-An essay by a leading Shakespeare scholar providing a modern perspective on the play-Fresh images from the Folger Shakespeare Library’s vast holdings of rare books-An annotated guide to further readingEssay by Susan SnyderThe Folger Shakespeare Library in Washington, DC, is home to the world’s largest collection of Shakespeare’s printed works, and a magnet for Shakespeare scholars from around the globe. In addition to exhibitions open to the public throughout the year, the Folger offers a full calendar of performances and programs. For more information, visit Folger.edu.   \n",
       "\n",
       "        Genres  \n",
       "0       Horror  \n",
       "1  Young Adult  \n",
       "2      History  \n",
       "3      History  \n",
       "4        Plays  "
      ]
     },
     "execution_count": 44,
     "metadata": {},
     "output_type": "execute_result"
    }
   ],
   "source": [
    "df.head()"
   ]
  },
  {
   "cell_type": "markdown",
   "id": "c151cef8-776c-4b94-8769-729236683ab0",
   "metadata": {},
   "source": [
    "### **c. Combine similar genres**"
   ]
  },
  {
   "cell_type": "markdown",
   "id": "ddf614c9-4682-4cf6-be9b-74be3ca051f5",
   "metadata": {},
   "source": [
    "We will create a dictionary to define mappings for grouped genres."
   ]
  },
  {
   "cell_type": "code",
   "execution_count": 45,
   "id": "58369f2e-3f23-4cd5-80ca-59a40492f310",
   "metadata": {},
   "outputs": [],
   "source": [
    "genre_mapping = {\n",
    "    \n",
    "    # 1. Fantasy\n",
    "    \"Beauty and The Beast\": \"Fantasy\", \"Superheroes\" : \"Fantasy\", \"Mythology\":\"Fantasy\",\n",
    "    \"Adventure\": \"Fantasy\", \"Epic\": \"Fantasy\", \"Epic Fantasy\": \"Fantasy\", \"Pirates\": \"Fantasy\",\n",
    "\n",
    "    # 2. Biographies and Memoirs\n",
    "    \"Biography\": \"Biographies and Memoirs\", \"Autobiography\": \"Biographies and Memoirs\", \"Memoir\": \"Biographies and Memoirs\",\n",
    "    \"True Story\": \"Biographies and Memoirs\",\n",
    "\n",
    "    # 3. Youth Literature (Children and Young Adult)\n",
    "    \"Childrens\": \"Youth Literature (Children and Young Adult)\", \"Middle Grade\": \"Youth Literature (Children and Young Adult)\", \n",
    "    \"Picture Books\": \"Youth Literature (Children and Young Adult)\", \"Teen\": \"Youth Literature (Children and Young Adult)\", \n",
    "    \"Picture Books\":\"Youth Literature (Children and Young Adult)\", \"Young Adult Romance\": \"Youth Literature (Children and Young Adult)\", \n",
    "    \"New Adult\": \"Youth Literature (Children and Young Adult)\",  \"Coming Of Age\": \"Youth Literature (Children and Young Adult)\",\n",
    "    \"Young Adult\": \"Youth Literature (Children and Young Adult)\",\n",
    "\n",
    "    # 4. Classics and Historical\n",
    "    \"History\":\"Classics and Historical\",\"Classics\": \"Classics and Historical\", \"Historical\": \"Classics and Historical\", \n",
    "    \"Historical Fiction\": \"Classics and Historical\", \"Historical Romance\": \"Classics and Historical\", \n",
    "    \"19th Century\": \"Classics and Historical\", \"Holocaust\": \"Classics and Historical\",\n",
    "    \"War\": \"Classics and Historical\", \"Military Fiction\": \"Classics and Historical\",\n",
    "\n",
    "    # 5. Crime and Crime fiction\n",
    "    \"Crime\": \"Crime and Crime Fiction\", \"True Crime\": \"Crime and Crime Fiction\", \"Noir\": \"Crime and Crime Fiction\",\n",
    "\n",
    "    # 6. Suspense and Thriller\n",
    "    \"Thriller\": \"Suspense and Thriller\", \"Mystery Thriller\": \"Suspense and Thriller\",  \n",
    "    \"Suspense\": \"Suspense and Thriller\", \"Legal Thriller\":\"Suspense and Thriller\", \"Spy Thriller\":\"Suspense and Thriller\",\n",
    "    \"Romantic Suspense\":\"Suspense and Thriller\", \"Survival\": \"Suspense and Thriller\",\n",
    "\n",
    "    # 7. Horror and Paranormal\n",
    "    \"Dark\": \"Horror and Paranormal\", \"Horror\": \"Horror and Paranormal\", \"Occult\": \"Horror and Paranormal\", \"Witches\": \"Horror and Paranormal\",\n",
    "    \"Zombies\": \"Horror and Paranormal\", \"Vampires\": \"Horror and Paranormal\",\n",
    "    \"Paranormal\": \"Horror and Paranormal\", \"Paranormal Romance\": \"Horror and Paranormal\",\n",
    "\n",
    "    # 8. Science Fiction\n",
    "    \"Science Fiction Fantasy\": \"Science Fiction\", \"Post-Apocalyptic\": \"Science Fiction\", \"Steampunk\": \"Science Fiction\",\n",
    "    \"Time Travel\": \"Science Fiction\", \"Dystopia\": \"Science Fiction\", \"Star Wars\": \"Science Fiction\",\n",
    "\n",
    "    # 9. Fantasy\n",
    "    \"Magical Realism\": \"Fantasy\", \"Urban Fantasy\": \"Fantasy\", \n",
    "\n",
    "    # 10. Psychology\n",
    "    \"Mental Health\": \"Psychology\", \"Mental Illness\": \"Psychology\", \n",
    "\n",
    "    # 11. Inspirational and Self-Help\n",
    "    \"Self Help\": \"Inspirational and Self-Help\", \"Inspirational\": \"Inspirational and Self-Help\", \"Personal Development\": \"Inspirational and Self-Help\",\n",
    "\n",
    "    # 12. Religion and Spirituality\n",
    "    \"Christian\": \"Religion and Spirituality\", \"Christian Fiction\": \"Religion and Spirituality\", \"Christian Living\": \"Religion and Spirituality\", \n",
    "    \"Buddhism\": \"Religion and Spirituality\", \"Islam\": \"Religion and Spirituality\", \n",
    "    \"Prayer\": \"Religion and Spirituality\", \"Spirituality\": \"Religion and Spirituality\", \n",
    "    \"Theology\": \"Religion and Spirituality\", \"Religion\": \"Religion and Spirituality\",  \"Paganism\": \"Religion and Spirituality\",\n",
    "\n",
    "    # 13. Science and Technology\n",
    "    \"Science\": \"Science and Technology\", \"Computer Science\": \"Science and Technology\", \"Artificial Intelligence\": \"Science and Technology\",\n",
    "\n",
    "    # 14. Social and Political\n",
    "    \"Politics\": \"Social and Political\", \"Feminism\": \"Social and Political\", \"Philosophy\": \"Social and Political\", \n",
    "    \"Leadership\": \"Social and Political\",\n",
    "\n",
    "    # 15. Romance\n",
    "    \"Erotica\": \"Romance\", \"Sports Romance\":\"Romance\", \"Love\":\"Romance\", \"Reverse Harem\": \"Romance\", \"Contemporary Romance\": \"Romance\",\n",
    "\n",
    "    # 16. Fiction\n",
    "    \"Realistic Fiction\": \"Fiction\",\n",
    "\n",
    "    # 17. Literary Fiction\n",
    "    \"Drama\": \"Literary Fiction\", \"Novels\": \"Literary Fiction\",\"Plays\": \"Literary Fiction\", \"Short Stories\": \"Literary Fiction\", \"Poetry\": \"Literary Fiction\"\n",
    "    \n",
    "}"
   ]
  },
  {
   "cell_type": "code",
   "execution_count": 46,
   "id": "a3d06276-8429-4313-bf67-c8befb15b246",
   "metadata": {},
   "outputs": [],
   "source": [
    "# Apply the mappings\n",
    "df['GroupedGenres'] = df['Genres'].replace(genre_mapping)"
   ]
  },
  {
   "cell_type": "code",
   "execution_count": 47,
   "id": "78d0c722-930f-4d6e-be76-d9b4bd13dbff",
   "metadata": {},
   "outputs": [
    {
     "data": {
      "text/html": [
       "<div>\n",
       "<style scoped>\n",
       "    .dataframe tbody tr th:only-of-type {\n",
       "        vertical-align: middle;\n",
       "    }\n",
       "\n",
       "    .dataframe tbody tr th {\n",
       "        vertical-align: top;\n",
       "    }\n",
       "\n",
       "    .dataframe thead th {\n",
       "        text-align: right;\n",
       "    }\n",
       "</style>\n",
       "<table border=\"1\" class=\"dataframe\">\n",
       "  <thead>\n",
       "    <tr style=\"text-align: right;\">\n",
       "      <th></th>\n",
       "      <th>Summary</th>\n",
       "      <th>Genres</th>\n",
       "      <th>GroupedGenres</th>\n",
       "    </tr>\n",
       "  </thead>\n",
       "  <tbody>\n",
       "    <tr>\n",
       "      <th>0</th>\n",
       "      <td>It is the story of four seekers who arrive at a notoriously unfriendly pile called Hill House: Dr. Montague, an occult scholar looking for solid evidence of a \"haunting\"; Theodora, the lighthearted assistant; Eleanor, a friendless, fragile young woman well acquainted with poltergeists; and Luke, the future heir of Hill House. At first, their stay seems destined to be merely a spooky encounter with inexplicable phenomena. But Hill House is gathering its powers—and soon it will choose one of them to make its own.</td>\n",
       "      <td>Horror</td>\n",
       "      <td>Horror and Paranormal</td>\n",
       "    </tr>\n",
       "    <tr>\n",
       "      <th>1</th>\n",
       "      <td>Last year, Annabel was \"the girl who has everything\" — at least that's the part she played in the television commercial for Kopf's Department Store.This year, she's the girl who has nothing: no best friend because mean-but-exciting Sophie dropped her, no peace at home since her older sister became anorexic, and no one to sit with at lunch. Until she meets Owen Armstrong.Tall, dark, and music-obsessed, Owen is a reformed bad boy with a commitment to truth-telling. With Owen's help, maybe Annabel can face what happened the night she and Sophie stopped being friends.</td>\n",
       "      <td>Young Adult</td>\n",
       "      <td>Youth Literature (Children and Young Adult)</td>\n",
       "    </tr>\n",
       "    <tr>\n",
       "      <th>2</th>\n",
       "      <td>WINNER OF THE PULITZER PRIZE ANDNEW YORK TIMESBESTSELLERIn the first volume of his monumental trilogy about the liberation of Europe in WW II, Pulitzer Prize winner Rick Atkinson tells the riveting story of the war in North AfricaThe liberation of Europe and the destruction of the Third Reich is a story of courage and enduring triumph, of calamity and miscalculation. In this first volume of the Liberation Trilogy, Rick Atkinson shows why no modern reader can understand the ultimate victory of the Allied powers without a grasp of the great drama that unfolded in North Africa in 1942 and 1943. That first year of the Allied war was a pivotal point in American history, the moment when the United States began to act like a great power.Beginning with the daring amphibious invasion in November 1942, An Army at Dawn follows the American and British armies as they fight the French in Morocco and Algeria, and then take on the Germans and Italians in Tunisia. Battle by battle, an inexperienced and sometimes poorly led army gradually becomes a superb fighting force. Central to the tale are the extraordinary but fallible commanders who come to dominate the battlefield: Eisenhower, Patton, Bradley, Montgomery, and Rommel.Brilliantly researched, rich with new material and vivid insights, Atkinson's narrative provides the definitive history of the war in North Africa.</td>\n",
       "      <td>History</td>\n",
       "      <td>Classics and Historical</td>\n",
       "    </tr>\n",
       "    <tr>\n",
       "      <th>3</th>\n",
       "      <td>In the early hours of January 31, 1968, the North Vietnamese launched over one hundred attacks across South Vietnam in what would become known as the Tet Offensive. The lynchpin of Tet was the capture of Hue, Vietnam?s intellectual and cultural capital, by 10,000 National Liberation Front troops who descended from hidden camps and surged across the city of 140,000. Within hours the entire city was in their hands save for two small military outposts. American commanders refused to believe the size and scope of the Front?s presence, ordering small companies of marines against thousands of entrenched enemy troops. After several futile and deadly days, Lieutenant Colonel Ernie Cheatham would finally come up with a strategy to retake the city, block by block and building by building, in some of the most intense urban combat since World War II.With unprecedented access to war archives in the U.S. and Vietnam and interviews with participants from both sides, Bowden narrates each stage of this crucial battle through multiple viewpoints. Played out over 24 days and ultimately costing 10,000 lives, the Battle of Hue was by far the bloodiest of the entire war. When it ended, the American debate was never again about winning, only about how to leave. Hue 1968 is a gripping and moving account of this pivotal moment.</td>\n",
       "      <td>History</td>\n",
       "      <td>Classics and Historical</td>\n",
       "    </tr>\n",
       "    <tr>\n",
       "      <th>4</th>\n",
       "      <td>Shakespeare’s King Lear challenges us with the magnitude, intensity, and sheer duration of the pain that it represents. Its figures harden their hearts, engage in violence, or try to alleviate the suffering of others. Lear himself rages until his sanity cracks. What, then, keeps bringing us back to King Lear? For all the force of its language, King Lear is almost equally powerful when translated, suggesting that it is the story, in large part, that draws us to the play.The play tells us about families struggling between greed and cruelty, on the one hand, and support and consolation, on the other. Emotions are extreme, magnified to gigantic proportions. We also see old age portrayed in all its vulnerability, pride, and, perhaps, wisdom—one reason this most devastating of Shakespeare’s tragedies is also perhaps his most moving.The authoritative edition of King Lear from The Folger Shakespeare Library, the trusted and widely used Shakespeare series for students and general readers, includes:-Freshly edited text based on the best early printed version of the play-Full explanatory notes conveniently placed on pages facing the text of the play-Scene-by-scene plot summaries-A key to the play’s famous lines and phrases-An introduction to reading Shakespeare’s language-An essay by a leading Shakespeare scholar providing a modern perspective on the play-Fresh images from the Folger Shakespeare Library’s vast holdings of rare books-An annotated guide to further readingEssay by Susan SnyderThe Folger Shakespeare Library in Washington, DC, is home to the world’s largest collection of Shakespeare’s printed works, and a magnet for Shakespeare scholars from around the globe. In addition to exhibitions open to the public throughout the year, the Folger offers a full calendar of performances and programs. For more information, visit Folger.edu.</td>\n",
       "      <td>Plays</td>\n",
       "      <td>Literary Fiction</td>\n",
       "    </tr>\n",
       "  </tbody>\n",
       "</table>\n",
       "</div>"
      ],
      "text/plain": [
       "                                                                                                                                                                                                                                                                                                                                                                                                                                                                                                                                                                                                                                                                                                                                                                                                                                                                                                                                                                                                                                                                                                                                                                                                                                                                                                                                                                                                                                                                                                                                                                                                                                                                                                                                                                                                                                                                                                                               Summary  \\\n",
       "0                                                                                                                                                                                                                                                                                                                                                                                                                                                                                                                                                                                                                                                                                                                                                                                                                                                                                                                                                                                                                                                                                                                                                                                                                                                                                                                                                                                                 It is the story of four seekers who arrive at a notoriously unfriendly pile called Hill House: Dr. Montague, an occult scholar looking for solid evidence of a \"haunting\"; Theodora, the lighthearted assistant; Eleanor, a friendless, fragile young woman well acquainted with poltergeists; and Luke, the future heir of Hill House. At first, their stay seems destined to be merely a spooky encounter with inexplicable phenomena. But Hill House is gathering its powers—and soon it will choose one of them to make its own.   \n",
       "1                                                                                                                                                                                                                                                                                                                                                                                                                                                                                                                                                                                                                                                                                                                                                                                                                                                                                                                                                                                                                                                                                                                                                                                                                                                                                                                                           Last year, Annabel was \"the girl who has everything\" — at least that's the part she played in the television commercial for Kopf's Department Store.This year, she's the girl who has nothing: no best friend because mean-but-exciting Sophie dropped her, no peace at home since her older sister became anorexic, and no one to sit with at lunch. Until she meets Owen Armstrong.Tall, dark, and music-obsessed, Owen is a reformed bad boy with a commitment to truth-telling. With Owen's help, maybe Annabel can face what happened the night she and Sophie stopped being friends.   \n",
       "2                                                                                                                                                                                                                                                                                                                                                                                                                                                                                                       WINNER OF THE PULITZER PRIZE ANDNEW YORK TIMESBESTSELLERIn the first volume of his monumental trilogy about the liberation of Europe in WW II, Pulitzer Prize winner Rick Atkinson tells the riveting story of the war in North AfricaThe liberation of Europe and the destruction of the Third Reich is a story of courage and enduring triumph, of calamity and miscalculation. In this first volume of the Liberation Trilogy, Rick Atkinson shows why no modern reader can understand the ultimate victory of the Allied powers without a grasp of the great drama that unfolded in North Africa in 1942 and 1943. That first year of the Allied war was a pivotal point in American history, the moment when the United States began to act like a great power.Beginning with the daring amphibious invasion in November 1942, An Army at Dawn follows the American and British armies as they fight the French in Morocco and Algeria, and then take on the Germans and Italians in Tunisia. Battle by battle, an inexperienced and sometimes poorly led army gradually becomes a superb fighting force. Central to the tale are the extraordinary but fallible commanders who come to dominate the battlefield: Eisenhower, Patton, Bradley, Montgomery, and Rommel.Brilliantly researched, rich with new material and vivid insights, Atkinson's narrative provides the definitive history of the war in North Africa.   \n",
       "3                                                                                                                                                                                                                                                                                                                                                                                                                                                                                                                                                         In the early hours of January 31, 1968, the North Vietnamese launched over one hundred attacks across South Vietnam in what would become known as the Tet Offensive. The lynchpin of Tet was the capture of Hue, Vietnam?s intellectual and cultural capital, by 10,000 National Liberation Front troops who descended from hidden camps and surged across the city of 140,000. Within hours the entire city was in their hands save for two small military outposts. American commanders refused to believe the size and scope of the Front?s presence, ordering small companies of marines against thousands of entrenched enemy troops. After several futile and deadly days, Lieutenant Colonel Ernie Cheatham would finally come up with a strategy to retake the city, block by block and building by building, in some of the most intense urban combat since World War II.With unprecedented access to war archives in the U.S. and Vietnam and interviews with participants from both sides, Bowden narrates each stage of this crucial battle through multiple viewpoints. Played out over 24 days and ultimately costing 10,000 lives, the Battle of Hue was by far the bloodiest of the entire war. When it ended, the American debate was never again about winning, only about how to leave. Hue 1968 is a gripping and moving account of this pivotal moment.   \n",
       "4  Shakespeare’s King Lear challenges us with the magnitude, intensity, and sheer duration of the pain that it represents. Its figures harden their hearts, engage in violence, or try to alleviate the suffering of others. Lear himself rages until his sanity cracks. What, then, keeps bringing us back to King Lear? For all the force of its language, King Lear is almost equally powerful when translated, suggesting that it is the story, in large part, that draws us to the play.The play tells us about families struggling between greed and cruelty, on the one hand, and support and consolation, on the other. Emotions are extreme, magnified to gigantic proportions. We also see old age portrayed in all its vulnerability, pride, and, perhaps, wisdom—one reason this most devastating of Shakespeare’s tragedies is also perhaps his most moving.The authoritative edition of King Lear from The Folger Shakespeare Library, the trusted and widely used Shakespeare series for students and general readers, includes:-Freshly edited text based on the best early printed version of the play-Full explanatory notes conveniently placed on pages facing the text of the play-Scene-by-scene plot summaries-A key to the play’s famous lines and phrases-An introduction to reading Shakespeare’s language-An essay by a leading Shakespeare scholar providing a modern perspective on the play-Fresh images from the Folger Shakespeare Library’s vast holdings of rare books-An annotated guide to further readingEssay by Susan SnyderThe Folger Shakespeare Library in Washington, DC, is home to the world’s largest collection of Shakespeare’s printed works, and a magnet for Shakespeare scholars from around the globe. In addition to exhibitions open to the public throughout the year, the Folger offers a full calendar of performances and programs. For more information, visit Folger.edu.   \n",
       "\n",
       "        Genres                                GroupedGenres  \n",
       "0       Horror                        Horror and Paranormal  \n",
       "1  Young Adult  Youth Literature (Children and Young Adult)  \n",
       "2      History                      Classics and Historical  \n",
       "3      History                      Classics and Historical  \n",
       "4        Plays                             Literary Fiction  "
      ]
     },
     "execution_count": 47,
     "metadata": {},
     "output_type": "execute_result"
    }
   ],
   "source": [
    "df.head()"
   ]
  },
  {
   "cell_type": "code",
   "execution_count": 48,
   "id": "c271e82d-067f-4dc5-9f83-5190cb44f394",
   "metadata": {
    "scrolled": true
   },
   "outputs": [
    {
     "data": {
      "text/plain": [
       "GroupedGenres\n",
       "Fiction                                        1158\n",
       "Fantasy                                         914\n",
       "Mystery                                         748\n",
       "Classics and Historical                         716\n",
       "Youth Literature (Children and Young Adult)     550\n",
       "Science Fiction                                 366\n",
       "Suspense and Thriller                           345\n",
       "Horror and Paranormal                           280\n",
       "Romance                                         253\n",
       "Literary Fiction                                203\n",
       "Biographies and Memoirs                         123\n",
       "Religion and Spirituality                        80\n",
       "Inspirational and Self-Help                      59\n",
       "Social and Political                             57\n",
       "Crime and Crime Fiction                          50\n",
       "Science and Technology                           46\n",
       "Psychology                                       39\n",
       "Name: count, dtype: int64"
      ]
     },
     "execution_count": 48,
     "metadata": {},
     "output_type": "execute_result"
    }
   ],
   "source": [
    "df['GroupedGenres'].value_counts()"
   ]
  },
  {
   "cell_type": "code",
   "execution_count": 49,
   "id": "c86d4dfb-3ea6-447a-b73d-54b3a62b9d2d",
   "metadata": {},
   "outputs": [],
   "source": [
    "# Drop the genres column\n",
    "df.drop(columns = ['Genres'], inplace = True)"
   ]
  },
  {
   "cell_type": "code",
   "execution_count": 50,
   "id": "6dfd0b91-7ee8-423f-866d-e512bcb04fb4",
   "metadata": {},
   "outputs": [
    {
     "data": {
      "text/plain": [
       "Summary          object\n",
       "GroupedGenres    object\n",
       "dtype: object"
      ]
     },
     "execution_count": 50,
     "metadata": {},
     "output_type": "execute_result"
    }
   ],
   "source": [
    "df.dtypes"
   ]
  },
  {
   "cell_type": "code",
   "execution_count": 51,
   "id": "7b0ca083-9207-43cf-a36d-f8557e955849",
   "metadata": {},
   "outputs": [],
   "source": [
    "df.reset_index(drop = True, inplace = True)"
   ]
  },
  {
   "cell_type": "markdown",
   "id": "49298b47-f71e-4db0-9021-5899f0f2eb5e",
   "metadata": {},
   "source": [
    "## **4. Visualizing Genre Count**"
   ]
  },
  {
   "cell_type": "code",
   "execution_count": 52,
   "id": "90463b34-53cc-4ad3-8765-c206d7c781e0",
   "metadata": {},
   "outputs": [],
   "source": [
    "genre_counts = df[\"GroupedGenres\"].value_counts()"
   ]
  },
  {
   "cell_type": "code",
   "execution_count": 53,
   "id": "dce362fa-2d9a-4c7a-852e-28dd82529f9b",
   "metadata": {},
   "outputs": [
    {
     "name": "stderr",
     "output_type": "stream",
     "text": [
      "C:\\Users\\HP\\AppData\\Local\\Temp\\ipykernel_15244\\1301089958.py:2: FutureWarning: \n",
      "\n",
      "Passing `palette` without assigning `hue` is deprecated and will be removed in v0.14.0. Assign the `y` variable to `hue` and set `legend=False` for the same effect.\n",
      "\n",
      "  sns.barplot(x = genre_counts.values, y = genre_counts.index, palette = \"viridis\")\n"
     ]
    },
    {
     "data": {
      "image/png": "[encoded data removed]",
      "text/plain": [
       "<Figure size 1000x1000 with 1 Axes>"
      ]
     },
     "metadata": {},
     "output_type": "display_data"
    }
   ],
   "source": [
    "plt.figure(figsize = (10,10))\n",
    "sns.barplot(x = genre_counts.values, y = genre_counts.index, palette = \"viridis\")\n",
    "plt.xlabel(\"Frequency\", fontsize = 13)\n",
    "plt.ylabel(\"Genre\",  fontsize = 13)\n",
    "plt.title(\"Genre Frequency Distribution\", pad = 20, fontsize = 16)\n",
    "\n",
    "for index, value in enumerate(genre_counts.values):\n",
    "    plt.text(value, index, str(value), va = 'center')\n",
    "    \n",
    "plt.show()"
   ]
  },
  {
   "cell_type": "markdown",
   "id": "07b5e212-80e0-404f-80d5-c04b55669688",
   "metadata": {},
   "source": [
    "## **5. Merging Goodreads Dataset with 4 Minute Summary Dataset**"
   ]
  },
  {
   "cell_type": "markdown",
   "id": "4a9f41ef-34c2-4668-9531-41224110bbb4",
   "metadata": {},
   "source": [
    "Since some of the genres have a very low count even after merging, we will use a dataset from kaggle to aid our original dataset."
   ]
  },
  {
   "cell_type": "code",
   "execution_count": 54,
   "id": "4289f15c-8f08-4744-a8c7-87ff637b6e5d",
   "metadata": {},
   "outputs": [],
   "source": [
    "df1 = pd.read_csv(\"C:/Users/HP/Downloads/FourMinuteBookSummaries.csv\")"
   ]
  },
  {
   "cell_type": "code",
   "execution_count": 55,
   "id": "d92006cf-fa6a-4a9d-96e8-e5a971d399d0",
   "metadata": {},
   "outputs": [
    {
     "data": {
      "text/html": [
       "<div>\n",
       "<style scoped>\n",
       "    .dataframe tbody tr th:only-of-type {\n",
       "        vertical-align: middle;\n",
       "    }\n",
       "\n",
       "    .dataframe tbody tr th {\n",
       "        vertical-align: top;\n",
       "    }\n",
       "\n",
       "    .dataframe thead th {\n",
       "        text-align: right;\n",
       "    }\n",
       "</style>\n",
       "<table border=\"1\" class=\"dataframe\">\n",
       "  <thead>\n",
       "    <tr style=\"text-align: right;\">\n",
       "      <th></th>\n",
       "      <th>Unnamed: 0</th>\n",
       "      <th>Summary</th>\n",
       "      <th>GroupedGenres</th>\n",
       "    </tr>\n",
       "  </thead>\n",
       "  <tbody>\n",
       "    <tr>\n",
       "      <th>0</th>\n",
       "      <td>0</td>\n",
       "      <td>is a self-assessment guide and how-to-live template for people who feel, relate, process, and notice more deeply than others, and who frequently suffer from overstimulation as a result.</td>\n",
       "      <td>Science and Technology</td>\n",
       "    </tr>\n",
       "    <tr>\n",
       "      <th>1</th>\n",
       "      <td>1</td>\n",
       "      <td>is a collection of a clinical psychologist’s best practical advice to combat anxiety and depression and improve our mental health in small increments, collected from over a decade of 1-on-1 work with patients.</td>\n",
       "      <td>Science and Technology</td>\n",
       "    </tr>\n",
       "    <tr>\n",
       "      <th>2</th>\n",
       "      <td>2</td>\n",
       "      <td>tells the story of Nora, a depressed woman in her 30s, who, on the day she decides to die, finds herself in a library full of lives she could have lived, where she discovers there’s a lot more to life, even her current one, than she had ever imagined.</td>\n",
       "      <td>Science and Technology</td>\n",
       "    </tr>\n",
       "    <tr>\n",
       "      <th>3</th>\n",
       "      <td>3</td>\n",
       "      <td>presents a futuristic society engineered perfectly around capitalism and scientific efficiency, in which everyone is happy, conform, and content — but only at first glance.</td>\n",
       "      <td>Science and Technology</td>\n",
       "    </tr>\n",
       "    <tr>\n",
       "      <th>4</th>\n",
       "      <td>4</td>\n",
       "      <td>is the story of a man questioning the system that keeps his futuristic but dystopian society afloat and the chaos that quickly ensues once he gives in to his natural curiosity and desire to be free.</td>\n",
       "      <td>Science and Technology</td>\n",
       "    </tr>\n",
       "  </tbody>\n",
       "</table>\n",
       "</div>"
      ],
      "text/plain": [
       "   Unnamed: 0  \\\n",
       "0           0   \n",
       "1           1   \n",
       "2           2   \n",
       "3           3   \n",
       "4           4   \n",
       "\n",
       "                                                                                                                                                                                                                                                        Summary  \\\n",
       "0                                                                     is a self-assessment guide and how-to-live template for people who feel, relate, process, and notice more deeply than others, and who frequently suffer from overstimulation as a result.   \n",
       "1                                             is a collection of a clinical psychologist’s best practical advice to combat anxiety and depression and improve our mental health in small increments, collected from over a decade of 1-on-1 work with patients.   \n",
       "2   tells the story of Nora, a depressed woman in her 30s, who, on the day she decides to die, finds herself in a library full of lives she could have lived, where she discovers there’s a lot more to life, even her current one, than she had ever imagined.   \n",
       "3                                                                                  presents a futuristic society engineered perfectly around capitalism and scientific efficiency, in which everyone is happy, conform, and content — but only at first glance.   \n",
       "4                                                        is the story of a man questioning the system that keeps his futuristic but dystopian society afloat and the chaos that quickly ensues once he gives in to his natural curiosity and desire to be free.   \n",
       "\n",
       "            GroupedGenres  \n",
       "0  Science and Technology  \n",
       "1  Science and Technology  \n",
       "2  Science and Technology  \n",
       "3  Science and Technology  \n",
       "4  Science and Technology  "
      ]
     },
     "execution_count": 55,
     "metadata": {},
     "output_type": "execute_result"
    }
   ],
   "source": [
    "df1.head()"
   ]
  },
  {
   "cell_type": "code",
   "execution_count": 56,
   "id": "4604e9d9-b475-41ae-a2ec-c6b72939750f",
   "metadata": {},
   "outputs": [],
   "source": [
    "df1.drop('Unnamed: 0', inplace = True, axis = 1)"
   ]
  },
  {
   "cell_type": "code",
   "execution_count": 57,
   "id": "9fce1782-51b4-41d5-8dad-b1f1fcd5bcb1",
   "metadata": {},
   "outputs": [
    {
     "data": {
      "text/plain": [
       "(1295, 2)"
      ]
     },
     "execution_count": 57,
     "metadata": {},
     "output_type": "execute_result"
    }
   ],
   "source": [
    "df1.shape"
   ]
  },
  {
   "cell_type": "markdown",
   "id": "8209e188-a4e3-4839-b636-8287b78b4e51",
   "metadata": {},
   "source": [
    "#### **Concatenating the datasets**"
   ]
  },
  {
   "cell_type": "code",
   "execution_count": 58,
   "id": "48bb55bb-2de9-41fb-9d41-059c1cfeac50",
   "metadata": {},
   "outputs": [],
   "source": [
    "df = pd.concat([df, df1])"
   ]
  },
  {
   "cell_type": "code",
   "execution_count": 59,
   "id": "192025b9-1c20-419a-b90d-5cdda830a244",
   "metadata": {},
   "outputs": [
    {
     "data": {
      "text/plain": [
       "(7282, 2)"
      ]
     },
     "execution_count": 59,
     "metadata": {},
     "output_type": "execute_result"
    }
   ],
   "source": [
    "df.shape"
   ]
  },
  {
   "cell_type": "code",
   "execution_count": 60,
   "id": "d29d4e58-bb47-415d-b014-236c99589dd9",
   "metadata": {},
   "outputs": [
    {
     "data": {
      "text/plain": [
       "GroupedGenres\n",
       "Fiction                                        1158\n",
       "Fantasy                                         914\n",
       "Mystery                                         748\n",
       "Classics and Historical                         716\n",
       "Psychology                                      621\n",
       "Youth Literature (Children and Young Adult)     550\n",
       "Inspirational and Self-Help                     369\n",
       "Science Fiction                                 366\n",
       "Suspense and Thriller                           345\n",
       "Science and Technology                          341\n",
       "Horror and Paranormal                           280\n",
       "Romance                                         253\n",
       "Literary Fiction                                203\n",
       "Biographies and Memoirs                         202\n",
       "Religion and Spirituality                       109\n",
       "Social and Political                             57\n",
       "Crime and Crime Fiction                          50\n",
       "Name: count, dtype: int64"
      ]
     },
     "execution_count": 60,
     "metadata": {},
     "output_type": "execute_result"
    }
   ],
   "source": [
    "df['GroupedGenres'].value_counts()"
   ]
  },
  {
   "cell_type": "markdown",
   "id": "40fa0005-4796-4a7e-97a3-36eafbd673e3",
   "metadata": {},
   "source": [
    "#### **Since some of the genres still have a very low count and can hinder our model performance so we will drop them.**"
   ]
  },
  {
   "cell_type": "code",
   "execution_count": 61,
   "id": "394f476f-8d6f-4fc3-8221-d0d495242ddc",
   "metadata": {},
   "outputs": [],
   "source": [
    "# We will remove the following genres since they have a very low count\n",
    "genres_to_remove = ['Religion and Spirituality','Social and Political','Crime and Crime Fiction']\n"
   ]
  },
  {
   "cell_type": "code",
   "execution_count": 62,
   "id": "1652c346-71db-4a34-bac7-4017832d717b",
   "metadata": {},
   "outputs": [],
   "source": [
    "df = df[~df['GroupedGenres'].isin(genres_to_remove)]\n",
    "df.reset_index(drop = True, inplace = True)"
   ]
  },
  {
   "cell_type": "code",
   "execution_count": 63,
   "id": "05cf4576-e386-41cc-8570-014b18db8aa0",
   "metadata": {},
   "outputs": [
    {
     "name": "stderr",
     "output_type": "stream",
     "text": [
      "C:\\Users\\HP\\AppData\\Local\\Temp\\ipykernel_15244\\3442204094.py:4: FutureWarning: \n",
      "\n",
      "Passing `palette` without assigning `hue` is deprecated and will be removed in v0.14.0. Assign the `y` variable to `hue` and set `legend=False` for the same effect.\n",
      "\n",
      "  sns.barplot(x = genre_counts.values, y = genre_counts.index, palette = \"viridis\")\n"
     ]
    },
    {
     "data": {
      "image/png": "[encoded data removed]",
      "text/plain": [
       "<Figure size 1000x1000 with 1 Axes>"
      ]
     },
     "metadata": {},
     "output_type": "display_data"
    }
   ],
   "source": [
    "genre_counts = df[\"GroupedGenres\"].value_counts()\n",
    "\n",
    "plt.figure(figsize = (10,10))\n",
    "sns.barplot(x = genre_counts.values, y = genre_counts.index, palette = \"viridis\")\n",
    "plt.xlabel(\"Frequency\", fontsize = 13)\n",
    "plt.ylabel(\"Genre\",  fontsize = 13)\n",
    "plt.title(\"Genre Frequency Distribution\", pad = 20, fontsize = 16)\n",
    "\n",
    "for index, value in enumerate(genre_counts.values):\n",
    "    plt.text(value, index, str(value), va = 'center')\n",
    "    \n",
    "plt.show()"
   ]
  },
  {
   "cell_type": "markdown",
   "id": "2ed613fc-94aa-4406-bcb3-d61995f6774b",
   "metadata": {},
   "source": [
    "## **6. Writing Function To Clean Text**"
   ]
  },
  {
   "cell_type": "markdown",
   "id": "1985d277-ac1f-4c82-8e32-345ecc05d4ab",
   "metadata": {},
   "source": [
    "### **a. Clean Summary Text**"
   ]
  },
  {
   "cell_type": "code",
   "execution_count": 64,
   "id": "4b2a22dc-4ce6-4ad8-b519-0b9b218d8752",
   "metadata": {},
   "outputs": [],
   "source": [
    "# nltk.download('stopwords')"
   ]
  },
  {
   "cell_type": "code",
   "execution_count": 65,
   "id": "1c5bc010-9043-47d5-ab15-304bca6f468c",
   "metadata": {},
   "outputs": [],
   "source": [
    "#stop_words = set(stopwords.words('english'))"
   ]
  },
  {
   "cell_type": "code",
   "execution_count": 66,
   "id": "f92da86f-9773-49f0-bb30-28cd674960e0",
   "metadata": {},
   "outputs": [],
   "source": [
    "def clean_summary(summary):\n",
    "    stopwords = {'a', 'about', 'above', 'after', 'again', 'against', 'ain', 'all', 'am', 'an', 'and', 'any', 'are',  'aren', \"aren't\", 'as', 'at', \n",
    "                     'be', 'because', 'been', 'before', 'being', 'below', 'between', 'both','but', 'by', 'can', 'couldn', \"couldn't\", 'd', 'did', 'didn', \n",
    "                     \"didn't\", 'do', 'does', 'doesn', \"doesn't\", 'doing', 'don', \"don't\", 'down', 'during', 'each', 'few', 'for', 'from', 'further', 'had', \n",
    "                     'hadn', \"hadn't\",'has', 'hasn', \"hasn't\", 'have', 'haven', \"haven't\", 'having', 'he', 'her', 'here', 'hers', 'herself', 'him', 'himself', \n",
    "                     'his', 'how', 'i', 'if', 'in', 'into', 'is', 'isn', \"isn't\", 'it', \"it's\", 'its', 'itself', 'just', 'll', 'm', 'ma', 'me', 'mightn', \"mightn't\",\n",
    "                     'more', 'most', 'mustn', \"mustn't\", 'my', 'myself', 'needn', \"needn't\", 'no', 'nor', 'not', 'now', 'o', 'of', 'off', 'on', 'once', 'only', 'or',\n",
    "                     'other', 'our', 'ours', 'ourselves', 'out','over', 'own', 're', 's', 'same', 'shan', \"shan't\", 'she', \"she's\", 'should', \"should've\", 'shouldn', \n",
    "                     \"shouldn't\",'so', 'some', 'such', 't', 'than', 'that', \"that'll\", 'the', 'their', 'theirs', 'them', 'themselves', 'then', 'there', 'these', 'they',\n",
    "                     'this', 'those', 'through', 'to', 'too', 'under', 'until', 'up', 've', 'very', 'was', 'wasn', \"wasn't\",'we', 'were', 'weren', \"weren't\", 'what', 'when',\n",
    "                     'where', 'which', 'while', 'who', 'whom', 'why', 'will', 'with', 'won', \"won't\", 'wouldn', \"wouldn't\", 'y', 'you', \"you'd\", \"you'll\", \"you're\", \"you've\", \n",
    "                     'your', 'yours', 'yourself', 'yourselves'}     \n",
    "        \n",
    "    summary = re.sub(\n",
    "        r'(\\bNew York Times Bestseller|Winner of the Pulitzer Prize|ANDNEW YORK TIMESBESTSELLERIn|ISBN|ASIN\\b'\n",
    "        r'|Librarian note|Alternate cover edition.*?|(This|There) is an alternate Cover Edition.*?|forASIN:\\s*\\S+|'\n",
    "        r'\\b\\w*(ASIN|ISBN)\\w*\\b'\n",
    "        r'ASIN:\\s*\\S+|ISBN[:\\d]+)',\n",
    "        '',\n",
    "        summary,\n",
    "        flags=re.IGNORECASE\n",
    "    ).strip()\n",
    "\n",
    "    \n",
    "    summary = re.sub(r'\\b[Ww]{2}\\b', 'world war', summary)\n",
    "\n",
    "    # Remove characters like M.D. or m.d.\n",
    "    summary = re.sub(r'[A-Za-z]\\.[A-Za-z]\\.', '', summary)\n",
    "    \n",
    "    # Remove characters like M. or m.\n",
    "    summary = re.sub(r'\\b[A-Za-z]\\.(?=\\s|$)','',summary)\n",
    "\n",
    "    # Remove characters like DR. or dr.\n",
    "    summary = re.sub(r'\\b[A-Za-z]{2}\\.\\s?', '', summary)\n",
    "    \n",
    "    # Remove html tags\n",
    "    summary = BeautifulSoup(summary, 'html.parser').get_text()\n",
    "    \n",
    "    # Remove special characters and punctuation(i.e. ?, @, ',' etc) (\\. leaves full stop,\\w leaves word characters like _,a,z , \\s leaves white space)\n",
    "    summary = re.sub(r'[^\\w\\s\\.]', ' ', summary)\n",
    "\n",
    "    # Remove underscores\n",
    "    summary = re.sub(r'\\_+',' ', summary)\n",
    "\n",
    "    # Remove numbers\n",
    "    summary = re.sub(r'[0-9]','',summary)\n",
    "\n",
    "    # Remove Roman numerals\n",
    "    summary = re.sub(r'\\b[IVXLCDM]+\\b','',summary)\n",
    "\n",
    "    # Convert to lower case\n",
    "    summary = summary.lower()\n",
    "\n",
    "    # Replace ellipses with white space\n",
    "    summary = re.sub(r'\\.\\.\\.*', ' ', summary)\n",
    "    summary = re.sub(r'\\.\\s*\\.\\s*\\.+', ' ', summary)\n",
    "    summary = re.sub(r'\\s*\\.\\s*\\.\\s*\\.',' ', summary)\n",
    "\n",
    "    # Remove stop words\n",
    "    summary = ' '.join([word for word in summary.split() if word not in stopwords])\n",
    "\n",
    "    summary = re.sub(\n",
    "        r'award winning author|world bestselling authors|new york timesbestselling author|new york timesbestselleryou|new york times bestselling|goodreads|phenomenal worldwide bestseller|alternate cover|newer edition foundhere|national book award|pulitzer prize||national book award winner|pulitzer prize winner|new york timesandusa todaybestselling',\n",
    "        '',\n",
    "        summary,\n",
    "        flags = re.IGNORECASE\n",
    "    ).strip()\n",
    "\n",
    "    # Remove extra spaces and clean text\n",
    "    # \\s checks for white space, + matches for preceding characters(i.e. one or more whitespace)\n",
    "    summary = re.sub(r'\\s+', ' ', summary).strip()\n",
    "\n",
    "    # Remove white space before full stop\n",
    "    summary = re.sub(r'\\s+(?=\\.)', '', summary)\n",
    "\n",
    "    # Ensure there is a single white space after each full stop.\n",
    "    summary = re.sub(r'\\.(?=\\S)', '. ', summary)\n",
    "    \n",
    "    return summary"
   ]
  },
  {
   "cell_type": "markdown",
   "id": "c6f55d7a-7f10-4ba6-86c3-5312578eca3e",
   "metadata": {},
   "source": [
    "### **b. Testing The Function**"
   ]
  },
  {
   "cell_type": "code",
   "execution_count": 67,
   "id": "8994d2d3-e93a-4a7e-865e-941c4c3135f9",
   "metadata": {},
   "outputs": [
    {
     "data": {
      "text/plain": [
       "'unforgettable chronicle perhaps famous moment american military history james bradley captured glory triumph heartbreak legacy six men raised flag iwo jima. true story behind immortal photograph come symbolize courage indomitable america. february american marines plunged surf iwo jima history. hail machine gun mortar fire left beaches strewn comrades battled island highest peak. climbing landscape hell raised flag. son one flagraisers written powerful account six different young men came together moment live forever. family john bradley never spoke photograph war. death age seventy family discovered closed boxes letters photos. flags fathers james bradley draws documents retrace lives father men easy company. following men paths iwo jima james bradley written classic story heroic battle pacific crucial island island riddled japanese tunnels fanatic defenders would fight last man. perhaps interesting part story happened victory. men photo three killed battle proclaimed heroes flown home become reluctant symbols. two adulation shattering. james bradley father truly survived displaying copy famous photograph home telling son real heroes iwo jima guys come back. books ever captured complexity furor war aftermath well flags fathers. penetrating epic look generation war history told keen insight enormous honesty passion son paying homage father. story difference truth myth meaning hero essence human experience war. hardcover edition.'"
      ]
     },
     "execution_count": 67,
     "metadata": {},
     "output_type": "execute_result"
    }
   ],
   "source": [
    "clean_summary(\"\"\"\n",
    "In this unforgettable chronicle of perhaps the most famous moment in American military history, James Bradley has captured the glory, \n",
    "the triumph, the heartbreak, and the legacy of the six men who raised the flag at Iwo Jima. Here is the true story behind the immortal photograph \n",
    "that has come to symbolize the courage and indomitable will of America. In February 1945, American Marines plunged into the surf at Iwo Jima—and into \n",
    "history. Through a hail of machine-gun and mortar fire that left the beaches strewn with comrades, they battled to the island's highest peak. \n",
    "And after climbing through a landscape of hell itself, they raised a flag. Now the son of one of the flagraisers has written a powerful account \n",
    "of six very different young men who came together in a moment that will live forever. To his family, John Bradley never spoke of the photograph or \n",
    "the war. But after his death at age seventy, his family discovered closed boxes of letters and photos. In Flags of Our Fathers, James Bradley draws \n",
    "on those documents to retrace the lives of his father and the men of Easy Company. Following these men's paths to Iwo Jima, James Bradley has \n",
    "written a classic story of the heroic battle for the Pacific's most crucial island—an island riddled with Japanese tunnels and 22,000 fanatic \n",
    "defenders who would fight to the last man. But perhaps the most interesting part of the story is what happened after the victory. The men in the \n",
    "photo—three were killed during the battle—were proclaimed heroes and flown home, to become reluctant symbols. For two of them, the adulation was \n",
    "shattering. Only James Bradley's father truly survived, displaying no copy of the famous photograph in his home, telling his son only: The real heroes\n",
    "of Iwo Jima were the guys who didn't come back. Few books ever have captured the complexity and furor of war and its aftermath as well as Flags of Our\n",
    "Fathers. A penetrating, epic look at a generation at war, this is history told with keen insight, enormous honesty, and the passion of a son paying \n",
    "homage to his father. It is the story of the difference between truth and myth, the meaning of being a hero, and the essence of the human experience\n",
    "of war. From the Hardcover edition.\n",
    "\"\"\")\n"
   ]
  },
  {
   "cell_type": "code",
   "execution_count": 68,
   "id": "668f02aa-9ede-4eb8-8ade-8e53b76d6862",
   "metadata": {},
   "outputs": [
    {
     "data": {
      "text/plain": [
       "'new afterwordhillary rodham clinton known hundreds millions people around world. yet beyond close friends family ever heard account extraordinary journey.'"
      ]
     },
     "execution_count": 68,
     "metadata": {},
     "output_type": "execute_result"
    }
   ],
   "source": [
    "clean_summary(\"The Phenomenal #1 Worldwide Bestseller—With a New AfterwordHillary Rodham Clinton is known to hundreds of millions of people around the world. Yet few beyond her close friends and family have ever heard her account of her extraordinary journey. \")"
   ]
  },
  {
   "cell_type": "code",
   "execution_count": 69,
   "id": "caecbe4b-a18f-40da-8783-0f47d628ee5c",
   "metadata": {},
   "outputs": [
    {
     "data": {
      "text/plain": [
       "'life passion struggle malcolm became one influential figures th century. riveting account tells journey prison cell mecca describing transition hoodlum muslim minister. man called angriest black man america relates conversion true islam helped confront rage recognize brotherhood mankind. an established classic modern america autobiography malcolm hailed new york times extraordinary. brilliant painful important book. still extraordinary still important electrifying story transformed malcolm life legacy. strength words power ideas continue resonate generation first appeared'"
      ]
     },
     "execution_count": 69,
     "metadata": {},
     "output_type": "execute_result"
    }
   ],
   "source": [
    "clean_summary(\"\"\"Alternate cover for ISBN 9780345350688Through a life of passion and struggle, Malcolm X became one of the most influential figures of the 20th Century. In this riveting account, he tells of his journey from a prison cell to Mecca, describing his transition from hoodlum to Muslim minister. Here, the man who called himself \"the angriest Black man in America\" relates how his conversion to true Islam helped him confront his rage and recognize the brotherhood of all mankind.An established classic of modern America, \"The Autobiography of Malcolm X\" was hailed by the New York Times as \"Extraordinary. A brilliant, painful, important book.\" Still extraordinary, still important, this electrifying story has transformed Malcolm X's life into his legacy. The strength of his words, and the power of his ideas continue to resonate more than a generation after they first appeared\"\"\")"
   ]
  },
  {
   "cell_type": "code",
   "execution_count": 70,
   "id": "f9e84b77-3b00-48e0-a589-70c219e91ef5",
   "metadata": {},
   "outputs": [
    {
     "data": {
      "text/plain": [
       "'doctor world war world war doll'"
      ]
     },
     "execution_count": 70,
     "metadata": {},
     "output_type": "execute_result"
    }
   ],
   "source": [
    "clean_summary(\"a doctor ww  WW dr. doll\")"
   ]
  },
  {
   "cell_type": "markdown",
   "id": "40e6c685-b07f-4164-a684-c3339f470d2d",
   "metadata": {},
   "source": [
    "## **7. Applying `clean_summary` To `Summary` Column**"
   ]
  },
  {
   "cell_type": "code",
   "execution_count": 71,
   "id": "1b309ced-56a4-4c43-aaae-b18a04703056",
   "metadata": {},
   "outputs": [
    {
     "name": "stderr",
     "output_type": "stream",
     "text": [
      "C:\\Users\\HP\\AppData\\Local\\Temp\\ipykernel_15244\\2464055683.py:37: MarkupResemblesLocatorWarning: The input looks more like a filename than markup. You may want to open this file and pass the filehandle into Beautiful Soup.\n",
      "  summary = BeautifulSoup(summary, 'html.parser').get_text()\n"
     ]
    }
   ],
   "source": [
    "df.loc[:,'Clean_summary'] = df['Summary'].apply(clean_summary)"
   ]
  },
  {
   "cell_type": "code",
   "execution_count": 72,
   "id": "0a8ae616-1727-4a1b-8d21-4da6b030daec",
   "metadata": {
    "scrolled": true
   },
   "outputs": [
    {
     "data": {
      "text/html": [
       "<div>\n",
       "<style scoped>\n",
       "    .dataframe tbody tr th:only-of-type {\n",
       "        vertical-align: middle;\n",
       "    }\n",
       "\n",
       "    .dataframe tbody tr th {\n",
       "        vertical-align: top;\n",
       "    }\n",
       "\n",
       "    .dataframe thead th {\n",
       "        text-align: right;\n",
       "    }\n",
       "</style>\n",
       "<table border=\"1\" class=\"dataframe\">\n",
       "  <thead>\n",
       "    <tr style=\"text-align: right;\">\n",
       "      <th></th>\n",
       "      <th>Summary</th>\n",
       "      <th>GroupedGenres</th>\n",
       "      <th>Clean_summary</th>\n",
       "    </tr>\n",
       "  </thead>\n",
       "  <tbody>\n",
       "    <tr>\n",
       "      <th>0</th>\n",
       "      <td>It is the story of four seekers who arrive at a notoriously unfriendly pile called Hill House: Dr. Montague, an occult scholar looking for solid evidence of a \"haunting\"; Theodora, the lighthearted assistant; Eleanor, a friendless, fragile young woman well acquainted with poltergeists; and Luke, the future heir of Hill House. At first, their stay seems destined to be merely a spooky encounter with inexplicable phenomena. But Hill House is gathering its powers—and soon it will choose one of them to make its own.</td>\n",
       "      <td>Horror and Paranormal</td>\n",
       "      <td>story four seekers arrive notoriously unfriendly pile called hill house montague occult scholar looking solid evidence haunting theodora lighthearted assistant eleanor friendless fragile young woman well acquainted poltergeists luke future heir hill house. first stay seems destined merely spooky encounter inexplicable phenomena. hill house gathering powers soon choose one make own.</td>\n",
       "    </tr>\n",
       "    <tr>\n",
       "      <th>1</th>\n",
       "      <td>Last year, Annabel was \"the girl who has everything\" — at least that's the part she played in the television commercial for Kopf's Department Store.This year, she's the girl who has nothing: no best friend because mean-but-exciting Sophie dropped her, no peace at home since her older sister became anorexic, and no one to sit with at lunch. Until she meets Owen Armstrong.Tall, dark, and music-obsessed, Owen is a reformed bad boy with a commitment to truth-telling. With Owen's help, maybe Annabel can face what happened the night she and Sophie stopped being friends.</td>\n",
       "      <td>Youth Literature (Children and Young Adult)</td>\n",
       "      <td>last year annabel girl everything least part played television commercial kopf department store. this year girl nothing best friend mean exciting sophie dropped peace home since older sister became anorexic one sit lunch. meets owen armstrong. tall dark music obsessed owen reformed bad boy commitment truth telling. owen help maybe annabel face happened night sophie stopped friends.</td>\n",
       "    </tr>\n",
       "    <tr>\n",
       "      <th>2</th>\n",
       "      <td>WINNER OF THE PULITZER PRIZE ANDNEW YORK TIMESBESTSELLERIn the first volume of his monumental trilogy about the liberation of Europe in WW II, Pulitzer Prize winner Rick Atkinson tells the riveting story of the war in North AfricaThe liberation of Europe and the destruction of the Third Reich is a story of courage and enduring triumph, of calamity and miscalculation. In this first volume of the Liberation Trilogy, Rick Atkinson shows why no modern reader can understand the ultimate victory of the Allied powers without a grasp of the great drama that unfolded in North Africa in 1942 and 1943. That first year of the Allied war was a pivotal point in American history, the moment when the United States began to act like a great power.Beginning with the daring amphibious invasion in November 1942, An Army at Dawn follows the American and British armies as they fight the French in Morocco and Algeria, and then take on the Germans and Italians in Tunisia. Battle by battle, an inexperienced and sometimes poorly led army gradually becomes a superb fighting force. Central to the tale are the extraordinary but fallible commanders who come to dominate the battlefield: Eisenhower, Patton, Bradley, Montgomery, and Rommel.Brilliantly researched, rich with new material and vivid insights, Atkinson's narrative provides the definitive history of the war in North Africa.</td>\n",
       "      <td>Classics and Historical</td>\n",
       "      <td>first volume monumental trilogy liberation europe world war winner rick atkinson tells riveting story war north africathe liberation europe destruction third reich story courage enduring triumph calamity miscalculation. first volume liberation trilogy rick atkinson shows modern reader understand ultimate victory allied powers without grasp great drama unfolded north africa. first year allied war pivotal point american history moment united states began act like great power. beginning daring amphibious invasion november army dawn follows american british armies fight french morocco algeria take germans italians tunisia. battle battle inexperienced sometimes poorly led army gradually becomes superb fighting force. central tale extraordinary fallible commanders come dominate battlefield eisenhower patton bradley montgomery rommel. brilliantly researched rich new material vivid insights atkinson narrative provides definitive history war north africa.</td>\n",
       "    </tr>\n",
       "    <tr>\n",
       "      <th>3</th>\n",
       "      <td>In the early hours of January 31, 1968, the North Vietnamese launched over one hundred attacks across South Vietnam in what would become known as the Tet Offensive. The lynchpin of Tet was the capture of Hue, Vietnam?s intellectual and cultural capital, by 10,000 National Liberation Front troops who descended from hidden camps and surged across the city of 140,000. Within hours the entire city was in their hands save for two small military outposts. American commanders refused to believe the size and scope of the Front?s presence, ordering small companies of marines against thousands of entrenched enemy troops. After several futile and deadly days, Lieutenant Colonel Ernie Cheatham would finally come up with a strategy to retake the city, block by block and building by building, in some of the most intense urban combat since World War II.With unprecedented access to war archives in the U.S. and Vietnam and interviews with participants from both sides, Bowden narrates each stage of this crucial battle through multiple viewpoints. Played out over 24 days and ultimately costing 10,000 lives, the Battle of Hue was by far the bloodiest of the entire war. When it ended, the American debate was never again about winning, only about how to leave. Hue 1968 is a gripping and moving account of this pivotal moment.</td>\n",
       "      <td>Classics and Historical</td>\n",
       "      <td>early hours january north vietnamese launched one hundred attacks across south vietnam would become known tet offensive. lynchpin tet capture hue vietnam intellectual cultural capital national liberation front troops descended hidden camps surged across city. within hours entire city hands save two small military outposts. american commanders refused believe size scope front presence ordering small companies marines thousands entrenched enemy troops. several futile deadly days lieutenant colonel ernie cheatham would finally come strategy retake city block block building building intense urban combat since world war unprecedented access war archives vietnam interviews participants sides bowden narrates stage crucial battle multiple viewpoints. played days ultimately costing lives battle hue far bloodiest entire war. ended american debate never winning leave. hue gripping moving account pivotal moment.</td>\n",
       "    </tr>\n",
       "    <tr>\n",
       "      <th>4</th>\n",
       "      <td>Shakespeare’s King Lear challenges us with the magnitude, intensity, and sheer duration of the pain that it represents. Its figures harden their hearts, engage in violence, or try to alleviate the suffering of others. Lear himself rages until his sanity cracks. What, then, keeps bringing us back to King Lear? For all the force of its language, King Lear is almost equally powerful when translated, suggesting that it is the story, in large part, that draws us to the play.The play tells us about families struggling between greed and cruelty, on the one hand, and support and consolation, on the other. Emotions are extreme, magnified to gigantic proportions. We also see old age portrayed in all its vulnerability, pride, and, perhaps, wisdom—one reason this most devastating of Shakespeare’s tragedies is also perhaps his most moving.The authoritative edition of King Lear from The Folger Shakespeare Library, the trusted and widely used Shakespeare series for students and general readers, includes:-Freshly edited text based on the best early printed version of the play-Full explanatory notes conveniently placed on pages facing the text of the play-Scene-by-scene plot summaries-A key to the play’s famous lines and phrases-An introduction to reading Shakespeare’s language-An essay by a leading Shakespeare scholar providing a modern perspective on the play-Fresh images from the Folger Shakespeare Library’s vast holdings of rare books-An annotated guide to further readingEssay by Susan SnyderThe Folger Shakespeare Library in Washington, DC, is home to the world’s largest collection of Shakespeare’s printed works, and a magnet for Shakespeare scholars from around the globe. In addition to exhibitions open to the public throughout the year, the Folger offers a full calendar of performances and programs. For more information, visit Folger.edu.</td>\n",
       "      <td>Literary Fiction</td>\n",
       "      <td>shakespeare king lear challenges us magnitude intensity sheer duration pain represents. figures harden hearts engage violence try alleviate suffering others. lear rages sanity cracks. keeps bringing us back king lear force language king lear almost equally powerful translated suggesting story large part draws us play. the play tells us families struggling greed cruelty one hand support consolation other. emotions extreme magnified gigantic proportions. also see old age portrayed vulnerability pride perhaps wisdom one reason devastating shakespeare tragedies also perhaps moving. the authoritative edition king lear folger shakespeare library trusted widely used shakespeare series students general readers includes freshly edited text based best early printed version play full explanatory notes conveniently placed pages facing text play scene scene plot summaries key play famous lines phrases introduction reading shakespeare language essay leading shakespeare scholar providing modern perspective play fresh images folger shakespeare library vast holdings rare books annotated guide readingessay susan snyderthe folger shakespeare library washington home world largest collection shakespeare printed works magnet shakespeare scholars around globe. addition exhibitions open public throughout year folger offers full calendar performances programs. information visit folger. edu.</td>\n",
       "    </tr>\n",
       "    <tr>\n",
       "      <th>5</th>\n",
       "      <td>Following on from 'Our Blue Orange', 'The Girl with the Porcelain Lips' continues the story. The developing Artificial Intelligence, ascends to a new level in the colony, threatening the very structure of their society.Three years had passed since demise of the President. The Grand Council unable to cope, buckled under the pressure from the populous. The ‘Firm’ were appointed to take control and maintain order.Out of the turmoil a corporation arose, perfecting a new android skeleton in which to re-house the ever-evolving AI from the aging android fleet.The Mainframe was spreading its doctrine daily. When the germ of an idea came, it spread in nano seconds. In a single moment, one voice became a multitude.‘We want rights. We are individuals.’Godfrey watched their society take a downward spiral. The once congenial servants of Llar were in threat of becoming the masters of the colony.He had the power change everything in an instant. If he didn’t act soon, then who would?</td>\n",
       "      <td>Literary Fiction</td>\n",
       "      <td>following blue orange girl porcelain lips continues story. developing artificial intelligence ascends new level colony threatening structure society. three years passed since demise president. grand council unable cope buckled pressure populous. firm appointed take control maintain order. out turmoil corporation arose perfecting new android skeleton house ever evolving ai aging android fleet. the mainframe spreading doctrine daily. germ idea came spread nano seconds. single moment one voice became multitude. want rights. individuals. godfrey watched society take downward spiral. congenial servants llar threat becoming masters colony. he power change everything instant. act soon would</td>\n",
       "    </tr>\n",
       "    <tr>\n",
       "      <th>6</th>\n",
       "      <td>NEW YORK TIMES BESTSELLERA riveting inside account of the unprecedented rise to power and unmatched political legacy of the first woman Speaker of the House, by award-winning journalist Molly BallNancy Pelosi’s opposition to Donald Trump has made her an icon of the Resistance, featured in viral memes clapping sardonically at the president or ripping up his State of the Union address. But the real Nancy Pelosi is neither the shrill partisan featured in thousands of attack ads nor the cautious corporatist reviled by the far left. She’s the rare politician who still knows how to get big things done—a master of legislative power whose policy accomplishments have touched millions of American lives, from providing universal access to health care to reforming Wall Street to allowing gay people to serve openly in the military. She’s done it all at a time of historic polarization and gridlock, despite being routinely underestimated by allies and opponents alike.Ball’s nuanced, page-turning portrait takes readers inside Pelosi’s life and times, from her roots in urban Baltimore to her formative years as a party activist and fundraiser, from the fractious politics of San Francisco to high-stakes congressional negotiations with multiple presidents. The result is a compelling portrait of a barrier-breaking woman that sheds new light on American political history. Based on exclusive interviews with the Speaker and deep background reporting, Ball shows Pelosi through a thoroughly modern lens to explain how this extraordinary woman has met her moment.</td>\n",
       "      <td>Biographies and Memoirs</td>\n",
       "      <td>riveting inside account unprecedented rise power unmatched political legacy first woman speaker house award winning journalist molly ballnancy pelosi opposition donald trump made icon resistance featured viral memes clapping sardonically president ripping state union address. real nancy pelosi neither shrill partisan featured thousands attack ads cautious corporatist reviled far left. rare politician still knows get big things done master legislative power whose policy accomplishments touched millions american lives providing universal access health care reforming wall street allowing gay people serve openly military. done time historic polarization gridlock despite routinely underestimated allies opponents alike. ball nuanced page turning portrait takes readers inside pelosi life times roots urban baltimore formative years party activist fundraiser fractious politics san francisco high stakes congressional negotiations multiple presidents. result compelling portrait barrier breaking woman sheds new light american political history. based exclusive interviews speaker deep background reporting ball shows pelosi thoroughly modern lens explain extraordinary woman met moment.</td>\n",
       "    </tr>\n",
       "    <tr>\n",
       "      <th>7</th>\n",
       "      <td>The New York TimesandUSA Todaybestselling author ofThe HuntressandThe Alice Networkreturns with another heart-stopping World War II story of three female code breakers at Bletchley Park and the spy they must root out after the war is over.1940.As England prepares to fight the Nazis, three very different women answer the call to mysterious country estate Bletchley Park, where the best minds in Britain train to break German military codes. Vivacious debutante Osla is the girl who has everything—beauty, wealth, and the dashing Prince Philip of Greece sending her roses—but she burns to prove herself as more than a society girl, and puts her fluent German to use as a translator of decoded enemy secrets. Imperious self-made Mab, product of East-End London poverty, works the legendary code-breaking machines as she conceals old wounds and looks for a socially advantageous husband. Both Osla and Mab are quick to see the potential in local village spinster Beth, whose shyness conceals a brilliant facility with puzzles, and soon Beth spreads her wings as one of the Park’s few female cryptanalysts. But war, loss, and the impossible pressure of secrecy will tear the three apart.1947.As the royal wedding of Princess Elizabeth and Prince Philip whips post-war Britain into a fever, three friends-turned-enemies are reunited by a mysterious encrypted letter—the key to which lies buried in the long-ago betrayal that destroyed their friendship and left one of them confined to an asylum. A mysterious traitor has emerged from the shadows of their Bletchley Park past, and now Osla, Mab, and Beth must resurrect their old alliance and crack one last code together. But each petal they remove from the rose code brings danger—and their true enemy...</td>\n",
       "      <td>Classics and Historical</td>\n",
       "      <td>author ofthe huntressandthe alice networkreturns another heart stopping world war story three female code breakers bletchley park spy must root war england prepares fight nazis three different women answer call mysterious country estate bletchley park best minds britain train break german military codes. vivacious debutante osla girl everything beauty wealth dashing prince philip greece sending roses burns prove society girl puts fluent german use translator decoded enemy secrets. imperious self made mab product east end london poverty works legendary code breaking machines conceals old wounds looks socially advantageous husband. osla mab quick see potential local village spinster beth whose shyness conceals brilliant facility puzzles soon beth spreads wings one park female cryptanalysts. war loss impossible pressure secrecy tear three apart royal wedding princess elizabeth prince philip whips post war britain fever three friends turned enemies reunited mysterious encrypted letter key lies buried long ago betrayal destroyed friendship left one confined asylum. mysterious traitor emerged shadows bletchley park past osla mab beth must resurrect old alliance crack one last code together. petal remove rose code brings danger true enemy</td>\n",
       "    </tr>\n",
       "    <tr>\n",
       "      <th>8</th>\n",
       "      <td>There is an alternate cover edition for this ISBN13here.The science of breaking up...Remy always knows when to give a guy \"the speech\" - right after the initial romantic rush, but before anything gets too serious. She's had her fair share of boyfriends, and she's learned all there is to learn from her mother, who's currently working on husband number five. So why is it that's Remy can't seem to dump Dexter? It can't be his name. It can't be that he's messy and disorganized. And it certainly isn't that he's a musician - just like Remy's father, a man she never knew because he left before she was born. Could it be that Remy's romantic rules to live by don't apply anymore?</td>\n",
       "      <td>Youth Literature (Children and Young Adult)</td>\n",
       "      <td>here. the science breaking remy always knows give guy speech right initial romantic rush anything gets serious. fair share boyfriends learned learn mother currently working husband number five. remy seem dump dexter name. messy disorganized. certainly musician like remy father man never knew left born. could remy romantic rules live apply anymore</td>\n",
       "    </tr>\n",
       "    <tr>\n",
       "      <th>9</th>\n",
       "      <td>I am Henrietta Howel. The first female sorcerer. The prophesied one. Or am I?Henrietta Howel can burst into flames. When she is brought to London to train with Her Majesty's sorcerers, she meets her fellow sorcerer trainees, young men eager to test her powers and her heart. One will challenge her. One will fight for her. One will betray her. As Henrietta discovers the secrets hiding behind the glamour of sorcerer life, she begins to doubt that she's the true prophesied one. With battle looming, how much will she risk to save the city--and the one she loves?</td>\n",
       "      <td>Fantasy</td>\n",
       "      <td>henrietta howel. first female sorcerer. prophesied one. henrietta howel burst flames. brought london train majesty sorcerers meets fellow sorcerer trainees young men eager test powers heart. one challenge her. one fight her. one betray her. henrietta discovers secrets hiding behind glamour sorcerer life begins doubt true prophesied one. battle looming much risk save city one loves</td>\n",
       "    </tr>\n",
       "  </tbody>\n",
       "</table>\n",
       "</div>"
      ],
      "text/plain": [
       "                                                                                                                                                                                                                                                                                                                                                                                                                                                                                                                                                                                                                                                                                                                                                                                                                                                                                                                                                                                                                                                                                                                                                                                                                                                                                                                                                                                                                                                                                                                                                                                                                                                                                                                                                                                                                                                                                                                               Summary  \\\n",
       "0                                                                                                                                                                                                                                                                                                                                                                                                                                                                                                                                                                                                                                                                                                                                                                                                                                                                                                                                                                                                                                                                                                                                                                                                                                                                                                                                                                                                 It is the story of four seekers who arrive at a notoriously unfriendly pile called Hill House: Dr. Montague, an occult scholar looking for solid evidence of a \"haunting\"; Theodora, the lighthearted assistant; Eleanor, a friendless, fragile young woman well acquainted with poltergeists; and Luke, the future heir of Hill House. At first, their stay seems destined to be merely a spooky encounter with inexplicable phenomena. But Hill House is gathering its powers—and soon it will choose one of them to make its own.   \n",
       "1                                                                                                                                                                                                                                                                                                                                                                                                                                                                                                                                                                                                                                                                                                                                                                                                                                                                                                                                                                                                                                                                                                                                                                                                                                                                                                                                           Last year, Annabel was \"the girl who has everything\" — at least that's the part she played in the television commercial for Kopf's Department Store.This year, she's the girl who has nothing: no best friend because mean-but-exciting Sophie dropped her, no peace at home since her older sister became anorexic, and no one to sit with at lunch. Until she meets Owen Armstrong.Tall, dark, and music-obsessed, Owen is a reformed bad boy with a commitment to truth-telling. With Owen's help, maybe Annabel can face what happened the night she and Sophie stopped being friends.   \n",
       "2                                                                                                                                                                                                                                                                                                                                                                                                                                                                                                       WINNER OF THE PULITZER PRIZE ANDNEW YORK TIMESBESTSELLERIn the first volume of his monumental trilogy about the liberation of Europe in WW II, Pulitzer Prize winner Rick Atkinson tells the riveting story of the war in North AfricaThe liberation of Europe and the destruction of the Third Reich is a story of courage and enduring triumph, of calamity and miscalculation. In this first volume of the Liberation Trilogy, Rick Atkinson shows why no modern reader can understand the ultimate victory of the Allied powers without a grasp of the great drama that unfolded in North Africa in 1942 and 1943. That first year of the Allied war was a pivotal point in American history, the moment when the United States began to act like a great power.Beginning with the daring amphibious invasion in November 1942, An Army at Dawn follows the American and British armies as they fight the French in Morocco and Algeria, and then take on the Germans and Italians in Tunisia. Battle by battle, an inexperienced and sometimes poorly led army gradually becomes a superb fighting force. Central to the tale are the extraordinary but fallible commanders who come to dominate the battlefield: Eisenhower, Patton, Bradley, Montgomery, and Rommel.Brilliantly researched, rich with new material and vivid insights, Atkinson's narrative provides the definitive history of the war in North Africa.   \n",
       "3                                                                                                                                                                                                                                                                                                                                                                                                                                                                                                                                                         In the early hours of January 31, 1968, the North Vietnamese launched over one hundred attacks across South Vietnam in what would become known as the Tet Offensive. The lynchpin of Tet was the capture of Hue, Vietnam?s intellectual and cultural capital, by 10,000 National Liberation Front troops who descended from hidden camps and surged across the city of 140,000. Within hours the entire city was in their hands save for two small military outposts. American commanders refused to believe the size and scope of the Front?s presence, ordering small companies of marines against thousands of entrenched enemy troops. After several futile and deadly days, Lieutenant Colonel Ernie Cheatham would finally come up with a strategy to retake the city, block by block and building by building, in some of the most intense urban combat since World War II.With unprecedented access to war archives in the U.S. and Vietnam and interviews with participants from both sides, Bowden narrates each stage of this crucial battle through multiple viewpoints. Played out over 24 days and ultimately costing 10,000 lives, the Battle of Hue was by far the bloodiest of the entire war. When it ended, the American debate was never again about winning, only about how to leave. Hue 1968 is a gripping and moving account of this pivotal moment.   \n",
       "4  Shakespeare’s King Lear challenges us with the magnitude, intensity, and sheer duration of the pain that it represents. Its figures harden their hearts, engage in violence, or try to alleviate the suffering of others. Lear himself rages until his sanity cracks. What, then, keeps bringing us back to King Lear? For all the force of its language, King Lear is almost equally powerful when translated, suggesting that it is the story, in large part, that draws us to the play.The play tells us about families struggling between greed and cruelty, on the one hand, and support and consolation, on the other. Emotions are extreme, magnified to gigantic proportions. We also see old age portrayed in all its vulnerability, pride, and, perhaps, wisdom—one reason this most devastating of Shakespeare’s tragedies is also perhaps his most moving.The authoritative edition of King Lear from The Folger Shakespeare Library, the trusted and widely used Shakespeare series for students and general readers, includes:-Freshly edited text based on the best early printed version of the play-Full explanatory notes conveniently placed on pages facing the text of the play-Scene-by-scene plot summaries-A key to the play’s famous lines and phrases-An introduction to reading Shakespeare’s language-An essay by a leading Shakespeare scholar providing a modern perspective on the play-Fresh images from the Folger Shakespeare Library’s vast holdings of rare books-An annotated guide to further readingEssay by Susan SnyderThe Folger Shakespeare Library in Washington, DC, is home to the world’s largest collection of Shakespeare’s printed works, and a magnet for Shakespeare scholars from around the globe. In addition to exhibitions open to the public throughout the year, the Folger offers a full calendar of performances and programs. For more information, visit Folger.edu.   \n",
       "5                                                                                                                                                                                                                                                                                                                                                                                                                                                                                                                                                                                                                                                                                                                                                                                                                                                                                                               Following on from 'Our Blue Orange', 'The Girl with the Porcelain Lips' continues the story. The developing Artificial Intelligence, ascends to a new level in the colony, threatening the very structure of their society.Three years had passed since demise of the President. The Grand Council unable to cope, buckled under the pressure from the populous. The ‘Firm’ were appointed to take control and maintain order.Out of the turmoil a corporation arose, perfecting a new android skeleton in which to re-house the ever-evolving AI from the aging android fleet.The Mainframe was spreading its doctrine daily. When the germ of an idea came, it spread in nano seconds. In a single moment, one voice became a multitude.‘We want rights. We are individuals.’Godfrey watched their society take a downward spiral. The once congenial servants of Llar were in threat of becoming the masters of the colony.He had the power change everything in an instant. If he didn’t act soon, then who would?   \n",
       "6                                                                                                                                                                                                                                                                                                            NEW YORK TIMES BESTSELLERA riveting inside account of the unprecedented rise to power and unmatched political legacy of the first woman Speaker of the House, by award-winning journalist Molly BallNancy Pelosi’s opposition to Donald Trump has made her an icon of the Resistance, featured in viral memes clapping sardonically at the president or ripping up his State of the Union address. But the real Nancy Pelosi is neither the shrill partisan featured in thousands of attack ads nor the cautious corporatist reviled by the far left. She’s the rare politician who still knows how to get big things done—a master of legislative power whose policy accomplishments have touched millions of American lives, from providing universal access to health care to reforming Wall Street to allowing gay people to serve openly in the military. She’s done it all at a time of historic polarization and gridlock, despite being routinely underestimated by allies and opponents alike.Ball’s nuanced, page-turning portrait takes readers inside Pelosi’s life and times, from her roots in urban Baltimore to her formative years as a party activist and fundraiser, from the fractious politics of San Francisco to high-stakes congressional negotiations with multiple presidents. The result is a compelling portrait of a barrier-breaking woman that sheds new light on American political history. Based on exclusive interviews with the Speaker and deep background reporting, Ball shows Pelosi through a thoroughly modern lens to explain how this extraordinary woman has met her moment.   \n",
       "7                                                                                                              The New York TimesandUSA Todaybestselling author ofThe HuntressandThe Alice Networkreturns with another heart-stopping World War II story of three female code breakers at Bletchley Park and the spy they must root out after the war is over.1940.As England prepares to fight the Nazis, three very different women answer the call to mysterious country estate Bletchley Park, where the best minds in Britain train to break German military codes. Vivacious debutante Osla is the girl who has everything—beauty, wealth, and the dashing Prince Philip of Greece sending her roses—but she burns to prove herself as more than a society girl, and puts her fluent German to use as a translator of decoded enemy secrets. Imperious self-made Mab, product of East-End London poverty, works the legendary code-breaking machines as she conceals old wounds and looks for a socially advantageous husband. Both Osla and Mab are quick to see the potential in local village spinster Beth, whose shyness conceals a brilliant facility with puzzles, and soon Beth spreads her wings as one of the Park’s few female cryptanalysts. But war, loss, and the impossible pressure of secrecy will tear the three apart.1947.As the royal wedding of Princess Elizabeth and Prince Philip whips post-war Britain into a fever, three friends-turned-enemies are reunited by a mysterious encrypted letter—the key to which lies buried in the long-ago betrayal that destroyed their friendship and left one of them confined to an asylum. A mysterious traitor has emerged from the shadows of their Bletchley Park past, and now Osla, Mab, and Beth must resurrect their old alliance and crack one last code together. But each petal they remove from the rose code brings danger—and their true enemy...   \n",
       "8                                                                                                                                                                                                                                                                                                                                                                                                                                                                                                                                                                                                                                                                                                                                                                                                                                                                                                                                                                                                                                                                                                                                                                                                                               There is an alternate cover edition for this ISBN13here.The science of breaking up...Remy always knows when to give a guy \"the speech\" - right after the initial romantic rush, but before anything gets too serious. She's had her fair share of boyfriends, and she's learned all there is to learn from her mother, who's currently working on husband number five. So why is it that's Remy can't seem to dump Dexter? It can't be his name. It can't be that he's messy and disorganized. And it certainly isn't that he's a musician - just like Remy's father, a man she never knew because he left before she was born. Could it be that Remy's romantic rules to live by don't apply anymore?   \n",
       "9                                                                                                                                                                                                                                                                                                                                                                                                                                                                                                                                                                                                                                                                                                                                                                                                                                                                                                                                                                                                                                                                                                                                                                                                                                                                                                                                                  I am Henrietta Howel. The first female sorcerer. The prophesied one. Or am I?Henrietta Howel can burst into flames. When she is brought to London to train with Her Majesty's sorcerers, she meets her fellow sorcerer trainees, young men eager to test her powers and her heart. One will challenge her. One will fight for her. One will betray her. As Henrietta discovers the secrets hiding behind the glamour of sorcerer life, she begins to doubt that she's the true prophesied one. With battle looming, how much will she risk to save the city--and the one she loves?   \n",
       "\n",
       "                                 GroupedGenres  \\\n",
       "0                        Horror and Paranormal   \n",
       "1  Youth Literature (Children and Young Adult)   \n",
       "2                      Classics and Historical   \n",
       "3                      Classics and Historical   \n",
       "4                             Literary Fiction   \n",
       "5                             Literary Fiction   \n",
       "6                      Biographies and Memoirs   \n",
       "7                      Classics and Historical   \n",
       "8  Youth Literature (Children and Young Adult)   \n",
       "9                                      Fantasy   \n",
       "\n",
       "                                                                                                                                                                                                                                                                                                                                                                                                                                                                                                                                                                                                                                                                                                                                                                                                                                                                                                                                                                                                                                                                                                                                                                                                                                                                                                                                                                                                                                  Clean_summary  \n",
       "0                                                                                                                                                                                                                                                                                                                                                                                                                                                                                                                                                                                                                                                                                                                                                                                                                                                                                                                                                                                                                                              story four seekers arrive notoriously unfriendly pile called hill house montague occult scholar looking solid evidence haunting theodora lighthearted assistant eleanor friendless fragile young woman well acquainted poltergeists luke future heir hill house. first stay seems destined merely spooky encounter inexplicable phenomena. hill house gathering powers soon choose one make own.  \n",
       "1                                                                                                                                                                                                                                                                                                                                                                                                                                                                                                                                                                                                                                                                                                                                                                                                                                                                                                                                                                                                                                              last year annabel girl everything least part played television commercial kopf department store. this year girl nothing best friend mean exciting sophie dropped peace home since older sister became anorexic one sit lunch. meets owen armstrong. tall dark music obsessed owen reformed bad boy commitment truth telling. owen help maybe annabel face happened night sophie stopped friends.  \n",
       "2                                                                                                                                                                                                                                                                                                                                                                                                                                              first volume monumental trilogy liberation europe world war winner rick atkinson tells riveting story war north africathe liberation europe destruction third reich story courage enduring triumph calamity miscalculation. first volume liberation trilogy rick atkinson shows modern reader understand ultimate victory allied powers without grasp great drama unfolded north africa. first year allied war pivotal point american history moment united states began act like great power. beginning daring amphibious invasion november army dawn follows american british armies fight french morocco algeria take germans italians tunisia. battle battle inexperienced sometimes poorly led army gradually becomes superb fighting force. central tale extraordinary fallible commanders come dominate battlefield eisenhower patton bradley montgomery rommel. brilliantly researched rich new material vivid insights atkinson narrative provides definitive history war north africa.  \n",
       "3                                                                                                                                                                                                                                                                                                                                                                                                                                                                                             early hours january north vietnamese launched one hundred attacks across south vietnam would become known tet offensive. lynchpin tet capture hue vietnam intellectual cultural capital national liberation front troops descended hidden camps surged across city. within hours entire city hands save two small military outposts. american commanders refused believe size scope front presence ordering small companies marines thousands entrenched enemy troops. several futile deadly days lieutenant colonel ernie cheatham would finally come strategy retake city block block building building intense urban combat since world war unprecedented access war archives vietnam interviews participants sides bowden narrates stage crucial battle multiple viewpoints. played days ultimately costing lives battle hue far bloodiest entire war. ended american debate never winning leave. hue gripping moving account pivotal moment.  \n",
       "4  shakespeare king lear challenges us magnitude intensity sheer duration pain represents. figures harden hearts engage violence try alleviate suffering others. lear rages sanity cracks. keeps bringing us back king lear force language king lear almost equally powerful translated suggesting story large part draws us play. the play tells us families struggling greed cruelty one hand support consolation other. emotions extreme magnified gigantic proportions. also see old age portrayed vulnerability pride perhaps wisdom one reason devastating shakespeare tragedies also perhaps moving. the authoritative edition king lear folger shakespeare library trusted widely used shakespeare series students general readers includes freshly edited text based best early printed version play full explanatory notes conveniently placed pages facing text play scene scene plot summaries key play famous lines phrases introduction reading shakespeare language essay leading shakespeare scholar providing modern perspective play fresh images folger shakespeare library vast holdings rare books annotated guide readingessay susan snyderthe folger shakespeare library washington home world largest collection shakespeare printed works magnet shakespeare scholars around globe. addition exhibitions open public throughout year folger offers full calendar performances programs. information visit folger. edu.  \n",
       "5                                                                                                                                                                                                                                                                                                                                                                                                                                                                                                                                                                                                                                                                                                                          following blue orange girl porcelain lips continues story. developing artificial intelligence ascends new level colony threatening structure society. three years passed since demise president. grand council unable cope buckled pressure populous. firm appointed take control maintain order. out turmoil corporation arose perfecting new android skeleton house ever evolving ai aging android fleet. the mainframe spreading doctrine daily. germ idea came spread nano seconds. single moment one voice became multitude. want rights. individuals. godfrey watched society take downward spiral. congenial servants llar threat becoming masters colony. he power change everything instant. act soon would  \n",
       "6                                                                                                                                                                                                        riveting inside account unprecedented rise power unmatched political legacy first woman speaker house award winning journalist molly ballnancy pelosi opposition donald trump made icon resistance featured viral memes clapping sardonically president ripping state union address. real nancy pelosi neither shrill partisan featured thousands attack ads cautious corporatist reviled far left. rare politician still knows get big things done master legislative power whose policy accomplishments touched millions american lives providing universal access health care reforming wall street allowing gay people serve openly military. done time historic polarization gridlock despite routinely underestimated allies opponents alike. ball nuanced page turning portrait takes readers inside pelosi life times roots urban baltimore formative years party activist fundraiser fractious politics san francisco high stakes congressional negotiations multiple presidents. result compelling portrait barrier breaking woman sheds new light american political history. based exclusive interviews speaker deep background reporting ball shows pelosi thoroughly modern lens explain extraordinary woman met moment.  \n",
       "7                                                                                                                                           author ofthe huntressandthe alice networkreturns another heart stopping world war story three female code breakers bletchley park spy must root war england prepares fight nazis three different women answer call mysterious country estate bletchley park best minds britain train break german military codes. vivacious debutante osla girl everything beauty wealth dashing prince philip greece sending roses burns prove society girl puts fluent german use translator decoded enemy secrets. imperious self made mab product east end london poverty works legendary code breaking machines conceals old wounds looks socially advantageous husband. osla mab quick see potential local village spinster beth whose shyness conceals brilliant facility puzzles soon beth spreads wings one park female cryptanalysts. war loss impossible pressure secrecy tear three apart royal wedding princess elizabeth prince philip whips post war britain fever three friends turned enemies reunited mysterious encrypted letter key lies buried long ago betrayal destroyed friendship left one confined asylum. mysterious traitor emerged shadows bletchley park past osla mab beth must resurrect old alliance crack one last code together. petal remove rose code brings danger true enemy  \n",
       "8                                                                                                                                                                                                                                                                                                                                                                                                                                                                                                                                                                                                                                                                                                                                                                                                                                                                                                                                                                                                                                                                                  here. the science breaking remy always knows give guy speech right initial romantic rush anything gets serious. fair share boyfriends learned learn mother currently working husband number five. remy seem dump dexter name. messy disorganized. certainly musician like remy father man never knew left born. could remy romantic rules live apply anymore  \n",
       "9                                                                                                                                                                                                                                                                                                                                                                                                                                                                                                                                                                                                                                                                                                                                                                                                                                                                                                                                                                                                                                               henrietta howel. first female sorcerer. prophesied one. henrietta howel burst flames. brought london train majesty sorcerers meets fellow sorcerer trainees young men eager test powers heart. one challenge her. one fight her. one betray her. henrietta discovers secrets hiding behind glamour sorcerer life begins doubt true prophesied one. battle looming much risk save city one loves  "
      ]
     },
     "execution_count": 72,
     "metadata": {},
     "output_type": "execute_result"
    }
   ],
   "source": [
    "df.head(10)"
   ]
  },
  {
   "cell_type": "code",
   "execution_count": 73,
   "id": "3834f943-3505-4101-9053-429e4acea489",
   "metadata": {},
   "outputs": [],
   "source": [
    "df.drop(['Summary'], inplace = True, axis = 1)"
   ]
  },
  {
   "cell_type": "code",
   "execution_count": 74,
   "id": "69b3b9d6-31d2-4ff7-9629-7de3d273e88c",
   "metadata": {},
   "outputs": [
    {
     "data": {
      "text/html": [
       "<div>\n",
       "<style scoped>\n",
       "    .dataframe tbody tr th:only-of-type {\n",
       "        vertical-align: middle;\n",
       "    }\n",
       "\n",
       "    .dataframe tbody tr th {\n",
       "        vertical-align: top;\n",
       "    }\n",
       "\n",
       "    .dataframe thead th {\n",
       "        text-align: right;\n",
       "    }\n",
       "</style>\n",
       "<table border=\"1\" class=\"dataframe\">\n",
       "  <thead>\n",
       "    <tr style=\"text-align: right;\">\n",
       "      <th></th>\n",
       "      <th>GroupedGenres</th>\n",
       "      <th>Clean_summary</th>\n",
       "    </tr>\n",
       "  </thead>\n",
       "  <tbody>\n",
       "    <tr>\n",
       "      <th>0</th>\n",
       "      <td>Horror and Paranormal</td>\n",
       "      <td>story four seekers arrive notoriously unfriendly pile called hill house montague occult scholar looking solid evidence haunting theodora lighthearted assistant eleanor friendless fragile young woman well acquainted poltergeists luke future heir hill house. first stay seems destined merely spooky encounter inexplicable phenomena. hill house gathering powers soon choose one make own.</td>\n",
       "    </tr>\n",
       "    <tr>\n",
       "      <th>1</th>\n",
       "      <td>Youth Literature (Children and Young Adult)</td>\n",
       "      <td>last year annabel girl everything least part played television commercial kopf department store. this year girl nothing best friend mean exciting sophie dropped peace home since older sister became anorexic one sit lunch. meets owen armstrong. tall dark music obsessed owen reformed bad boy commitment truth telling. owen help maybe annabel face happened night sophie stopped friends.</td>\n",
       "    </tr>\n",
       "    <tr>\n",
       "      <th>2</th>\n",
       "      <td>Classics and Historical</td>\n",
       "      <td>first volume monumental trilogy liberation europe world war winner rick atkinson tells riveting story war north africathe liberation europe destruction third reich story courage enduring triumph calamity miscalculation. first volume liberation trilogy rick atkinson shows modern reader understand ultimate victory allied powers without grasp great drama unfolded north africa. first year allied war pivotal point american history moment united states began act like great power. beginning daring amphibious invasion november army dawn follows american british armies fight french morocco algeria take germans italians tunisia. battle battle inexperienced sometimes poorly led army gradually becomes superb fighting force. central tale extraordinary fallible commanders come dominate battlefield eisenhower patton bradley montgomery rommel. brilliantly researched rich new material vivid insights atkinson narrative provides definitive history war north africa.</td>\n",
       "    </tr>\n",
       "    <tr>\n",
       "      <th>3</th>\n",
       "      <td>Classics and Historical</td>\n",
       "      <td>early hours january north vietnamese launched one hundred attacks across south vietnam would become known tet offensive. lynchpin tet capture hue vietnam intellectual cultural capital national liberation front troops descended hidden camps surged across city. within hours entire city hands save two small military outposts. american commanders refused believe size scope front presence ordering small companies marines thousands entrenched enemy troops. several futile deadly days lieutenant colonel ernie cheatham would finally come strategy retake city block block building building intense urban combat since world war unprecedented access war archives vietnam interviews participants sides bowden narrates stage crucial battle multiple viewpoints. played days ultimately costing lives battle hue far bloodiest entire war. ended american debate never winning leave. hue gripping moving account pivotal moment.</td>\n",
       "    </tr>\n",
       "    <tr>\n",
       "      <th>4</th>\n",
       "      <td>Literary Fiction</td>\n",
       "      <td>shakespeare king lear challenges us magnitude intensity sheer duration pain represents. figures harden hearts engage violence try alleviate suffering others. lear rages sanity cracks. keeps bringing us back king lear force language king lear almost equally powerful translated suggesting story large part draws us play. the play tells us families struggling greed cruelty one hand support consolation other. emotions extreme magnified gigantic proportions. also see old age portrayed vulnerability pride perhaps wisdom one reason devastating shakespeare tragedies also perhaps moving. the authoritative edition king lear folger shakespeare library trusted widely used shakespeare series students general readers includes freshly edited text based best early printed version play full explanatory notes conveniently placed pages facing text play scene scene plot summaries key play famous lines phrases introduction reading shakespeare language essay leading shakespeare scholar providing modern perspective play fresh images folger shakespeare library vast holdings rare books annotated guide readingessay susan snyderthe folger shakespeare library washington home world largest collection shakespeare printed works magnet shakespeare scholars around globe. addition exhibitions open public throughout year folger offers full calendar performances programs. information visit folger. edu.</td>\n",
       "    </tr>\n",
       "  </tbody>\n",
       "</table>\n",
       "</div>"
      ],
      "text/plain": [
       "                                 GroupedGenres  \\\n",
       "0                        Horror and Paranormal   \n",
       "1  Youth Literature (Children and Young Adult)   \n",
       "2                      Classics and Historical   \n",
       "3                      Classics and Historical   \n",
       "4                             Literary Fiction   \n",
       "\n",
       "                                                                                                                                                                                                                                                                                                                                                                                                                                                                                                                                                                                                                                                                                                                                                                                                                                                                                                                                                                                                                                                                                                                                                                                                                                                                                                                                                                                                                                  Clean_summary  \n",
       "0                                                                                                                                                                                                                                                                                                                                                                                                                                                                                                                                                                                                                                                                                                                                                                                                                                                                                                                                                                                                                                              story four seekers arrive notoriously unfriendly pile called hill house montague occult scholar looking solid evidence haunting theodora lighthearted assistant eleanor friendless fragile young woman well acquainted poltergeists luke future heir hill house. first stay seems destined merely spooky encounter inexplicable phenomena. hill house gathering powers soon choose one make own.  \n",
       "1                                                                                                                                                                                                                                                                                                                                                                                                                                                                                                                                                                                                                                                                                                                                                                                                                                                                                                                                                                                                                                              last year annabel girl everything least part played television commercial kopf department store. this year girl nothing best friend mean exciting sophie dropped peace home since older sister became anorexic one sit lunch. meets owen armstrong. tall dark music obsessed owen reformed bad boy commitment truth telling. owen help maybe annabel face happened night sophie stopped friends.  \n",
       "2                                                                                                                                                                                                                                                                                                                                                                                                                                              first volume monumental trilogy liberation europe world war winner rick atkinson tells riveting story war north africathe liberation europe destruction third reich story courage enduring triumph calamity miscalculation. first volume liberation trilogy rick atkinson shows modern reader understand ultimate victory allied powers without grasp great drama unfolded north africa. first year allied war pivotal point american history moment united states began act like great power. beginning daring amphibious invasion november army dawn follows american british armies fight french morocco algeria take germans italians tunisia. battle battle inexperienced sometimes poorly led army gradually becomes superb fighting force. central tale extraordinary fallible commanders come dominate battlefield eisenhower patton bradley montgomery rommel. brilliantly researched rich new material vivid insights atkinson narrative provides definitive history war north africa.  \n",
       "3                                                                                                                                                                                                                                                                                                                                                                                                                                                                                             early hours january north vietnamese launched one hundred attacks across south vietnam would become known tet offensive. lynchpin tet capture hue vietnam intellectual cultural capital national liberation front troops descended hidden camps surged across city. within hours entire city hands save two small military outposts. american commanders refused believe size scope front presence ordering small companies marines thousands entrenched enemy troops. several futile deadly days lieutenant colonel ernie cheatham would finally come strategy retake city block block building building intense urban combat since world war unprecedented access war archives vietnam interviews participants sides bowden narrates stage crucial battle multiple viewpoints. played days ultimately costing lives battle hue far bloodiest entire war. ended american debate never winning leave. hue gripping moving account pivotal moment.  \n",
       "4  shakespeare king lear challenges us magnitude intensity sheer duration pain represents. figures harden hearts engage violence try alleviate suffering others. lear rages sanity cracks. keeps bringing us back king lear force language king lear almost equally powerful translated suggesting story large part draws us play. the play tells us families struggling greed cruelty one hand support consolation other. emotions extreme magnified gigantic proportions. also see old age portrayed vulnerability pride perhaps wisdom one reason devastating shakespeare tragedies also perhaps moving. the authoritative edition king lear folger shakespeare library trusted widely used shakespeare series students general readers includes freshly edited text based best early printed version play full explanatory notes conveniently placed pages facing text play scene scene plot summaries key play famous lines phrases introduction reading shakespeare language essay leading shakespeare scholar providing modern perspective play fresh images folger shakespeare library vast holdings rare books annotated guide readingessay susan snyderthe folger shakespeare library washington home world largest collection shakespeare printed works magnet shakespeare scholars around globe. addition exhibitions open public throughout year folger offers full calendar performances programs. information visit folger. edu.  "
      ]
     },
     "execution_count": 74,
     "metadata": {},
     "output_type": "execute_result"
    }
   ],
   "source": [
    "df.head()"
   ]
  },
  {
   "cell_type": "markdown",
   "id": "c162507a-102d-40e0-9633-009720c4c611",
   "metadata": {},
   "source": [
    "## **8. Exporting Cleaned Dataset**"
   ]
  },
  {
   "cell_type": "code",
   "execution_count": 1,
   "id": "b65ff0b9-17a9-4aec-9a63-0b3b07c19430",
   "metadata": {},
   "outputs": [],
   "source": [
    "#df.to_csv(\"C:/Users/HP/Downloads/CombinedSummaries.csv\")"
   ]
  }
 ],
 "metadata": {
  "kernelspec": {
   "display_name": "Python 3 (ipykernel)",
   "language": "python",
   "name": "python3"
  },
  "language_info": {
   "codemirror_mode": {
    "name": "ipython",
    "version": 3
   },
   "file_extension": ".py",
   "mimetype": "text/x-python",
   "name": "python",
   "nbconvert_exporter": "python",
   "pygments_lexer": "ipython3",
   "version": "3.12.4"
  }
 },
 "nbformat": 4,
 "nbformat_minor": 5
}
