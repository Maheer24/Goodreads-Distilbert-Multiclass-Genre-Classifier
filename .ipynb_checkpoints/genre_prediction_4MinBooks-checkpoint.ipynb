{
 "cells": [
  {
   "cell_type": "markdown",
   "id": "680b96bc-f6cd-4e37-9ae8-ca42eb02c2f1",
   "metadata": {},
   "source": [
    "## **1. Import Necessary Libraries**"
   ]
  },
  {
   "cell_type": "code",
   "execution_count": 1,
   "id": "73841d73-27cd-4dd0-9498-ad8b019e3bd7",
   "metadata": {},
   "outputs": [],
   "source": [
    "import pandas as pd"
   ]
  },
  {
   "cell_type": "markdown",
   "id": "f4c9c942-0477-4f00-b1dc-c39f8f335a67",
   "metadata": {},
   "source": [
    "## **2. Explore Data**"
   ]
  },
  {
   "cell_type": "code",
   "execution_count": 2,
   "id": "edd17f65-67df-4b52-bd27-5f18a19cde9e",
   "metadata": {},
   "outputs": [],
   "source": [
    "pd.set_option('display.max_colwidth', None)"
   ]
  },
  {
   "cell_type": "code",
   "execution_count": 3,
   "id": "049bb86a-147c-4ce3-b86a-ca96620361bf",
   "metadata": {},
   "outputs": [],
   "source": [
    "df = pd.read_csv(\"C:/Users/HP/Downloads/FourMinuteBooksSummaries/books_summary.csv\")"
   ]
  },
  {
   "cell_type": "code",
   "execution_count": 4,
   "id": "2f3ae8e5-be72-4c11-a02c-3280cf07a463",
   "metadata": {},
   "outputs": [
    {
     "data": {
      "text/html": [
       "<div>\n",
       "<style scoped>\n",
       "    .dataframe tbody tr th:only-of-type {\n",
       "        vertical-align: middle;\n",
       "    }\n",
       "\n",
       "    .dataframe tbody tr th {\n",
       "        vertical-align: top;\n",
       "    }\n",
       "\n",
       "    .dataframe thead th {\n",
       "        text-align: right;\n",
       "    }\n",
       "</style>\n",
       "<table border=\"1\" class=\"dataframe\">\n",
       "  <thead>\n",
       "    <tr style=\"text-align: right;\">\n",
       "      <th></th>\n",
       "      <th>Unnamed: 0</th>\n",
       "      <th>book_name</th>\n",
       "      <th>summaries</th>\n",
       "      <th>categories</th>\n",
       "    </tr>\n",
       "  </thead>\n",
       "  <tbody>\n",
       "    <tr>\n",
       "      <th>0</th>\n",
       "      <td>0</td>\n",
       "      <td>The Highly Sensitive Person</td>\n",
       "      <td>is a self-assessment guide and how-to-live template for people who feel, relate, process, and notice more deeply than others, and who frequently suffer from overstimulation as a result.</td>\n",
       "      <td>science</td>\n",
       "    </tr>\n",
       "    <tr>\n",
       "      <th>1</th>\n",
       "      <td>1</td>\n",
       "      <td>Why Has Nobody Told Me This Before?</td>\n",
       "      <td>is a collection of a clinical psychologist’s best practical advice to combat anxiety and depression and improve our mental health in small increments, collected from over a decade of 1-on-1 work with patients.</td>\n",
       "      <td>science</td>\n",
       "    </tr>\n",
       "    <tr>\n",
       "      <th>2</th>\n",
       "      <td>2</td>\n",
       "      <td>The Midnight Library</td>\n",
       "      <td>tells the story of Nora, a depressed woman in her 30s, who, on the day she decides to die, finds herself in a library full of lives she could have lived, where she discovers there’s a lot more to life, even her current one, than she had ever imagined.</td>\n",
       "      <td>science</td>\n",
       "    </tr>\n",
       "    <tr>\n",
       "      <th>3</th>\n",
       "      <td>3</td>\n",
       "      <td>Brave New World</td>\n",
       "      <td>presents a futuristic society engineered perfectly around capitalism and scientific efficiency, in which everyone is happy, conform, and content — but only at first glance.</td>\n",
       "      <td>science</td>\n",
       "    </tr>\n",
       "    <tr>\n",
       "      <th>4</th>\n",
       "      <td>4</td>\n",
       "      <td>1984</td>\n",
       "      <td>is the story of a man questioning the system that keeps his futuristic but dystopian society afloat and the chaos that quickly ensues once he gives in to his natural curiosity and desire to be free.</td>\n",
       "      <td>science</td>\n",
       "    </tr>\n",
       "  </tbody>\n",
       "</table>\n",
       "</div>"
      ],
      "text/plain": [
       "   Unnamed: 0                            book_name  \\\n",
       "0           0          The Highly Sensitive Person   \n",
       "1           1  Why Has Nobody Told Me This Before?   \n",
       "2           2                 The Midnight Library   \n",
       "3           3                      Brave New World   \n",
       "4           4                                 1984   \n",
       "\n",
       "                                                                                                                                                                                                                                                      summaries  \\\n",
       "0                                                                     is a self-assessment guide and how-to-live template for people who feel, relate, process, and notice more deeply than others, and who frequently suffer from overstimulation as a result.   \n",
       "1                                             is a collection of a clinical psychologist’s best practical advice to combat anxiety and depression and improve our mental health in small increments, collected from over a decade of 1-on-1 work with patients.   \n",
       "2   tells the story of Nora, a depressed woman in her 30s, who, on the day she decides to die, finds herself in a library full of lives she could have lived, where she discovers there’s a lot more to life, even her current one, than she had ever imagined.   \n",
       "3                                                                                  presents a futuristic society engineered perfectly around capitalism and scientific efficiency, in which everyone is happy, conform, and content — but only at first glance.   \n",
       "4                                                        is the story of a man questioning the system that keeps his futuristic but dystopian society afloat and the chaos that quickly ensues once he gives in to his natural curiosity and desire to be free.   \n",
       "\n",
       "  categories  \n",
       "0    science  \n",
       "1    science  \n",
       "2    science  \n",
       "3    science  \n",
       "4    science  "
      ]
     },
     "execution_count": 4,
     "metadata": {},
     "output_type": "execute_result"
    }
   ],
   "source": [
    "df.head()"
   ]
  },
  {
   "cell_type": "code",
   "execution_count": 5,
   "id": "9f6f0438-31f7-47da-88c5-fdc407485fa3",
   "metadata": {},
   "outputs": [
    {
     "data": {
      "text/plain": [
       "(5201, 4)"
      ]
     },
     "execution_count": 5,
     "metadata": {},
     "output_type": "execute_result"
    }
   ],
   "source": [
    "df.shape"
   ]
  },
  {
   "cell_type": "markdown",
   "id": "fde25727-1f42-4549-bbc6-bcae39ac4611",
   "metadata": {},
   "source": [
    "### a. Check for null values"
   ]
  },
  {
   "cell_type": "code",
   "execution_count": 6,
   "id": "66cbe094-da3e-4cb2-b5e8-31359379bbde",
   "metadata": {},
   "outputs": [
    {
     "data": {
      "text/plain": [
       "Unnamed: 0    0\n",
       "book_name     0\n",
       "summaries     7\n",
       "categories    0\n",
       "dtype: int64"
      ]
     },
     "execution_count": 6,
     "metadata": {},
     "output_type": "execute_result"
    }
   ],
   "source": [
    "df.isna().sum()"
   ]
  },
  {
   "cell_type": "markdown",
   "id": "2e4b1b42-929f-4ac2-a0cb-217f4afbc899",
   "metadata": {},
   "source": [
    "### b. Check for duplicated values"
   ]
  },
  {
   "cell_type": "code",
   "execution_count": 7,
   "id": "834acab1-5d65-4a99-adb6-1f77c9fb9d84",
   "metadata": {},
   "outputs": [
    {
     "data": {
      "text/plain": [
       "False    4979\n",
       "True      222\n",
       "Name: count, dtype: int64"
      ]
     },
     "execution_count": 7,
     "metadata": {},
     "output_type": "execute_result"
    }
   ],
   "source": [
    "df.duplicated(['book_name','summaries','categories']).value_counts()"
   ]
  },
  {
   "cell_type": "markdown",
   "id": "db042c27-4595-42be-a7ff-036646c3f430",
   "metadata": {},
   "source": [
    "## **3. Pre Process Data**"
   ]
  },
  {
   "cell_type": "code",
   "execution_count": 8,
   "id": "ee9ab934-f1ad-416c-9737-eaa63af38650",
   "metadata": {},
   "outputs": [],
   "source": [
    "df.drop('Unnamed: 0', inplace = True, axis = 1)"
   ]
  },
  {
   "cell_type": "code",
   "execution_count": 9,
   "id": "c4d25e73-39ed-4624-91a5-6e825cec1b9a",
   "metadata": {},
   "outputs": [],
   "source": [
    "df.dropna(inplace = True)"
   ]
  },
  {
   "cell_type": "code",
   "execution_count": 10,
   "id": "0f463f6a-eae9-4920-bb4f-cc8e0c272e81",
   "metadata": {},
   "outputs": [
    {
     "data": {
      "text/plain": [
       "book_name     0\n",
       "summaries     0\n",
       "categories    0\n",
       "dtype: int64"
      ]
     },
     "execution_count": 10,
     "metadata": {},
     "output_type": "execute_result"
    }
   ],
   "source": [
    "df.isna().sum()"
   ]
  },
  {
   "cell_type": "code",
   "execution_count": 11,
   "id": "b98e513d-0552-4dab-8971-e263fa8b768d",
   "metadata": {},
   "outputs": [],
   "source": [
    "df.drop_duplicates(subset = ['book_name','summaries','categories'], inplace = True)"
   ]
  },
  {
   "cell_type": "code",
   "execution_count": 12,
   "id": "825c6036-8a18-4cad-be10-5367d18e72bd",
   "metadata": {},
   "outputs": [
    {
     "data": {
      "text/plain": [
       "False    4972\n",
       "Name: count, dtype: int64"
      ]
     },
     "execution_count": 12,
     "metadata": {},
     "output_type": "execute_result"
    }
   ],
   "source": [
    "df.duplicated(['book_name','summaries','categories']).value_counts()"
   ]
  },
  {
   "cell_type": "code",
   "execution_count": 13,
   "id": "47fb1e9a-7a58-499a-839b-f5db690878fc",
   "metadata": {},
   "outputs": [
    {
     "data": {
      "text/plain": [
       "summaries\n",
       "False    4964\n",
       "True        8\n",
       "Name: count, dtype: int64"
      ]
     },
     "execution_count": 13,
     "metadata": {},
     "output_type": "execute_result"
    }
   ],
   "source": [
    "df['summaries'].isin([' ']).value_counts()"
   ]
  },
  {
   "cell_type": "code",
   "execution_count": 14,
   "id": "2d45c816-1248-4718-9907-f4f393375673",
   "metadata": {},
   "outputs": [
    {
     "data": {
      "text/plain": [
       "categories\n",
       "False    4972\n",
       "Name: count, dtype: int64"
      ]
     },
     "execution_count": 14,
     "metadata": {},
     "output_type": "execute_result"
    }
   ],
   "source": [
    "df['categories'].isin([' ']).value_counts()"
   ]
  },
  {
   "cell_type": "code",
   "execution_count": 15,
   "id": "6f4ecfd9-90f4-4a6d-94d1-ab7c0c33573a",
   "metadata": {},
   "outputs": [],
   "source": [
    "df = df.loc[~df['summaries'].isin([' '])]"
   ]
  },
  {
   "cell_type": "code",
   "execution_count": 16,
   "id": "11a92041-c9ef-4f26-943b-1a24ff2446a6",
   "metadata": {},
   "outputs": [
    {
     "data": {
      "text/plain": [
       "summaries\n",
       "False    4964\n",
       "Name: count, dtype: int64"
      ]
     },
     "execution_count": 16,
     "metadata": {},
     "output_type": "execute_result"
    }
   ],
   "source": [
    "df['summaries'].isin([' ']).value_counts()"
   ]
  },
  {
   "cell_type": "code",
   "execution_count": 17,
   "id": "bc746aba-e678-46f2-bb41-79c55dd11099",
   "metadata": {},
   "outputs": [],
   "source": [
    "df.drop('book_name', inplace = True, axis = 1)"
   ]
  },
  {
   "cell_type": "code",
   "execution_count": 18,
   "id": "dd93d450-a1ea-40db-8f44-6286eae5ce49",
   "metadata": {},
   "outputs": [],
   "source": [
    "df.reset_index(drop = True, inplace = True)"
   ]
  },
  {
   "cell_type": "markdown",
   "id": "3a9e8e41-2d0f-4da2-b9f5-e4f9264d93dc",
   "metadata": {},
   "source": [
    "## **4. Re name Columns and Genres**"
   ]
  },
  {
   "cell_type": "markdown",
   "id": "5d7d9078-c957-4a49-9ec5-61af4c2522e7",
   "metadata": {},
   "source": [
    "- This dataset is being used to aid the `Goodreads` dataset.\n",
    "- Since the original dataset scraped from Goodreads is `highly imbalanced`.\n",
    "\n",
    "- So we will rename the column names and the genres to match the Goodreads dataset."
   ]
  },
  {
   "cell_type": "code",
   "execution_count": 19,
   "id": "a7499e83-3fd2-42c3-b442-ddb2760506dd",
   "metadata": {},
   "outputs": [
    {
     "data": {
      "text/html": [
       "<div>\n",
       "<style scoped>\n",
       "    .dataframe tbody tr th:only-of-type {\n",
       "        vertical-align: middle;\n",
       "    }\n",
       "\n",
       "    .dataframe tbody tr th {\n",
       "        vertical-align: top;\n",
       "    }\n",
       "\n",
       "    .dataframe thead th {\n",
       "        text-align: right;\n",
       "    }\n",
       "</style>\n",
       "<table border=\"1\" class=\"dataframe\">\n",
       "  <thead>\n",
       "    <tr style=\"text-align: right;\">\n",
       "      <th></th>\n",
       "      <th>summaries</th>\n",
       "      <th>categories</th>\n",
       "    </tr>\n",
       "  </thead>\n",
       "  <tbody>\n",
       "    <tr>\n",
       "      <th>0</th>\n",
       "      <td>is a self-assessment guide and how-to-live template for people who feel, relate, process, and notice more deeply than others, and who frequently suffer from overstimulation as a result.</td>\n",
       "      <td>science</td>\n",
       "    </tr>\n",
       "    <tr>\n",
       "      <th>1</th>\n",
       "      <td>is a collection of a clinical psychologist’s best practical advice to combat anxiety and depression and improve our mental health in small increments, collected from over a decade of 1-on-1 work with patients.</td>\n",
       "      <td>science</td>\n",
       "    </tr>\n",
       "    <tr>\n",
       "      <th>2</th>\n",
       "      <td>tells the story of Nora, a depressed woman in her 30s, who, on the day she decides to die, finds herself in a library full of lives she could have lived, where she discovers there’s a lot more to life, even her current one, than she had ever imagined.</td>\n",
       "      <td>science</td>\n",
       "    </tr>\n",
       "    <tr>\n",
       "      <th>3</th>\n",
       "      <td>presents a futuristic society engineered perfectly around capitalism and scientific efficiency, in which everyone is happy, conform, and content — but only at first glance.</td>\n",
       "      <td>science</td>\n",
       "    </tr>\n",
       "    <tr>\n",
       "      <th>4</th>\n",
       "      <td>is the story of a man questioning the system that keeps his futuristic but dystopian society afloat and the chaos that quickly ensues once he gives in to his natural curiosity and desire to be free.</td>\n",
       "      <td>science</td>\n",
       "    </tr>\n",
       "  </tbody>\n",
       "</table>\n",
       "</div>"
      ],
      "text/plain": [
       "                                                                                                                                                                                                                                                      summaries  \\\n",
       "0                                                                     is a self-assessment guide and how-to-live template for people who feel, relate, process, and notice more deeply than others, and who frequently suffer from overstimulation as a result.   \n",
       "1                                             is a collection of a clinical psychologist’s best practical advice to combat anxiety and depression and improve our mental health in small increments, collected from over a decade of 1-on-1 work with patients.   \n",
       "2   tells the story of Nora, a depressed woman in her 30s, who, on the day she decides to die, finds herself in a library full of lives she could have lived, where she discovers there’s a lot more to life, even her current one, than she had ever imagined.   \n",
       "3                                                                                  presents a futuristic society engineered perfectly around capitalism and scientific efficiency, in which everyone is happy, conform, and content — but only at first glance.   \n",
       "4                                                        is the story of a man questioning the system that keeps his futuristic but dystopian society afloat and the chaos that quickly ensues once he gives in to his natural curiosity and desire to be free.   \n",
       "\n",
       "  categories  \n",
       "0    science  \n",
       "1    science  \n",
       "2    science  \n",
       "3    science  \n",
       "4    science  "
      ]
     },
     "execution_count": 19,
     "metadata": {},
     "output_type": "execute_result"
    }
   ],
   "source": [
    "df.head()"
   ]
  },
  {
   "cell_type": "code",
   "execution_count": 20,
   "id": "4def1860-c2e7-454d-a06c-f0072f1c06be",
   "metadata": {},
   "outputs": [],
   "source": [
    "df.rename(columns = {'summaries':'Summary','categories':'Genres'}, inplace = True)"
   ]
  },
  {
   "cell_type": "code",
   "execution_count": 21,
   "id": "0b4bf1c6-c15f-41f5-bd1f-dbad39307392",
   "metadata": {},
   "outputs": [
    {
     "data": {
      "text/plain": [
       "Summary    object\n",
       "Genres     object\n",
       "dtype: object"
      ]
     },
     "execution_count": 21,
     "metadata": {},
     "output_type": "execute_result"
    }
   ],
   "source": [
    "df.dtypes"
   ]
  },
  {
   "cell_type": "code",
   "execution_count": 22,
   "id": "810ef184-e178-4c8f-a79f-06a554184152",
   "metadata": {},
   "outputs": [
    {
     "data": {
      "text/plain": [
       "Genres\n",
       "psychology       582\n",
       "productivity     474\n",
       "motivation       423\n",
       "happiness        413\n",
       "work             362\n",
       "business         354\n",
       "mindfulness      310\n",
       "relationships    263\n",
       "communication    227\n",
       "science          198\n",
       "creativity       185\n",
       "management       178\n",
       "health           176\n",
       "money            147\n",
       "politics         117\n",
       "marketing        116\n",
       "education        108\n",
       "technology        97\n",
       "biography         79\n",
       "economics         68\n",
       "environment       48\n",
       "religion          29\n",
       "fiction           10\n",
       "Name: count, dtype: int64"
      ]
     },
     "execution_count": 22,
     "metadata": {},
     "output_type": "execute_result"
    }
   ],
   "source": [
    "df['Genres'].value_counts()"
   ]
  },
  {
   "cell_type": "markdown",
   "id": "79d9c688-2103-4910-aa8e-baa5da325ae2",
   "metadata": {},
   "source": [
    "### **a. Remove Unnecessary Genres**"
   ]
  },
  {
   "cell_type": "code",
   "execution_count": 23,
   "id": "cc38e307-f321-4f97-bbb9-c6b2bc6ee33e",
   "metadata": {},
   "outputs": [],
   "source": [
    "genres_to_remove = ['relationships','business','management','productivity','fiction','communication', 'work','environment','education','health','creativity',\"economics\", \"marketing\", \"money\",\"politics\",\"motivation\",\"happiness\"]\n",
    "\n",
    "df = df[~df['Genres'].isin(genres_to_remove)]\n",
    "df.reset_index(drop = True, inplace = True)"
   ]
  },
  {
   "cell_type": "markdown",
   "id": "a9f1c4b0-9049-439d-ad1b-e750fd973a45",
   "metadata": {},
   "source": [
    "### **b. Create Genre Mappings**"
   ]
  },
  {
   "cell_type": "markdown",
   "id": "34687a78-6786-456a-a498-f13498804091",
   "metadata": {},
   "source": [
    "- We will create genre mappings such that they match the `Goodreads Dataset`"
   ]
  },
  {
   "cell_type": "code",
   "execution_count": 24,
   "id": "db413dda-99e5-490a-8263-83ab61385610",
   "metadata": {},
   "outputs": [],
   "source": [
    "genre_mappings = {\n",
    "    \"psychology\": \"Psychology\", \n",
    "    \"mindfulness\" : \"Inspirational and Self-Help\", \n",
    "    \"religion\" : \"Religion and Spirituality\",\n",
    "    \"biography\" : \"Biographies and Memoirs\", \n",
    "    \"technology\" : \"Science and Technology\",\n",
    "    \"science\" : \"Science and Technology\"\n",
    "}"
   ]
  },
  {
   "cell_type": "code",
   "execution_count": 25,
   "id": "f31ec244-6b1e-444c-b031-1148909866c2",
   "metadata": {},
   "outputs": [],
   "source": [
    "df['GroupedGenres'] = df['Genres'].replace(genre_mappings)"
   ]
  },
  {
   "cell_type": "code",
   "execution_count": 26,
   "id": "9cbe7e19-25ca-4c9f-b7b0-bcdd6b62d2cb",
   "metadata": {},
   "outputs": [],
   "source": [
    "df.drop('Genres', inplace = True, axis = 1)"
   ]
  },
  {
   "cell_type": "code",
   "execution_count": 27,
   "id": "548dfba5-d8cb-40f6-a010-a2a49f773f33",
   "metadata": {},
   "outputs": [
    {
     "data": {
      "text/plain": [
       "GroupedGenres\n",
       "Psychology                     582\n",
       "Inspirational and Self-Help    310\n",
       "Science and Technology         295\n",
       "Biographies and Memoirs         79\n",
       "Religion and Spirituality       29\n",
       "Name: count, dtype: int64"
      ]
     },
     "execution_count": 27,
     "metadata": {},
     "output_type": "execute_result"
    }
   ],
   "source": [
    "df['GroupedGenres'].value_counts()"
   ]
  },
  {
   "cell_type": "code",
   "execution_count": 28,
   "id": "f7bf53f9-3468-4729-97b5-ac5743ee90d1",
   "metadata": {},
   "outputs": [
    {
     "data": {
      "text/plain": [
       "(1295, 2)"
      ]
     },
     "execution_count": 28,
     "metadata": {},
     "output_type": "execute_result"
    }
   ],
   "source": [
    "df.shape"
   ]
  },
  {
   "cell_type": "code",
   "execution_count": 29,
   "id": "ab1bd4f2-39ba-4f46-9b21-2c33b67dbadc",
   "metadata": {},
   "outputs": [
    {
     "data": {
      "text/html": [
       "<div>\n",
       "<style scoped>\n",
       "    .dataframe tbody tr th:only-of-type {\n",
       "        vertical-align: middle;\n",
       "    }\n",
       "\n",
       "    .dataframe tbody tr th {\n",
       "        vertical-align: top;\n",
       "    }\n",
       "\n",
       "    .dataframe thead th {\n",
       "        text-align: right;\n",
       "    }\n",
       "</style>\n",
       "<table border=\"1\" class=\"dataframe\">\n",
       "  <thead>\n",
       "    <tr style=\"text-align: right;\">\n",
       "      <th></th>\n",
       "      <th>Summary</th>\n",
       "      <th>GroupedGenres</th>\n",
       "    </tr>\n",
       "  </thead>\n",
       "  <tbody>\n",
       "    <tr>\n",
       "      <th>0</th>\n",
       "      <td>is a self-assessment guide and how-to-live template for people who feel, relate, process, and notice more deeply than others, and who frequently suffer from overstimulation as a result.</td>\n",
       "      <td>Science and Technology</td>\n",
       "    </tr>\n",
       "    <tr>\n",
       "      <th>1</th>\n",
       "      <td>is a collection of a clinical psychologist’s best practical advice to combat anxiety and depression and improve our mental health in small increments, collected from over a decade of 1-on-1 work with patients.</td>\n",
       "      <td>Science and Technology</td>\n",
       "    </tr>\n",
       "    <tr>\n",
       "      <th>2</th>\n",
       "      <td>tells the story of Nora, a depressed woman in her 30s, who, on the day she decides to die, finds herself in a library full of lives she could have lived, where she discovers there’s a lot more to life, even her current one, than she had ever imagined.</td>\n",
       "      <td>Science and Technology</td>\n",
       "    </tr>\n",
       "    <tr>\n",
       "      <th>3</th>\n",
       "      <td>presents a futuristic society engineered perfectly around capitalism and scientific efficiency, in which everyone is happy, conform, and content — but only at first glance.</td>\n",
       "      <td>Science and Technology</td>\n",
       "    </tr>\n",
       "    <tr>\n",
       "      <th>4</th>\n",
       "      <td>is the story of a man questioning the system that keeps his futuristic but dystopian society afloat and the chaos that quickly ensues once he gives in to his natural curiosity and desire to be free.</td>\n",
       "      <td>Science and Technology</td>\n",
       "    </tr>\n",
       "  </tbody>\n",
       "</table>\n",
       "</div>"
      ],
      "text/plain": [
       "                                                                                                                                                                                                                                                        Summary  \\\n",
       "0                                                                     is a self-assessment guide and how-to-live template for people who feel, relate, process, and notice more deeply than others, and who frequently suffer from overstimulation as a result.   \n",
       "1                                             is a collection of a clinical psychologist’s best practical advice to combat anxiety and depression and improve our mental health in small increments, collected from over a decade of 1-on-1 work with patients.   \n",
       "2   tells the story of Nora, a depressed woman in her 30s, who, on the day she decides to die, finds herself in a library full of lives she could have lived, where she discovers there’s a lot more to life, even her current one, than she had ever imagined.   \n",
       "3                                                                                  presents a futuristic society engineered perfectly around capitalism and scientific efficiency, in which everyone is happy, conform, and content — but only at first glance.   \n",
       "4                                                        is the story of a man questioning the system that keeps his futuristic but dystopian society afloat and the chaos that quickly ensues once he gives in to his natural curiosity and desire to be free.   \n",
       "\n",
       "            GroupedGenres  \n",
       "0  Science and Technology  \n",
       "1  Science and Technology  \n",
       "2  Science and Technology  \n",
       "3  Science and Technology  \n",
       "4  Science and Technology  "
      ]
     },
     "execution_count": 29,
     "metadata": {},
     "output_type": "execute_result"
    }
   ],
   "source": [
    "df.head()"
   ]
  },
  {
   "cell_type": "code",
   "execution_count": 32,
   "id": "1ccc5250-d59d-4dcb-b6bb-5c1519a900cc",
   "metadata": {},
   "outputs": [],
   "source": [
    "df.to_csv(\"C:/Users/HP/Downloads/FourMinuteBookSummaries.csv\")"
   ]
  },
  {
   "cell_type": "code",
   "execution_count": null,
   "id": "d6cf764b-2b89-4816-86aa-291fce0d826e",
   "metadata": {},
   "outputs": [],
   "source": []
  }
 ],
 "metadata": {
  "kernelspec": {
   "display_name": "Python 3 (ipykernel)",
   "language": "python",
   "name": "python3"
  },
  "language_info": {
   "codemirror_mode": {
    "name": "ipython",
    "version": 3
   },
   "file_extension": ".py",
   "mimetype": "text/x-python",
   "name": "python",
   "nbconvert_exporter": "python",
   "pygments_lexer": "ipython3",
   "version": "3.12.4"
  }
 },
 "nbformat": 4,
 "nbformat_minor": 5
}
