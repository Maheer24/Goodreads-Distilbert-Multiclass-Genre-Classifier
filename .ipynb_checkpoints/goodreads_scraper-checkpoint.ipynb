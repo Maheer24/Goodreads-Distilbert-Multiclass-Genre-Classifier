{
 "cells": [
  {
   "cell_type": "code",
   "execution_count": 10,
   "id": "83c33f6f-a4bd-4155-8fb3-bfa8319c7c8a",
   "metadata": {},
   "outputs": [],
   "source": [
    "import requests\n",
    "from bs4 import BeautifulSoup as bs\n",
    "import time\n",
    "import random\n",
    "import csv"
   ]
  },
  {
   "cell_type": "markdown",
   "id": "f5ca748c-1486-4b82-8a65-1420b3f98d77",
   "metadata": {},
   "source": [
    "# **Understanding the Scraper**"
   ]
  },
  {
   "cell_type": "code",
   "execution_count": 65,
   "id": "c7ccd734-d45c-4824-8332-9492867b4866",
   "metadata": {},
   "outputs": [],
   "source": [
    "r = requests.get(\"https://www.goodreads.com/book/show/136251.Harry_Potter_and_the_Deathly_Hallows\")\n",
    "soup = bs(r.content)\n",
    "\n",
    "# print(soup.prettify())"
   ]
  },
  {
   "cell_type": "code",
   "execution_count": 66,
   "id": "d87873af-cf18-4df5-8c9d-af77c7e86e25",
   "metadata": {},
   "outputs": [],
   "source": [
    "description_section = soup.select_one(\"div[data-testid='description']\")"
   ]
  },
  {
   "cell_type": "code",
   "execution_count": 69,
   "id": "dfde64c0-722c-4caf-bd33-2d3df71aa7d4",
   "metadata": {},
   "outputs": [
    {
     "data": {
      "text/plain": [
       "\"Harry has been burdened with a dark, dangerous and seemingly impossible task: that of locating and destroying Voldemort's remaining Horcruxes. Never has Harry felt so alone, or faced a future so full of shadows. But Harry must somehow find within himself the strength to complete the task he has been given. He must leave the warmth, safety and companionship of The Burrow and follow without fear or hesitation the inexorable path laid out for him...In this final, seventh installment of the Harry Potter series, J.K. Rowling unveils in spectacular fashion the answers to the many questions that have been so eagerly awaited.\""
      ]
     },
     "execution_count": 69,
     "metadata": {},
     "output_type": "execute_result"
    }
   ],
   "source": [
    "description_text = description_section.select_one(\"span.Formatted\").get_text(strip = True)\n",
    "description_text"
   ]
  },
  {
   "cell_type": "code",
   "execution_count": 70,
   "id": "fe937271-95ba-4fd0-9404-f4142c8eaa3f",
   "metadata": {},
   "outputs": [
    {
     "data": {
      "text/plain": [
       "<div class=\"BookPageMetadataSection__genres\" data-testid=\"genresList\"><ul aria-label=\"Top genres for this book\" class=\"CollapsableList\"><span tabindex=\"-1\"><span class=\"BookPageMetadataSection__genrePlainText\"><span class=\"Text Text__body3 Text__subdued\">Genres</span></span><span class=\"BookPageMetadataSection__genreButton\"><a class=\"Button Button--tag Button--medium\" href=\"https://www.goodreads.com/genres/fantasy\"><span class=\"Button__labelItem\">Fantasy</span></a></span><span class=\"BookPageMetadataSection__genreButton\"><a class=\"Button Button--tag Button--medium\" href=\"https://www.goodreads.com/genres/young-adult\"><span class=\"Button__labelItem\">Young Adult</span></a></span><span class=\"BookPageMetadataSection__genreButton\"><a class=\"Button Button--tag Button--medium\" href=\"https://www.goodreads.com/genres/fiction\"><span class=\"Button__labelItem\">Fiction</span></a></span><span class=\"BookPageMetadataSection__genreButton\"><a class=\"Button Button--tag Button--medium\" href=\"https://www.goodreads.com/genres/magic\"><span class=\"Button__labelItem\">Magic</span></a></span><span class=\"BookPageMetadataSection__genreButton\"><a class=\"Button Button--tag Button--medium\" href=\"https://www.goodreads.com/genres/childrens\"><span class=\"Button__labelItem\">Childrens</span></a></span><span class=\"BookPageMetadataSection__genreButton\"><a class=\"Button Button--tag Button--medium\" href=\"https://www.goodreads.com/genres/audiobook\"><span class=\"Button__labelItem\">Audiobook</span></a></span><span class=\"BookPageMetadataSection__genreButton\"><a class=\"Button Button--tag Button--medium\" href=\"https://www.goodreads.com/genres/adventure\"><span class=\"Button__labelItem\">Adventure</span></a></span></span><span tabindex=\"-1\"></span> <div class=\"Button__container\"><button aria-label=\"Show all items in the list\" class=\"Button Button--tag Button--medium\" type=\"button\"><span class=\"Button__labelItem\">...more</span></button></div></ul></div>"
      ]
     },
     "execution_count": 70,
     "metadata": {},
     "output_type": "execute_result"
    }
   ],
   "source": [
    "genre_section = soup.select_one(\"div[data-testid = genresList]\")\n",
    "genre_section"
   ]
  },
  {
   "cell_type": "code",
   "execution_count": 71,
   "id": "90ab162d-3189-4689-8089-4b53f5b6ac4c",
   "metadata": {},
   "outputs": [
    {
     "data": {
      "text/plain": [
       "[<span class=\"Button__labelItem\">Fantasy</span>,\n",
       " <span class=\"Button__labelItem\">Young Adult</span>,\n",
       " <span class=\"Button__labelItem\">Fiction</span>,\n",
       " <span class=\"Button__labelItem\">Magic</span>,\n",
       " <span class=\"Button__labelItem\">Childrens</span>,\n",
       " <span class=\"Button__labelItem\">Audiobook</span>,\n",
       " <span class=\"Button__labelItem\">Adventure</span>,\n",
       " <span class=\"Button__labelItem\">...more</span>]"
      ]
     },
     "execution_count": 71,
     "metadata": {},
     "output_type": "execute_result"
    }
   ],
   "source": [
    "genres = genre_section.find_all(\"span\", class_ = \"Button__labelItem\")\n",
    "genres"
   ]
  },
  {
   "cell_type": "code",
   "execution_count": 72,
   "id": "2942bcf7-5451-4b49-97c3-3f76e821ade1",
   "metadata": {},
   "outputs": [
    {
     "data": {
      "text/plain": [
       "['Fantasy',\n",
       " 'Young Adult',\n",
       " 'Fiction',\n",
       " 'Magic',\n",
       " 'Childrens',\n",
       " 'Audiobook',\n",
       " 'Adventure']"
      ]
     },
     "execution_count": 72,
     "metadata": {},
     "output_type": "execute_result"
    }
   ],
   "source": [
    "genre_list = [genre.get_text(strip = True) for genre in genres if genre.get_text(strip = True) != '...more']\n",
    "genre_list"
   ]
  },
  {
   "cell_type": "code",
   "execution_count": 9,
   "id": "397c4546-057e-4a34-8a73-888c72ac0b91",
   "metadata": {},
   "outputs": [],
   "source": [
    "headers = {\n",
    "    'User-Agent': 'Mozilla/5.0 (Windows NT 10.0; Win64; x64) AppleWebKit/537.36 (KHTML, like Gecko) Chrome/58.0.3029.110 Safari/537.3'\n",
    "}\n",
    "\n",
    "url = \"https://www.goodreads.com/list/show/2386.Books_that_Blew_Me_Away_and_that_I_Still_Think_About_?page=1\"\n",
    "web_page = requests.get(url, \"html.parser\", headers = headers)\n",
    "content = bs(web_page.content)"
   ]
  },
  {
   "cell_type": "code",
   "execution_count": 2,
   "id": "86a73512-ff1e-498d-b390-7c475a252419",
   "metadata": {},
   "outputs": [],
   "source": [
    "print(content.prettify())"
   ]
  },
  {
   "cell_type": "code",
   "execution_count": null,
   "id": "52c37d68-8ba6-476a-a621-682619e944f7",
   "metadata": {},
   "outputs": [],
   "source": [
    "a = content.select_one(\"div[id = 'all_votes']\")"
   ]
  },
  {
   "cell_type": "code",
   "execution_count": null,
   "id": "b2b82932-c051-466d-a319-f881d80c1ae5",
   "metadata": {},
   "outputs": [],
   "source": [
    "b = a.find_all(\"a\", class_ = \"bookTitle\")"
   ]
  },
  {
   "cell_type": "code",
   "execution_count": 22,
   "id": "f2037953-5300-44f6-bd42-8ca862e36703",
   "metadata": {},
   "outputs": [],
   "source": [
    "hrefs = [link['href'] for link in b]"
   ]
  },
  {
   "cell_type": "code",
   "execution_count": 23,
   "id": "a25ca1fb-f4d7-4489-a798-d6dbd2207f96",
   "metadata": {
    "scrolled": true
   },
   "outputs": [
    {
     "data": {
      "text/plain": [
       "['/book/show/2767052-the-hunger-games',\n",
       " '/book/show/136251.Harry_Potter_and_the_Deathly_Hallows',\n",
       " '/book/show/6148028-catching-fire',\n",
       " '/book/show/19063.The_Book_Thief',\n",
       " '/book/show/2657.To_Kill_a_Mockingbird',\n",
       " '/book/show/3636.The_Giver',\n",
       " '/book/show/3.Harry_Potter_and_the_Sorcerer_s_Stone',\n",
       " '/book/show/1885.Pride_and_Prejudice',\n",
       " '/book/show/6.Harry_Potter_and_the_Goblet_of_Fire',\n",
       " '/book/show/61439040-1984',\n",
       " '/book/show/5.Harry_Potter_and_the_Prisoner_of_Azkaban',\n",
       " '/book/show/48855.The_Diary_of_a_Young_Girl',\n",
       " '/book/show/1.Harry_Potter_and_the_Half_Blood_Prince',\n",
       " '/book/show/33.The_Lord_of_the_Rings',\n",
       " '/book/show/41865.Twilight',\n",
       " '/book/show/7260188-mockingjay',\n",
       " '/book/show/77203.The_Kite_Runner',\n",
       " '/book/show/1656001.The_Host',\n",
       " '/book/show/375802.Ender_s_Game',\n",
       " '/book/show/15881.Harry_Potter_and_the_Chamber_of_Secrets',\n",
       " '/book/show/4667024-the-help',\n",
       " '/book/show/18619684-the-time-traveler-s-wife',\n",
       " '/book/show/10210.Jane_Eyre',\n",
       " '/book/show/157993.The_Little_Prince',\n",
       " '/book/show/100915.The_Lion_the_Witch_and_the_Wardrobe',\n",
       " '/book/show/33574273-a-wrinkle-in-time',\n",
       " '/book/show/5907.The_Hobbit',\n",
       " '/book/show/370493.The_Giving_Tree',\n",
       " '/book/show/2.Harry_Potter_and_the_Order_of_the_Phoenix',\n",
       " '/book/show/4671.The_Great_Gatsby',\n",
       " '/book/show/58724923-hidden-pictures',\n",
       " '/book/show/13079982-fahrenheit-451',\n",
       " '/book/show/18405.Gone_with_the_Wind',\n",
       " '/book/show/29908754-the-zombie-room',\n",
       " '/book/show/10917.My_Sister_s_Keeper',\n",
       " '/book/show/128029.A_Thousand_Splendid_Suns',\n",
       " '/book/show/1617.Night',\n",
       " '/book/show/12232938-the-lovely-bones',\n",
       " '/book/show/170448.Animal_Farm',\n",
       " '/book/show/4214.Life_of_Pi',\n",
       " '/book/show/57361474-local-woman-missing',\n",
       " '/book/show/6288.The_Road',\n",
       " '/book/show/38447.The_Handmaid_s_Tale',\n",
       " '/book/show/9293020-the-elephant-tree',\n",
       " '/book/show/929.Memoirs_of_a_Geisha',\n",
       " '/book/show/256683.City_of_Bones',\n",
       " '/book/show/5107.The_Catcher_in_the_Rye',\n",
       " '/book/show/6185.Wuthering_Heights',\n",
       " '/book/show/58913358-a-story-of-yesterday',\n",
       " '/book/show/386162.The_Hitchhiker_s_Guide_to_the_Galaxy',\n",
       " '/book/show/1162543.Breaking_Dawn',\n",
       " '/book/show/1934.Little_Women',\n",
       " '/book/show/22628.The_Perks_of_Being_a_Wallflower',\n",
       " '/book/show/7624.Lord_of_the_Flies',\n",
       " '/book/show/7144.Crime_and_Punishment',\n",
       " '/book/show/890.Of_Mice_and_Men',\n",
       " '/book/show/5129.Brave_New_World',\n",
       " '/book/show/862041.Harry_Potter_Series_Box_Set',\n",
       " '/book/show/62984900-those-empty-eyes',\n",
       " '/book/show/10964.Outlander',\n",
       " '/book/show/5297.The_Picture_of_Dorian_Gray',\n",
       " '/book/show/43641.Water_for_Elephants',\n",
       " '/book/show/231804.The_Outsiders',\n",
       " '/book/show/24280.Les_Mis_rables',\n",
       " '/book/show/52022378-sheever-s-journal-diary-of-a-poison-master',\n",
       " '/book/show/17899948-rebecca',\n",
       " '/book/show/24178.Charlotte_s_Web',\n",
       " '/book/show/310259.Love_You_Forever',\n",
       " '/book/show/2429135.The_Girl_with_the_Dragon_Tattoo',\n",
       " '/book/show/7604.Lolita',\n",
       " '/book/show/5043.The_Pillars_of_the_Earth',\n",
       " '/book/show/39999.The_Boy_in_the_Striped_Pajamas',\n",
       " '/book/show/61608233-taming-flame',\n",
       " '/book/show/62986809-pericles-and-aspasia',\n",
       " '/book/show/13023.Alice_in_Wonderland',\n",
       " '/book/show/18373.Flowers_for_Algernon',\n",
       " '/book/show/49041.New_Moon',\n",
       " '/book/show/6801755-flow-down-like-silver',\n",
       " '/book/show/205840559-magical-midlife-awakening',\n",
       " '/book/show/60784373-what-lies-in-the-woods',\n",
       " '/book/show/30165203-american-gods',\n",
       " '/book/show/18045891-sharp-objects',\n",
       " '/book/show/11870085-the-fault-in-our-stars',\n",
       " '/book/show/35031085-frankenstein',\n",
       " '/book/show/428263.Eclipse',\n",
       " '/book/show/149267.The_Stand',\n",
       " '/book/show/34186576-being-a-witch-and-other-things-i-didn-t-ask-for',\n",
       " '/book/show/18114322-the-grapes-of-wrath',\n",
       " '/book/show/3777732-city-of-glass',\n",
       " '/book/show/205404157-viciously-yours',\n",
       " '/book/show/59316367-look-closer',\n",
       " '/book/show/198494009-think-twice',\n",
       " '/book/show/13496.A_Game_of_Thrones',\n",
       " '/book/show/204787816-gray-after-dark',\n",
       " '/book/show/662.Atlas_Shrugged',\n",
       " '/book/show/17245.Dracula',\n",
       " '/book/show/46799.Go_Ask_Alice',\n",
       " '/book/show/16070018-truth',\n",
       " '/book/show/1582996.City_of_Ashes',\n",
       " '/book/show/60168787-ask-for-andrea']"
      ]
     },
     "execution_count": 23,
     "metadata": {},
     "output_type": "execute_result"
    }
   ],
   "source": [
    "hrefs"
   ]
  },
  {
   "cell_type": "markdown",
   "id": "9beeda68-b83c-4a0d-a211-c5b2e4804c31",
   "metadata": {},
   "source": [
    "# **Good Reads Scraper**"
   ]
  },
  {
   "cell_type": "markdown",
   "id": "f8cc22e8-ca82-4c0e-8db5-4835aaa6cf54",
   "metadata": {},
   "source": [
    "**Tip:  Don't scrape large number of pages at once, each page has 100 books.  Try to scrape in small parts.  Scraping 5 pages took about 40 - 45 mins**"
   ]
  },
  {
   "cell_type": "code",
   "execution_count": 11,
   "id": "e5c45ff9-e748-4215-ac7b-bf1312b3e489",
   "metadata": {},
   "outputs": [],
   "source": [
    "headers_list = ['Mozilla/5.0 (Windows NT 6.1; Win64; x64) AppleWebKit/537.36 (KHTML, like Gecko) Chrome/62.0.3202.62 Safari/537.36',\n",
    "                'Mozilla/5.0 (Windows NT 6.1; WOW64) AppleWebKit/537.36 (KHTML, like Gecko) Chrome/51.0.2704.103 Safari/537.36',\n",
    "                'Mozilla/5.0 (Windows NT 6.1; WOW64) AppleWebKit/537.36 (KHTML, like Gecko) Chrome/46.0.2490.71 Safari/537.36',\n",
    "                'Mozilla/5.0 (Macintosh; Intel Mac OS X 10_10_2) AppleWebKit/537.36 (KHTML, like Gecko) Chrome/40.0.2214.38 Safari/537.36',\n",
    "                'Mozilla/5.0 (Windows NT 6.1; WOW64) AppleWebKit/537.36 (KHTML, like Gecko) Chrome/37.0.2062.103 Safari/537.36',\n",
    "                'Mozilla/5.0 (Windows NT 6.2; WOW64) AppleWebKit/537.36 (KHTML, like Gecko) Chrome/34.0.1847.116 Safari/537.36',\n",
    "                'Mozilla/5.0 (Windows NT 6.1; WOW64) AppleWebKit/537.36 (KHTML, like Gecko) Chrome/31.0.1623.0 Safari/537.36',\n",
    "                'Mozilla/5.0 (Windows NT 6.3; WOW64) AppleWebKit/537.36 (KHTML, like Gecko) Chrome/30.0.1599.101 Safari/537.36']"
   ]
  },
  {
   "cell_type": "code",
   "execution_count": 12,
   "id": "9d250f98-6a8e-411b-8d6e-20d004a7e69b",
   "metadata": {},
   "outputs": [],
   "source": [
    "def get_random_headers():\n",
    "    return {\"User-Agent\": random.choice(headers_list)}"
   ]
  },
  {
   "cell_type": "code",
   "execution_count": 13,
   "id": "ce999e2d-b167-47fa-86c9-50f9a4313900",
   "metadata": {},
   "outputs": [],
   "source": [
    "# Function to get Book URLs from multiple pages\n",
    "def get_book_urls(first_page, last_page, base_url):\n",
    "    book_urls = []\n",
    "    \n",
    "    for page in range(first_page, last_page+1):\n",
    "        # Build the full url for each page\n",
    "        full_url = f\"{base_url}?page={page}\"\n",
    "        headers = get_random_headers()\n",
    "\n",
    "        # Send the request and parse the content\n",
    "        time.sleep(random.uniform(1,3))\n",
    "        web_page = requests.get(full_url, headers = headers)\n",
    "        soup = bs(web_page.content, \"html.parser\")\n",
    "        \n",
    "        url_section = soup.select_one(\"div[id = 'all_votes']\")\n",
    "        if url_section:\n",
    "            book_link = url_section.find_all(\"a\", class_ = \"bookTitle\")\n",
    "            hrefs = [link['href'] for link in book_link]\n",
    "            book_urls.extend(hrefs)\n",
    "        \n",
    "    return book_urls"
   ]
  },
  {
   "cell_type": "code",
   "execution_count": 14,
   "id": "14f12192-67fb-4899-934d-ea5696ef8b23",
   "metadata": {},
   "outputs": [],
   "source": [
    "# Testing the function\n",
    "\n",
    "# first_page = 1\n",
    "# last_page = 1\n",
    "# url = \"https://www.goodreads.com/list/show/2386.Books_that_Blew_Me_Away_and_that_I_Still_Think_About_\"\n",
    "\n",
    "# book_urls = get_book_urls(first_page,last_page,url)\n",
    "# for url in book_urls:\n",
    "#     print(url)"
   ]
  },
  {
   "cell_type": "code",
   "execution_count": 15,
   "id": "61cd80fb-6730-477b-bfd5-bb397cfda69e",
   "metadata": {},
   "outputs": [],
   "source": [
    "# Function to extract book summaries and genres\n",
    "def get_book_summary_and_genres(book_urls):\n",
    "    main_url = \"https://www.goodreads.com\"\n",
    "    summary_list = []\n",
    "    all_genre_list = []\n",
    "    \n",
    "    for url in book_urls:\n",
    "        \n",
    "        time.sleep(random.uniform(1,2))\n",
    "        \n",
    "        full_url = f\"{main_url}{url}\"\n",
    "        headers = get_random_headers()\n",
    "\n",
    "        try:\n",
    "            web_page = requests.get(full_url, headers = headers)\n",
    "            web_page.raise_for_status()\n",
    "            soup = bs(web_page.content, \"html.parser\")\n",
    "\n",
    "            # Extract book summary\n",
    "            description_section = soup.select_one(\"div[data-testid='description']\")\n",
    "            if description_section:\n",
    "                summary = description_section.select_one(\"span.Formatted\")\n",
    "                summary_text = summary.get_text(strip = True) if summary else \"Summary not available.\"      \n",
    "            else:\n",
    "                summary_text = \"Description section not found.\"\n",
    "                \n",
    "            summary_list.append(summary_text)\n",
    "\n",
    "            # Extract book genres\n",
    "            genre_section = soup.select_one(\"div[data-testid = genresList]\")\n",
    "            if genre_section:\n",
    "                genres = genre_section.find_all(\"span\", class_ = \"Button__labelItem\")\n",
    "                genre_list = [genre.get_text(strip = True) for genre in genres if genre.get_text(strip = True) != '...more']\n",
    "            \n",
    "                all_genre_list.append(\", \".join(genre_list) if genre_list else \"No genres available\")\n",
    "            else:\n",
    "                all_genre_list.append(\"No genres available\")\n",
    "            print(f\"Scraped {url}\")\n",
    "                \n",
    "        except requests.RequestException as e:\n",
    "            print(f\"Error scraping {url}: {e}\")\n",
    "            summary_list.append(\"Error fetching summary\")\n",
    "            all_genre_list.append(\"Error fetching genre\")\n",
    "        \n",
    "    return summary_list, all_genre_list"
   ]
  },
  {
   "cell_type": "code",
   "execution_count": 16,
   "id": "1027e471-1fb6-43a7-a064-1a2ab55e71f9",
   "metadata": {
    "scrolled": true
   },
   "outputs": [],
   "source": [
    "# Testing the function\n",
    "\n",
    "# books = [\"/book/show/2767052-the-hunger-games\",\"/book/show/136251.Harry_Potter_and_the_Deathly_Hallows\"]\n",
    "# summary_list,genres_list = get_book_summary_and_genres(books)\n",
    "\n",
    "# for i in range(2):\n",
    "#     print(f\"{summary_list[i]}\")\n",
    "#     print(f\"genres = {genres_list[i]}\")"
   ]
  },
  {
   "cell_type": "code",
   "execution_count": 17,
   "id": "6e6a9254-7fd5-457e-b33b-a0711cdbb28e",
   "metadata": {},
   "outputs": [],
   "source": [
    "# Function to save the data into a csv file\n",
    "def save_to_csv(book_urls, summary_list, genres_list, filename='books_data75.csv'):\n",
    "    with open(filename, mode = 'w', newline = '', encoding = 'utf-8') as file:\n",
    "        writer = csv.writer(file)\n",
    "        writer.writerow([\"Book_URL\",\"Summary\",\"Genres\"])\n",
    "        \n",
    "        for url, summary, genre in zip(book_urls, summary_list, genres_list):\n",
    "            writer.writerow([url, summary, genre])"
   ]
  },
  {
   "cell_type": "code",
   "execution_count": 18,
   "id": "508be8e2-fc01-4cb7-bf08-a7b1ada05670",
   "metadata": {},
   "outputs": [
    {
     "name": "stdout",
     "output_type": "stream",
     "text": [
      "Scraped book URLs\n",
      "Scraped /book/show/3851330-the-sign\n",
      "Scraped /book/show/2882717-things-that-are\n",
      "Scraped /book/show/1205431.Outlaw_Varjak_Paw\n",
      "Scraped /book/show/483007.Califia_s_Daughters\n",
      "Scraped /book/show/126576.Under_the_Volcano\n",
      "Scraped /book/show/304123.Blade_of_Tyshalle\n",
      "Scraped /book/show/6321600-flor-de-mel\n",
      "Scraped /book/show/625554.Pillar_of_Light\n",
      "Scraped /book/show/48318.The_Solitaire_Mystery\n",
      "Scraped /book/show/411828.A_Banner_Is_Unfurled\n",
      "Scraped /book/show/3232771-numenon\n",
      "Scraped /book/show/575962.At_Any_Price\n",
      "Scraped /book/show/601107.Penrod\n",
      "Scraped /book/show/108435.Prison_Writings\n",
      "Scraped /book/show/2860582-mistakes-were-made-but-not-by-me\n",
      "Scraped /book/show/8540756-the-cutting-edge\n",
      "Scraped /book/show/208767.Under_the_Overpass\n",
      "Scraped /book/show/62558.Quantum_Psychology\n",
      "Scraped /book/show/12241147-from-the-farther-side-of-beyond\n",
      "Scraped /book/show/1263250.Plus_One\n",
      "Scraped /book/show/12448098-dreamscape\n",
      "Scraped /book/show/9428981-here-comes-trouble\n",
      "Scraped /book/show/8853482-laney\n",
      "Scraped /book/show/2544.The_Madman\n",
      "Scraped /book/show/178527.Nigger\n",
      "Scraped /book/show/4657.The_Water_Method_Man\n",
      "Scraped /book/show/12690450-eight-of-jacks\n",
      "Scraped /book/show/29380.Animal_Liberation\n",
      "Scraped /book/show/8545304-enchanted-island\n",
      "Scraped /book/show/41179.Miracleman_Book_Three\n",
      "Scraped /book/show/12777016-song-to-wake-to\n",
      "Scraped /book/show/2222947.Meat\n",
      "Scraped /book/show/31093.Lila\n",
      "Scraped /book/show/6084532-fatal-shadows-a-dangerous-thing\n",
      "Scraped /book/show/60471.Coming_Home\n",
      "Scraped /book/show/13019599-short-stack\n",
      "Scraped /book/show/298924.Arc_of_Justice\n",
      "Scraped /book/show/2595760-burden-of-a-secret\n",
      "Scraped /book/show/117697.Winter_Night\n",
      "Scraped /book/show/7556334-hannah-s-list\n",
      "Scraped /book/show/69710.A_High_Wind_in_Jamaica\n",
      "Scraped /book/show/13545075-unwholly\n",
      "Scraped /book/show/3445011-walt-disney-s-mother-goose\n",
      "Scraped /book/show/171970.Alamut\n",
      "Error scraping /book/show/8239365-paths-to-divinity: 500 Server Error: Internal Server Error for url: https://www.goodreads.com/book/show/8239365-paths-to-divinity\n",
      "Scraped /book/show/13447359-cornerstone-deep-echoes\n",
      "Scraped /book/show/11382346-that-boy\n",
      "Scraped /book/show/16005318-the-house\n",
      "Scraped /book/show/7786382-hablando-sola\n",
      "Scraped /book/show/2752070-the-first-queen-of-england\n",
      "Scraped /book/show/9306975-jenny-pox\n",
      "Scraped /book/show/16136777-the-second-bat-guano-war\n",
      "Scraped /book/show/770303.Juventud_en_xtasis_Vol_1\n",
      "Scraped /book/show/88195.Galatea\n",
      "Scraped /book/show/17159259-contessa\n",
      "Scraped /book/show/44188.Monster\n",
      "Scraped /book/show/3198807-the-exception\n",
      "Scraped /book/show/12597227-the-good-braider\n",
      "Scraped /book/show/7822895-the-millennium-trilogy\n",
      "Scraped /book/show/13610962-hewhay-hall\n",
      "Scraped /book/show/17731031-divergent-insurgent\n",
      "Scraped /book/show/77996.The_Complete_Short_Stories_of_Guy_de_Maupassant_Part_One\n",
      "Scraped /book/show/32636.Abarat\n",
      "Scraped /book/show/1644692.White_Tiger\n",
      "Scraped /book/show/13147885-manhunt\n",
      "Scraped /book/show/18166844-unremembered\n",
      "Scraped /book/show/17647552-myths-of-gods\n",
      "Scraped /book/show/16079648-endless-night\n",
      "Scraped /book/show/17850042-allergy-guide\n",
      "Scraped /book/show/9768204-voyager\n",
      "Scraped /book/show/10970532-the-siren\n",
      "Scraped /book/show/18454456-my-wolf-protector\n",
      "Scraped /book/show/18713128-beers-hens-and-irishmen\n",
      "Scraped /book/show/341386.My_Descent_Into_Death\n",
      "Scraped /book/show/13173669-dark-hood-and-the-lair\n",
      "Scraped /book/show/18584551-loving-you\n",
      "Scraped /book/show/18463464-school-spirit-day\n",
      "Scraped /book/show/8837.Wind_Sand_and_Stars\n",
      "Scraped /book/show/13103.The_Celestine_Prophecy\n",
      "Scraped /book/show/27297.The_Analects\n",
      "Scraped /book/show/18373829-revenge\n",
      "Scraped /book/show/357464.Wild_Mind\n",
      "Scraped /book/show/12772632-almost-paradise\n",
      "Scraped /book/show/84553.The_Man_in_My_Basement\n",
      "Scraped /book/show/9758765-wildefire\n",
      "Scraped /book/show/18142427-life-drawing\n",
      "Scraped /book/show/10235898-le-chant-du-troll\n",
      "Scraped /book/show/18849801-an-involuntary-spy\n",
      "Scraped /book/show/3798703-the-spectacular-now\n",
      "Scraped /book/show/22462625-lick-the-razor\n",
      "Scraped /book/show/22113407-the-hungry-wolves-of-van-diemen-s-land\n",
      "Scraped /book/show/217700.The_Rock_Orchard\n",
      "Scraped /book/show/6343006-red-lion-vol-1\n",
      "Scraped /book/show/1770107.Eichmann_in_Jerusalem\n",
      "Scraped /book/show/21780302-freelancing-and-outsourcing-how-to-outsource-excessive-workload\n",
      "Scraped /book/show/17921638-larkin-s-letters\n",
      "Scraped /book/show/18160512-solan\n",
      "Scraped /book/show/17729977-all-roads-lead-to-winter\n",
      "Scraped /book/show/16140798-nell-gwynne-s-on-land-and-at-sea\n",
      "Scraped /book/show/23174294-encounters-with-the-unknown\n",
      "Scraped book genres and summaries\n",
      "Data saved to 'books_data.csv'\n"
     ]
    }
   ],
   "source": [
    "# Main Execution\n",
    "if __name__ == \"__main__\":\n",
    "    \n",
    "    first_page = 75\n",
    "    last_page = 75\n",
    "    \n",
    "    base_url = \"https://www.goodreads.com/list/show/2386.Books_that_Blew_Me_Away_and_that_I_Still_Think_About_\"\n",
    "    \n",
    "    book_urls = get_book_urls(first_page, last_page, base_url)\n",
    "    print(\"Scraped book URLs\")\n",
    "    \n",
    "    summaries, genres = get_book_summary_and_genres(book_urls)\n",
    "    print(\"Scraped book genres and summaries\")\n",
    "    \n",
    "    save_to_csv(book_urls, summaries, genres)\n",
    "    print(\"Data saved to 'books_data.csv'\")"
   ]
  }
 ],
 "metadata": {
  "kernelspec": {
   "display_name": "Python 3 (ipykernel)",
   "language": "python",
   "name": "python3"
  },
  "language_info": {
   "codemirror_mode": {
    "name": "ipython",
    "version": 3
   },
   "file_extension": ".py",
   "mimetype": "text/x-python",
   "name": "python",
   "nbconvert_exporter": "python",
   "pygments_lexer": "ipython3",
   "version": "3.12.4"
  }
 },
 "nbformat": 4,
 "nbformat_minor": 5
}
