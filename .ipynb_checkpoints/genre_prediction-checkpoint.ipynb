{
 "cells": [
  {
   "cell_type": "code",
   "execution_count": 4,
   "id": "e4b05e6f-d8d0-4cd8-b698-ee923a419bf1",
   "metadata": {},
   "outputs": [
    {
     "ename": "ModuleNotFoundError",
     "evalue": "No module named 'transformers'",
     "output_type": "error",
     "traceback": [
      "\u001b[1;31m---------------------------------------------------------------------------\u001b[0m",
      "\u001b[1;31mModuleNotFoundError\u001b[0m                       Traceback (most recent call last)",
      "Cell \u001b[1;32mIn[4], line 36\u001b[0m\n\u001b[0;32m     29\u001b[0m \u001b[38;5;28;01mfrom\u001b[39;00m \u001b[38;5;21;01msklearn\u001b[39;00m\u001b[38;5;21;01m.\u001b[39;00m\u001b[38;5;21;01mfeature_extraction\u001b[39;00m\u001b[38;5;21;01m.\u001b[39;00m\u001b[38;5;21;01mtext\u001b[39;00m \u001b[38;5;28;01mimport\u001b[39;00m TfidfVectorizer\n\u001b[0;32m     31\u001b[0m \u001b[38;5;66;03m# from tensorflow.keras.preprocessing.text import Tokenizer\u001b[39;00m\n\u001b[0;32m     32\u001b[0m \u001b[38;5;66;03m# from tensorflow.keras.models import Sequential\u001b[39;00m\n\u001b[0;32m     33\u001b[0m \u001b[38;5;66;03m# from tensorflow.keras.layers import LSTM, Dense, Dropout, Embedding\u001b[39;00m\n\u001b[0;32m     34\u001b[0m \u001b[38;5;66;03m# from scikeras.wrappers import KerasClassifier\u001b[39;00m\n\u001b[1;32m---> 36\u001b[0m \u001b[38;5;28;01mimport\u001b[39;00m \u001b[38;5;21;01mtransformers\u001b[39;00m\n\u001b[0;32m     37\u001b[0m \u001b[38;5;28;01mfrom\u001b[39;00m \u001b[38;5;21;01mtransformers\u001b[39;00m \u001b[38;5;28;01mimport\u001b[39;00m DistilBertTokenizer\n\u001b[0;32m     38\u001b[0m \u001b[38;5;28;01mfrom\u001b[39;00m \u001b[38;5;21;01mtransformers\u001b[39;00m \u001b[38;5;28;01mimport\u001b[39;00m TFDistilBertForSequenceClassification\n",
      "\u001b[1;31mModuleNotFoundError\u001b[0m: No module named 'transformers'"
     ]
    }
   ],
   "source": [
    "import pandas as pd\n",
    "import numpy as np\n",
    "import seaborn as sns\n",
    "import matplotlib.pyplot as plt\n",
    "import os\n",
    "from langdetect import detect, DetectorFactory\n",
    "from sklearn.preprocessing import LabelEncoder\n",
    "from bs4 import BeautifulSoup\n",
    "import gensim\n",
    "from gensim.models import KeyedVectors\n",
    "from gensim.test.utils import datapath\n",
    "\n",
    "import re\n",
    "import nltk\n",
    "from nltk.tokenize import word_tokenize,sent_tokenize\n",
    "from nltk.corpus import stopwords\n",
    "from nltk.stem import WordNetLemmatizer\n",
    "from autocorrect import Speller\n",
    "\n",
    "from imblearn.over_sampling import SMOTE\n",
    "from sklearn.base import BaseEstimator, TransformerMixin\n",
    "from imblearn.pipeline import Pipeline\n",
    "#from sklearn.pipeline import Pipeline\n",
    "from xgboost import XGBClassifier\n",
    "from sklearn.ensemble import AdaBoostClassifier\n",
    "from sklearn.model_selection import train_test_split, GridSearchCV, RandomizedSearchCV, cross_val_score, StratifiedKFold\n",
    "from sklearn.compose import ColumnTransformer\n",
    "from sklearn.metrics import accuracy_score, precision_score, recall_score, f1_score\n",
    "from sklearn.feature_extraction.text import TfidfVectorizer\n",
    "\n",
    "# from tensorflow.keras.preprocessing.text import Tokenizer\n",
    "# from tensorflow.keras.models import Sequential\n",
    "# from tensorflow.keras.layers import LSTM, Dense, Dropout, Embedding\n",
    "# from scikeras.wrappers import KerasClassifier\n",
    "\n",
    "import transformers\n",
    "from transformers import DistilBertTokenizer\n",
    "from transformers import TFDistilBertForSequenceClassification\n",
    "from transformers import TextClassificationPipeline\n",
    "import tensorflow as tf\n",
    "\n",
    "\n",
    "RANDOM_STATE = 42"
   ]
  },
  {
   "cell_type": "markdown",
   "id": "19308b9b-900c-478c-8a73-3dc3fb9bfb44",
   "metadata": {},
   "source": [
    "# **Genre Prediction From Summary - Goodreads**"
   ]
  },
  {
   "cell_type": "markdown",
   "id": "c6bb64f1-a177-40a8-908a-d47af68fac30",
   "metadata": {},
   "source": [
    "### Merge X csv files into a single file"
   ]
  },
  {
   "cell_type": "code",
   "execution_count": null,
   "id": "2984d171-ee65-47d0-b78b-e9eca4b3c865",
   "metadata": {},
   "outputs": [],
   "source": [
    "#files = [file for file in os.listdir('C:/Users/HP/Downloads/books_data')]\n",
    "\n",
    "# Create an empty Dataframe to concatenate on\n",
    "#all_books_data = pd.DataFrame()\n",
    "\n",
    "#for file in files:\n",
    "#    df = pd.read_csv('C:/Users/HP/Downloads/books_data/'+file)\n",
    "#    all_books_data = pd.concat([all_books_data, df])\n",
    "\n",
    "#all_books_data.to_csv('all_books_data.csv')"
   ]
  },
  {
   "cell_type": "code",
   "execution_count": null,
   "id": "9056d350-1c6e-4ef9-9505-f86d4d17ffb4",
   "metadata": {},
   "outputs": [],
   "source": [
    "df = pd.read_csv(\"C:/Users/HP/Downloads/all_books_data.xls\")"
   ]
  },
  {
   "cell_type": "code",
   "execution_count": null,
   "id": "68348439-b42a-4eb3-8267-b25e57c3ce3f",
   "metadata": {},
   "outputs": [],
   "source": [
    "pd.set_option('display.max_colwidth', None)"
   ]
  },
  {
   "cell_type": "code",
   "execution_count": null,
   "id": "068d596c-2ca9-47ba-9fa3-7f9823fced05",
   "metadata": {
    "scrolled": true
   },
   "outputs": [],
   "source": [
    "df.head()"
   ]
  },
  {
   "cell_type": "code",
   "execution_count": null,
   "id": "154eb011-2cf8-417b-90f8-93021527ca5c",
   "metadata": {},
   "outputs": [],
   "source": [
    "#clean_summary(\"'This is an alternate Cover Edition forASIN: B00K3NEE56.When the Creeds move into a beautiful old house in rural Maine, it all seems too good to be true: physician father, beautiful wife, charming little daughter, adorable infant son-and now an idyllic home. As a family, they've got it all...right down to the friendly car. But the nearby woods hide a blood-chilling truth-more terrifying than death itself-and hideously more powerful. The Creeds are going to learn that sometimes dead is better.\")"
   ]
  },
  {
   "cell_type": "code",
   "execution_count": null,
   "id": "75e31349-1618-4b7a-b255-3ba943f1f44c",
   "metadata": {},
   "outputs": [],
   "source": [
    "#clean_summary(\"* THE NEW YORK TIMES BESTSELLER *'Another masterpiece from one of my favorite authors . . . If you want a brief but thorough education in numeric thinking about many of the fundamental forces that shape human life, this is the book to read. It's a tour de force' BILL GATES__________We have never had so much information at our fingertips and yet most of us don't know how the world really works. This book explains seven of the most fundamental realities governing our survival and prosperity. From energy and food production, through our material world and its globalization, to risks, our environment and its future, How the World Really Works offers a much-needed reality check - because before we can tackle problems effectively, we must understand the facts.In this ambitious and thought-provoking book we see, for example, that globalization isn't inevitable and that our societies have been steadily increasing their dependence on fossil fuels, making their complete and rapid elimination unlikely. Drawing on the latest science and tackling sources of misinformation head on - from Yuval Noah Harari to Noam Chomsky - ultimately Smil answers the most profound question of our age: are we irrevocably doomed or is a brighter utopia ahead?__________'Very informative and eye-opening in many ways' HA-JOON CHANG, author of 23 Things They Don't Tell You About Capitalism'If you are anxious about the future, and infuriated that we aren't doing enough about it, please read this book' PAUL COLLIER, author of The Future of Capitalism\")"
   ]
  },
  {
   "cell_type": "code",
   "execution_count": null,
   "id": "7b62b1e8-658a-49df-8118-5eb3d57d5a35",
   "metadata": {},
   "outputs": [],
   "source": [
    "# clean_summary(\"\"\"\n",
    "# In this unforgettable chronicle of perhaps the most famous moment in American military history, James Bradley has captured the glory, \n",
    "# the triumph, the heartbreak, and the legacy of the six men who raised the flag at Iwo Jima. Here is the true story behind the immortal photograph \n",
    "# that has come to symbolize the courage and indomitable will of America. In February 1945, American Marines plunged into the surf at Iwo Jima—and into \n",
    "# history. Through a hail of machine-gun and mortar fire that left the beaches strewn with comrades, they battled to the island's highest peak. \n",
    "# And after climbing through a landscape of hell itself, they raised a flag. Now the son of one of the flagraisers has written a powerful account \n",
    "# of six very different young men who came together in a moment that will live forever. To his family, John Bradley never spoke of the photograph or \n",
    "# the war. But after his death at age seventy, his family discovered closed boxes of letters and photos. In Flags of Our Fathers, James Bradley draws \n",
    "# on those documents to retrace the lives of his father and the men of Easy Company. Following these men's paths to Iwo Jima, James Bradley has \n",
    "# written a classic story of the heroic battle for the Pacific's most crucial island—an island riddled with Japanese tunnels and 22,000 fanatic \n",
    "# defenders who would fight to the last man. But perhaps the most interesting part of the story is what happened after the victory. The men in the \n",
    "# photo—three were killed during the battle—were proclaimed heroes and flown home, to become reluctant symbols. For two of them, the adulation was \n",
    "# shattering. Only James Bradley's father truly survived, displaying no copy of the famous photograph in his home, telling his son only: The real heroes\n",
    "# of Iwo Jima were the guys who didn't come back. Few books ever have captured the complexity and furor of war and its aftermath as well as Flags of Our\n",
    "# Fathers. A penetrating, epic look at a generation at war, this is history told with keen insight, enormous honesty, and the passion of a son paying \n",
    "# homage to his father. It is the story of the difference between truth and myth, the meaning of being a hero, and the essence of the human experience\n",
    "# of war. From the Hardcover edition.\n",
    "# \"\"\")\n"
   ]
  },
  {
   "cell_type": "code",
   "execution_count": null,
   "id": "cd2ffed4-1d98-47da-97ea-d5e79b11b42a",
   "metadata": {},
   "outputs": [],
   "source": [
    "#clean_summary(\"A newer edition of ISBN 978-0143124542 can be foundhere.From the #1New York Timesbestselling author ofThe Giver of Stars, discover the love story that captured over 20 million hearts inMe Before You,After You, andStill Me.They had nothing in common until love gave them everything to lose . . .Louisa Clark is an ordinary girl living an exceedingly ordinary life—steady boyfriend, close family—who has barely been farther afield than their tiny village. She takes a badly needed job working for ex–Master of the Universe Will Traynor, who is wheelchair bound after an accident. Will has always lived a huge life—big deals, extreme sports, worldwide travel—and now he’s pretty sure he cannot live the way he is.Will is acerbic, moody, bossy—but Lou refuses to treat him with kid gloves, and soon his happiness means more to her than she expected. When she learns that Will has shocking plans of his own, she sets out to show him that life is still worth living.A Love Storyfor this generation and perfect for fans of John Green’sThe Fault in Our Stars,Me Before Youbrings to life two people who couldn’t have less in common—a heartbreakingly romantic novel that asks,What do you do when making the person you love happy also means breaking your own heart?\")"
   ]
  },
  {
   "cell_type": "code",
   "execution_count": null,
   "id": "a79f6634-e761-489f-acff-b51e382ccc0f",
   "metadata": {},
   "outputs": [],
   "source": [
    "#clean_summary(\"\"\"Alternate cover for ISBN 9780345350688Through a life of passion and struggle, Malcolm X became one of the most influential figures of the 20th Century. In this riveting account, he tells of his journey from a prison cell to Mecca, describing his transition from hoodlum to Muslim minister. Here, the man who called himself \"the angriest Black man in America\" relates how his conversion to true Islam helped him confront his rage and recognize the brotherhood of all mankind.An established classic of modern America, \"The Autobiography of Malcolm X\" was hailed by the New York Times as \"Extraordinary. A brilliant, painful, important book.\" Still extraordinary, still important, this electrifying story has transformed Malcolm X's life into his legacy. The strength of his words, and the power of his ideas continue to resonate more than a generation after they first appeared\"\"\")"
   ]
  },
  {
   "cell_type": "code",
   "execution_count": null,
   "id": "856a26c5-5ec1-46f1-8dcc-f64a16fa3e90",
   "metadata": {},
   "outputs": [],
   "source": [
    "#clean_summary(\"The Phenomenal #1 Worldwide Bestseller—With a New AfterwordHillary Rodham Clinton is known to hundreds of millions of people around the world. Yet few beyond her close friends and family have ever heard her account of her extraordinary journey. \")"
   ]
  },
  {
   "cell_type": "code",
   "execution_count": null,
   "id": "727b7d23-e307-4981-82e7-353093bea961",
   "metadata": {},
   "outputs": [],
   "source": [
    "df.dtypes"
   ]
  },
  {
   "cell_type": "markdown",
   "id": "0a05d3e0-9a72-4ac0-a4d4-84a814785f67",
   "metadata": {},
   "source": [
    "## **1. Pre process Data**"
   ]
  },
  {
   "cell_type": "markdown",
   "id": "a1e6bf6e-2e7a-44bf-8d83-8cafc13f06fe",
   "metadata": {},
   "source": [
    "### **a. Drop unnecessary columns**"
   ]
  },
  {
   "cell_type": "code",
   "execution_count": null,
   "id": "287d4db2-5f83-48c8-8862-0ba15a1fb798",
   "metadata": {},
   "outputs": [],
   "source": [
    "df.drop(['Unnamed: 0.1', 'Unnamed: 0', 'Book_URL'], axis = 1, inplace = True)"
   ]
  },
  {
   "cell_type": "code",
   "execution_count": null,
   "id": "5ca1fe5c-d878-4ee1-9552-7b88ca904186",
   "metadata": {
    "scrolled": true
   },
   "outputs": [],
   "source": [
    "df.head()"
   ]
  },
  {
   "cell_type": "code",
   "execution_count": null,
   "id": "8d30f571-b557-4b59-a461-3eade75081f0",
   "metadata": {},
   "outputs": [],
   "source": [
    "df.shape"
   ]
  },
  {
   "cell_type": "markdown",
   "id": "7213b83d-7ab9-433a-b561-1238af869976",
   "metadata": {},
   "source": [
    "### **b. Remove Null values**"
   ]
  },
  {
   "cell_type": "code",
   "execution_count": null,
   "id": "9724bf5d-2386-4931-b98f-e64cd6e0f074",
   "metadata": {},
   "outputs": [],
   "source": [
    "df.isna().sum()"
   ]
  },
  {
   "cell_type": "code",
   "execution_count": null,
   "id": "02770e8d-c6fd-4280-b87b-6c131e195c7b",
   "metadata": {},
   "outputs": [],
   "source": [
    "(df == 'No genres available').sum()"
   ]
  },
  {
   "cell_type": "code",
   "execution_count": null,
   "id": "5fe1788e-b291-4d1b-9601-92ba44635dfc",
   "metadata": {},
   "outputs": [],
   "source": [
    "(df == 'Summary not available.').sum()"
   ]
  },
  {
   "cell_type": "code",
   "execution_count": null,
   "id": "c1584a8c-ac34-4d19-9278-887f6cc7151e",
   "metadata": {},
   "outputs": [],
   "source": [
    "(df == \"Description section not found.\").sum()"
   ]
  },
  {
   "cell_type": "code",
   "execution_count": null,
   "id": "6c3d536e-83a5-4b04-bd90-9d94630bb314",
   "metadata": {},
   "outputs": [],
   "source": [
    "(df == 'Error fetching summary').sum()"
   ]
  },
  {
   "cell_type": "code",
   "execution_count": null,
   "id": "4d9e6514-595e-4966-aecc-5f4cee524861",
   "metadata": {},
   "outputs": [],
   "source": [
    "(df == 'Error fetching genre').sum()"
   ]
  },
  {
   "cell_type": "code",
   "execution_count": null,
   "id": "a75851df-4b96-4fa6-9864-02775d0eed87",
   "metadata": {},
   "outputs": [],
   "source": [
    "df.drop(df[df['Genres'] == 'No genres available'].index, inplace = True)"
   ]
  },
  {
   "cell_type": "code",
   "execution_count": null,
   "id": "3ee69654-242b-4b91-97f0-5d4c2d7e3c20",
   "metadata": {},
   "outputs": [],
   "source": [
    "df.drop(df[df['Summary'] == 'Description section not found.'].index, inplace = True)"
   ]
  },
  {
   "cell_type": "code",
   "execution_count": null,
   "id": "e28a9276-1437-46a2-81c9-99eb8da4faf8",
   "metadata": {},
   "outputs": [],
   "source": [
    "df.drop(df[df['Summary'] == 'Error fetching summary'].index, inplace = True)"
   ]
  },
  {
   "cell_type": "code",
   "execution_count": null,
   "id": "503af130-4d3f-48f0-9308-007ff1cbcffb",
   "metadata": {},
   "outputs": [],
   "source": [
    "df.drop(df[df['Genres'] == 'Error fetching genre'].index, inplace = True)"
   ]
  },
  {
   "cell_type": "code",
   "execution_count": null,
   "id": "7bb20d21-8557-476f-8ff0-a9edd3c58b82",
   "metadata": {},
   "outputs": [],
   "source": [
    "df.dropna(inplace = True)"
   ]
  },
  {
   "cell_type": "code",
   "execution_count": null,
   "id": "9fada6e9-c5fd-4958-bfab-470407e8277b",
   "metadata": {},
   "outputs": [],
   "source": [
    "df.shape"
   ]
  },
  {
   "cell_type": "markdown",
   "id": "1b2f71d4-354e-45de-9812-ab93fad33f4a",
   "metadata": {},
   "source": [
    "### **c. Drop Duplicates**"
   ]
  },
  {
   "cell_type": "code",
   "execution_count": null,
   "id": "fd8b7fc3-5bae-4d84-9046-e2cc77db1a4a",
   "metadata": {},
   "outputs": [],
   "source": [
    "df.duplicated(['Summary']).value_counts()\n"
   ]
  },
  {
   "cell_type": "code",
   "execution_count": null,
   "id": "17bd6940-3a3e-4f93-a6c1-518847411248",
   "metadata": {},
   "outputs": [],
   "source": [
    "df[df.duplicated(subset = ['Summary'], keep = False)]"
   ]
  },
  {
   "cell_type": "code",
   "execution_count": null,
   "id": "b0b09567-3518-416a-96ea-4f3a89a85068",
   "metadata": {},
   "outputs": [],
   "source": [
    "df.drop_duplicates(inplace = True)"
   ]
  },
  {
   "cell_type": "markdown",
   "id": "778f222d-6730-41db-b70e-649621f3a863",
   "metadata": {},
   "source": [
    "### **d. Remove Summaries in languages other than English**"
   ]
  },
  {
   "cell_type": "code",
   "execution_count": null,
   "id": "65917c4c-f90b-4676-9d32-3f8b0bde3463",
   "metadata": {},
   "outputs": [],
   "source": [
    "df.loc[5287,'Summary']"
   ]
  },
  {
   "cell_type": "code",
   "execution_count": null,
   "id": "c84fc1c6-76f7-4715-8b6b-89ed7fa9623b",
   "metadata": {},
   "outputs": [],
   "source": [
    "DetectorFactory.seed = 0\n",
    "\n",
    "def detect_language(text):\n",
    "    try:\n",
    "        return detect(text)\n",
    "    except:\n",
    "        return 'unknown'"
   ]
  },
  {
   "cell_type": "code",
   "execution_count": null,
   "id": "8db86a68-262a-4ab7-be98-b03ad745a81b",
   "metadata": {},
   "outputs": [],
   "source": [
    "df['Language'] = df['Summary'].apply(detect_language)"
   ]
  },
  {
   "cell_type": "code",
   "execution_count": null,
   "id": "aac3eca5-6505-4a1d-a537-5205e282f6cc",
   "metadata": {
    "scrolled": true
   },
   "outputs": [],
   "source": [
    "df.head()"
   ]
  },
  {
   "cell_type": "code",
   "execution_count": null,
   "id": "dfea7f3a-061f-4de0-a205-cc46f0779eed",
   "metadata": {
    "scrolled": true
   },
   "outputs": [],
   "source": [
    "df['Language'].value_counts()"
   ]
  },
  {
   "cell_type": "code",
   "execution_count": null,
   "id": "cc0c83df-0c5d-4138-af64-15775e2b9127",
   "metadata": {
    "scrolled": true
   },
   "outputs": [],
   "source": [
    "df[df['Language'] != 'en']"
   ]
  },
  {
   "cell_type": "code",
   "execution_count": null,
   "id": "30b5e46e-8ffd-4234-a40b-523573d39849",
   "metadata": {},
   "outputs": [],
   "source": [
    "df.drop(df[df['Language'] != 'en'].index, inplace = True)"
   ]
  },
  {
   "cell_type": "code",
   "execution_count": null,
   "id": "34196d3d-fcf9-4f99-94f7-5e7e7095c60c",
   "metadata": {},
   "outputs": [],
   "source": [
    "df.drop('Language',axis = 1, inplace = True)"
   ]
  },
  {
   "cell_type": "code",
   "execution_count": null,
   "id": "03f7ae60-6552-4922-902d-d67ca2351954",
   "metadata": {},
   "outputs": [],
   "source": [
    "df.head(2)"
   ]
  },
  {
   "cell_type": "markdown",
   "id": "87bf77db-7427-44cc-a319-a1ccad7dc5d2",
   "metadata": {},
   "source": [
    "## **2. Reducing Number of genres**"
   ]
  },
  {
   "cell_type": "markdown",
   "id": "1f34979f-4305-4ffa-961a-1918fa08bba4",
   "metadata": {},
   "source": [
    "### **a. Reduce Genres from 7 to 1**"
   ]
  },
  {
   "cell_type": "code",
   "execution_count": null,
   "id": "91b9300f-d0d2-4e24-bdf2-ed30cb0451db",
   "metadata": {},
   "outputs": [],
   "source": [
    "a = \"Food, Mystery, Thriller, Amazon\"\n",
    "b = a.split(', ')\n",
    "print(b)\n",
    "c = b[:3]\n",
    "print(c)\n",
    "d = (',').join(c)\n",
    "print(d)"
   ]
  },
  {
   "cell_type": "markdown",
   "id": "cc91ddd3-890c-466e-8df1-724548775a9f",
   "metadata": {},
   "source": [
    "- Each book has a different number of genres.\n",
    "- The maximum number of genre is 7.\n",
    "- We will reduce the max number of genres to 1 to reduce noise in our model."
   ]
  },
  {
   "cell_type": "code",
   "execution_count": null,
   "id": "6e3cd88c-badc-497e-893d-8e07c7b693db",
   "metadata": {},
   "outputs": [],
   "source": [
    "def limit_genre(genres):\n",
    "    genres = genres.split(', ')\n",
    "    if len(genres) > 1:\n",
    "        genres = genres[:1]\n",
    "    return ', '.join(genres)\n",
    "        \n",
    "df['Genres'] = df['Genres'].apply(limit_genre)"
   ]
  },
  {
   "cell_type": "code",
   "execution_count": null,
   "id": "14761b37-ef2b-492d-97f5-6b9cd31fde32",
   "metadata": {},
   "outputs": [],
   "source": [
    "df.head()"
   ]
  },
  {
   "cell_type": "markdown",
   "id": "1067a494-b5df-48b9-915c-6b1946488193",
   "metadata": {},
   "source": [
    "### **b. Remove Unnecessary genres**"
   ]
  },
  {
   "cell_type": "code",
   "execution_count": null,
   "id": "6b766dce-3200-440d-be87-5be5915f0163",
   "metadata": {},
   "outputs": [],
   "source": [
    "genre_counts = df['Genres'].value_counts() \n",
    "greater_than_10 = genre_counts[genre_counts > 10]\n",
    "print(greater_than_10)"
   ]
  },
  {
   "cell_type": "code",
   "execution_count": null,
   "id": "423d7723-75d9-4ede-ac68-30e749eb0614",
   "metadata": {
    "scrolled": true
   },
   "outputs": [],
   "source": [
    "genre_counts.index.to_list()"
   ]
  },
  {
   "cell_type": "code",
   "execution_count": null,
   "id": "73749761-d395-44a4-97f4-3c01c2fdbd9f",
   "metadata": {},
   "outputs": [],
   "source": [
    "# # We'll drop the following genres since they are not included in genres or are too specific\n",
    "# genres_to_remove = [\n",
    "#     \"Africa\", \"Amazon\", \"Audiobook\", \"Book Club\", \"Canada\", \"China\", \"France\", \"Japan\", \"Native American\", \"Food\", \"Health\", \"Fitness\", \n",
    "#     \"Westerns\", \"Lds Fiction\", \"Reference\",\"Education\", \"Writing\",\"How To\",\"Hockey\",\"Sports\",\"Christmas\",\"Parenting\",\"Relationships\",\"Animals\",\"Dogs\",\"Horses\",\"Wolves\"\n",
    "# ]"
   ]
  },
  {
   "cell_type": "code",
   "execution_count": null,
   "id": "7783f5f3-40e7-4eb5-bf25-b4bd31475598",
   "metadata": {},
   "outputs": [],
   "source": [
    "# We'll drop the following genres since they are not included in genres or are too specific\n",
    "genres_to_remove = [\n",
    "    \"Africa\", \"Amazon\", \"Audiobook\", \"Book Club\", \"Canada\", \"China\", \"France\", \"Japan\", \"Native American\", \"Food\", \"Health\", \"Fitness\", \n",
    "    \"Westerns\", \"Lds Fiction\", \"Reference\",\"Education\", \"Writing\",\"How To\",\"Hockey\",\"Sports\",\"Christmas\",\"Animals\",\"Dogs\",\"Horses\",\"Wolves\",\n",
    "    \"Comics\", \"Graphic Novels\", \"Manga\", \"LGBT\", \"Lesbian\", \"M M Romance\", \"Humor\",\"Anthropology\", \"Travel\",\"Modern\", \"Contemporary\", \"Chick Lit\",\n",
    "    \"Art\",\"Architecture\", \"Design\",\"Photography\",\"Music\"\n",
    "]"
   ]
  },
  {
   "cell_type": "code",
   "execution_count": null,
   "id": "75e90fba-136f-4804-b357-af6db1761e20",
   "metadata": {},
   "outputs": [],
   "source": [
    "df = df[~df['Genres'].isin(genres_to_remove)]"
   ]
  },
  {
   "cell_type": "code",
   "execution_count": null,
   "id": "eea84aaf-0e4b-47ee-885a-c0c863bde1e6",
   "metadata": {},
   "outputs": [],
   "source": [
    "#df[df['GroupedGenres'].isin([\"Classics and Historical\"])]['Summary']"
   ]
  },
  {
   "cell_type": "code",
   "execution_count": null,
   "id": "4807042e-1161-4760-8646-8e94df8088f3",
   "metadata": {},
   "outputs": [],
   "source": [
    "df.reset_index(drop = True, inplace = True)"
   ]
  },
  {
   "cell_type": "code",
   "execution_count": null,
   "id": "88df7ecf-b11b-487a-a448-7cda64220a2d",
   "metadata": {},
   "outputs": [],
   "source": [
    "df.shape"
   ]
  },
  {
   "cell_type": "code",
   "execution_count": null,
   "id": "f35180f9-8629-4717-bc25-891dac762f9d",
   "metadata": {},
   "outputs": [],
   "source": [
    "df.head()"
   ]
  },
  {
   "cell_type": "markdown",
   "id": "c151cef8-776c-4b94-8769-729236683ab0",
   "metadata": {},
   "source": [
    "### **c. Combine similar genres**"
   ]
  },
  {
   "cell_type": "code",
   "execution_count": null,
   "id": "58369f2e-3f23-4cd5-80ca-59a40492f310",
   "metadata": {},
   "outputs": [],
   "source": [
    "# We will create a dictionary to define mappings for grouped genres.\n",
    "\n",
    "genre_mapping = {\n",
    "    \n",
    "    # 1. Fantasy\n",
    "    \"Beauty and The Beast\": \"Fantasy\", \"Superheroes\" : \"Fantasy\", \"Mythology\":\"Fantasy\",\n",
    "    \"Adventure\": \"Fantasy\", \"Epic\": \"Fantasy\", \"Epic Fantasy\": \"Fantasy\", \"Pirates\": \"Fantasy\",\n",
    "\n",
    "    # 2. Animals and Nature\n",
    "    # \"Animals\": \"Animals and Nature\", \"Dogs\": \"Animals and Nature\", \"Horses\": \"Animals and Nature\",\n",
    "    # \"Wolves\": \"Animals and Nature\", \n",
    "\n",
    "    # 3. Arts, Design, and Creativity\n",
    "    # \"Art\": \"Arts, Design, and Creativity\", \"Architecture\": \"Arts, Design, and Creativity\", \"Design\": \"Arts, Design, and Creativity\",\n",
    "    # \"Photography\": \"Arts, Design, and Creativity\", \"Music\": \"Arts, Design, and Creativity\",\n",
    "\n",
    "    # 4. Biographies and Memoirs\n",
    "    \"Biography\": \"Biographies and Memoirs\", \"Autobiography\": \"Biographies and Memoirs\", \"Memoir\": \"Biographies and Memoirs\",\n",
    "    \"True Story\": \"Biographies and Memoirs\",\n",
    "\n",
    "    # 5. Business and Productivity\n",
    "    #\"Business\": \"Business and Productivity\", \n",
    "    \"Economics\": \"Business\", \"Finance\": \"Business\",\n",
    "     #\"Productivity\": \"Business and Productivity\",\n",
    "\n",
    "    # 6. Youth Literature (Children and Young Adult)\n",
    "    \"Childrens\": \"Youth Literature (Children and Young Adult)\", \"Middle Grade\": \"Youth Literature (Children and Young Adult)\", \n",
    "    \"Picture Books\": \"Youth Literature (Children and Young Adult)\", \"Teen\": \"Youth Literature (Children and Young Adult)\", \n",
    "    \"Picture Books\":\"Youth Literature (Children and Young Adult)\", \"Young Adult Romance\": \"Youth Literature (Children and Young Adult)\", \n",
    "    \"New Adult\": \"Youth Literature (Children and Young Adult)\",  \"Coming Of Age\": \"Youth Literature (Children and Young Adult)\",\n",
    "    \"Young Adult\": \"Youth Literature (Children and Young Adult)\",\n",
    "\n",
    "    # 8. Classics and Historical\n",
    "    \"History\":\"Classics and Historical\",\"Classics\": \"Classics and Historical\", \"Historical\": \"Classics and Historical\", \n",
    "    \"Historical Fiction\": \"Classics and Historical\", \"Historical Romance\": \"Classics and Historical\", \n",
    "    \"19th Century\": \"Classics and Historical\", \"Holocaust\": \"Classics and Historical\",\n",
    "    \"War\": \"Classics and Historical\", \"Military Fiction\": \"Classics and Historical\",\n",
    "\n",
    "    # 9. Crime and Crime fiction\n",
    "    \"Crime\": \"Crime and Crime Fiction\", \"True Crime\": \"Crime and Crime Fiction\", \"Noir\": \"Crime and Crime Fiction\",\n",
    "\n",
    "    # 10. Suspense and Thriller\n",
    "    \"Thriller\": \"Suspense and Thriller\", \"Mystery Thriller\": \"Suspense and Thriller\",  \n",
    "    \"Suspense\": \"Suspense and Thriller\", \"Legal Thriller\":\"Suspense and Thriller\", \"Spy Thriller\":\"Suspense and Thriller\",\n",
    "    \"Romantic Suspense\":\"Suspense and Thriller\", \"Survival\": \"Suspense and Thriller\",\n",
    "\n",
    "    # 11. Horror and Paranormal\n",
    "    \"Dark\": \"Horror and Paranormal\", \"Horror\": \"Horror and Paranormal\", \"Occult\": \"Horror and Paranormal\", \"Witches\": \"Horror and Paranormal\",\n",
    "    \"Zombies\": \"Horror and Paranormal\", \"Vampires\": \"Horror and Paranormal\",\n",
    "    \"Paranormal\": \"Horror and Paranormal\", \"Paranormal Romance\": \"Horror and Paranormal\",\n",
    "\n",
    "    # 12. Science Fiction\n",
    "    \"Science Fiction Fantasy\": \"Science Fiction\", \"Post-Apocalyptic\": \"Science Fiction\", \"Steampunk\": \"Science Fiction\",\n",
    "    \"Time Travel\": \"Science Fiction\", \"Dystopia\": \"Science Fiction\", \"Star Wars\": \"Science Fiction\",\n",
    "\n",
    "    # 13. Family and Relationships\n",
    "    \"Parenting\": \"Family and Relationships\", \"Relationships\": \"Family and Relationships\",\n",
    "\n",
    "    # 14. Fantasy\n",
    "    \"Magical Realism\": \"Fantasy\", \"Urban Fantasy\": \"Fantasy\", \n",
    "    \n",
    "\n",
    "    # 16. Food and Lifestyle\n",
    "    # \"Food\": \"Food and Lifestyle\", \"Health\": \"Food and Lifestyle\", \"Fitness\": \"Food and Lifestyle\", \n",
    "\n",
    "    # 17. Mental health and wellness\n",
    "    #\"Mental Health\": \"Mental Health and Wellness\", \"Mental Illness\": \"Mental Health and Wellness\", \"Psychology\": \"Mental Health and Wellness\",\n",
    "    \"Mental Health\": \"Psychology\", \"Mental Illness\": \"Psychology\", \n",
    "\n",
    "\n",
    "    # 18. Graphic Novels & Comics\n",
    "    #\"Comics\": \"Graphic Novels & Comics\", \"Graphic Novels\": \"Graphic Novels & Comics\", \"Manga\": \"Graphic Novels & Comics\",\n",
    "\n",
    "    # 19. Inspirational and Self-Help\n",
    "    \"Self Help\": \"Inspirational and Self-Help\", \"Inspirational\": \"Inspirational and Self-Help\", \"Personal Development\": \"Inspirational and Self-Help\",\n",
    "\n",
    "    # 20. LGBTQ+ Themes\n",
    "    #\"LGBT\": \"LGBTQ+ Themes\", \"Lesbian\": \"LGBTQ+ Themes\", \"M M Romance\": \"LGBTQ+ Themes\", \n",
    "\n",
    "    # 21. Religion and Spirituality\n",
    "    \"Christian\": \"Religion and Spirituality\", \"Christian Fiction\": \"Religion and Spirituality\", \"Christian Living\": \"Religion and Spirituality\", \n",
    "    \"Buddhism\": \"Religion and Spirituality\", \"Islam\": \"Religion and Spirituality\", \n",
    "    \"Prayer\": \"Religion and Spirituality\", \"Spirituality\": \"Religion and Spirituality\", \n",
    "    \"Theology\": \"Religion and Spirituality\", \"Religion\": \"Religion and Spirituality\",  \"Paganism\": \"Religion and Spirituality\",\n",
    "\n",
    "    # 22. Science and Technology\n",
    "    \"Science\": \"Science and Technology\", \"Computer Science\": \"Science and Technology\", \"Artificial Intelligence\": \"Science and Technology\",\n",
    "\n",
    "    # 23. Social and Political\n",
    "    \"Politics\": \"Social and Political\", \"Feminism\": \"Social and Political\", \"Philosophy\": \"Social and Political\", \n",
    "    \"Leadership\": \"Social and Political\",\n",
    "\n",
    "    # 24. Non fiction\n",
    "    # \"Anthropology\": \"Nonfiction\", \"Travel\":\"Nonfiction\",\n",
    "\n",
    "    # 25. Romance\n",
    "    \"Erotica\": \"Romance\", \"Sports Romance\":\"Romance\", \"Love\":\"Romance\", \"Reverse Harem\": \"Romance\", \"Contemporary Romance\": \"Romance\",\n",
    "\n",
    "    # 26. Contemporary\n",
    "    # \"Modern\": \"Contemporary\", \"Chick Lit\": \"Contemporary\",\n",
    "\n",
    "    # 27. Fiction\n",
    "    \"Realistic Fiction\": \"Fiction\",\n",
    "\n",
    "    # 28. Literary Fiction\n",
    "    \"Drama\": \"Literary Fiction\", \"Novels\": \"Literary Fiction\",\"Plays\": \"Literary Fiction\", \"Short Stories\": \"Literary Fiction\", \"Poetry\": \"Literary Fiction\"\n",
    "    \n",
    "}"
   ]
  },
  {
   "cell_type": "code",
   "execution_count": null,
   "id": "a3d06276-8429-4313-bf67-c8befb15b246",
   "metadata": {},
   "outputs": [],
   "source": [
    "# Apply the mappings\n",
    "df['GroupedGenres'] = df['Genres'].replace(genre_mapping)"
   ]
  },
  {
   "cell_type": "code",
   "execution_count": null,
   "id": "78d0c722-930f-4d6e-be76-d9b4bd13dbff",
   "metadata": {},
   "outputs": [],
   "source": [
    "df.head()"
   ]
  },
  {
   "cell_type": "code",
   "execution_count": null,
   "id": "c271e82d-067f-4dc5-9f83-5190cb44f394",
   "metadata": {
    "scrolled": true
   },
   "outputs": [],
   "source": [
    "df['GroupedGenres'].value_counts()"
   ]
  },
  {
   "cell_type": "code",
   "execution_count": null,
   "id": "c86d4dfb-3ea6-447a-b73d-54b3a62b9d2d",
   "metadata": {},
   "outputs": [],
   "source": [
    "# Drop the genres column\n",
    "df.drop(columns = ['Genres'], inplace = True)"
   ]
  },
  {
   "cell_type": "code",
   "execution_count": null,
   "id": "6dfd0b91-7ee8-423f-866d-e512bcb04fb4",
   "metadata": {},
   "outputs": [],
   "source": [
    "df.dtypes"
   ]
  },
  {
   "cell_type": "code",
   "execution_count": null,
   "id": "ebb9d938-b87e-4fd7-a0c8-e4c64c27596f",
   "metadata": {},
   "outputs": [],
   "source": [
    "df.iloc[296]"
   ]
  },
  {
   "cell_type": "code",
   "execution_count": null,
   "id": "c518f1d7-b627-42ae-b03c-eeb5990f504d",
   "metadata": {},
   "outputs": [],
   "source": [
    "df.iloc[32]"
   ]
  },
  {
   "cell_type": "code",
   "execution_count": null,
   "id": "4c8262c1-85c4-48a2-bf97-305f50c65909",
   "metadata": {},
   "outputs": [],
   "source": [
    "#Change to horror and dark\n",
    "df.iloc[6788]"
   ]
  },
  {
   "cell_type": "code",
   "execution_count": null,
   "id": "c608c8e7-bced-48df-a1d2-5d9dcbe60fc4",
   "metadata": {},
   "outputs": [],
   "source": [
    "df.iloc[6763]"
   ]
  },
  {
   "cell_type": "code",
   "execution_count": null,
   "id": "87683bb1-1316-4ed8-acc4-55bf0ce300e0",
   "metadata": {},
   "outputs": [],
   "source": [
    "df.drop(index = [296,32,6788,6763], inplace = True)"
   ]
  },
  {
   "cell_type": "code",
   "execution_count": null,
   "id": "7b0ca083-9207-43cf-a36d-f8557e955849",
   "metadata": {},
   "outputs": [],
   "source": [
    "df.reset_index(drop = True, inplace = True)"
   ]
  },
  {
   "cell_type": "code",
   "execution_count": null,
   "id": "68c4a877-b1ea-42eb-b5a6-937c6766fc44",
   "metadata": {},
   "outputs": [],
   "source": [
    "#df.to_csv(\"C:/Users/HP/Downloads/UnbalancedBooksSummaries.csv\")"
   ]
  },
  {
   "cell_type": "code",
   "execution_count": null,
   "id": "5a05e6bd-06a4-473f-a416-58ac82aa8e09",
   "metadata": {},
   "outputs": [],
   "source": [
    "# label_encoder = LabelEncoder()\n",
    "\n",
    "# df['Genre_Encoded'] = label_encoder.fit_transform(df['GroupedGenres'])"
   ]
  },
  {
   "cell_type": "code",
   "execution_count": null,
   "id": "c87f36c5-a7ac-47ac-8cd3-9f39801e6155",
   "metadata": {},
   "outputs": [],
   "source": [
    "# label_encoder.classes_"
   ]
  },
  {
   "cell_type": "markdown",
   "id": "49298b47-f71e-4db0-9021-5899f0f2eb5e",
   "metadata": {},
   "source": [
    "## **4. Exploratory Data Analysis**"
   ]
  },
  {
   "cell_type": "code",
   "execution_count": null,
   "id": "90463b34-53cc-4ad3-8765-c206d7c781e0",
   "metadata": {},
   "outputs": [],
   "source": [
    "genre_counts = df[\"GroupedGenres\"].value_counts()"
   ]
  },
  {
   "cell_type": "code",
   "execution_count": null,
   "id": "dce362fa-2d9a-4c7a-852e-28dd82529f9b",
   "metadata": {},
   "outputs": [],
   "source": [
    "plt.figure(figsize = (10,10))\n",
    "sns.barplot(x = genre_counts.values, y = genre_counts.index, palette = \"viridis\")\n",
    "plt.xlabel(\"Frequency\", fontsize = 13)\n",
    "plt.ylabel(\"Genre\",  fontsize = 13)\n",
    "plt.title(\"Genre Frequency Distribution\", pad = 20, fontsize = 16)\n",
    "\n",
    "for index, value in enumerate(genre_counts.values):\n",
    "    plt.text(value, index, str(value), va = 'center')\n",
    "    \n",
    "plt.show()"
   ]
  },
  {
   "cell_type": "markdown",
   "id": "07b5e212-80e0-404f-80d5-c04b55669688",
   "metadata": {},
   "source": [
    "## **Merging Goodreads Dataset with 4 Minute Summary Dataset**"
   ]
  },
  {
   "cell_type": "code",
   "execution_count": null,
   "id": "4289f15c-8f08-4744-a8c7-87ff637b6e5d",
   "metadata": {},
   "outputs": [],
   "source": [
    "df1 = pd.read_csv(\"C:/Users/HP/Downloads/FourMinuteBooksSummaries.csv\")"
   ]
  },
  {
   "cell_type": "code",
   "execution_count": null,
   "id": "d92006cf-fa6a-4a9d-96e8-e5a971d399d0",
   "metadata": {},
   "outputs": [],
   "source": [
    "df1.head()"
   ]
  },
  {
   "cell_type": "code",
   "execution_count": null,
   "id": "4604e9d9-b475-41ae-a2ec-c6b72939750f",
   "metadata": {},
   "outputs": [],
   "source": [
    "df1.drop('Unnamed: 0', inplace = True, axis = 1)"
   ]
  },
  {
   "cell_type": "code",
   "execution_count": null,
   "id": "9fce1782-51b4-41d5-8dad-b1f1fcd5bcb1",
   "metadata": {},
   "outputs": [],
   "source": [
    "df1.shape"
   ]
  },
  {
   "cell_type": "code",
   "execution_count": null,
   "id": "48bb55bb-2de9-41fb-9d41-059c1cfeac50",
   "metadata": {},
   "outputs": [],
   "source": [
    "df = pd.concat([df, df1])"
   ]
  },
  {
   "cell_type": "code",
   "execution_count": null,
   "id": "192025b9-1c20-419a-b90d-5cdda830a244",
   "metadata": {},
   "outputs": [],
   "source": [
    "df.shape"
   ]
  },
  {
   "cell_type": "code",
   "execution_count": null,
   "id": "d29d4e58-bb47-415d-b014-236c99589dd9",
   "metadata": {},
   "outputs": [],
   "source": [
    "df['GroupedGenres'].value_counts()"
   ]
  },
  {
   "cell_type": "code",
   "execution_count": null,
   "id": "394f476f-8d6f-4fc3-8221-d0d495242ddc",
   "metadata": {},
   "outputs": [],
   "source": [
    "genres_to_remove = ['Religion and Spirituality','Social and Political','Crime and Crime Fiction']\n"
   ]
  },
  {
   "cell_type": "code",
   "execution_count": null,
   "id": "1652c346-71db-4a34-bac7-4017832d717b",
   "metadata": {},
   "outputs": [],
   "source": [
    "df = df[~df['GroupedGenres'].isin(genres_to_remove)]\n",
    "df.reset_index(drop = True, inplace = True)"
   ]
  },
  {
   "cell_type": "code",
   "execution_count": null,
   "id": "05cf4576-e386-41cc-8570-014b18db8aa0",
   "metadata": {},
   "outputs": [],
   "source": [
    "genre_counts = df[\"GroupedGenres\"].value_counts()\n",
    "\n",
    "plt.figure(figsize = (10,10))\n",
    "sns.barplot(x = genre_counts.values, y = genre_counts.index, palette = \"viridis\")\n",
    "plt.xlabel(\"Frequency\", fontsize = 13)\n",
    "plt.ylabel(\"Genre\",  fontsize = 13)\n",
    "plt.title(\"Genre Frequency Distribution\", pad = 20, fontsize = 16)\n",
    "\n",
    "for index, value in enumerate(genre_counts.values):\n",
    "    plt.text(value, index, str(value), va = 'center')\n",
    "    \n",
    "plt.show()"
   ]
  },
  {
   "cell_type": "markdown",
   "id": "2ed613fc-94aa-4406-bcb3-d61995f6774b",
   "metadata": {},
   "source": [
    "## **5. Writing Custom Transformers**"
   ]
  },
  {
   "cell_type": "markdown",
   "id": "1985d277-ac1f-4c82-8e32-345ecc05d4ab",
   "metadata": {},
   "source": [
    "### **a. Clean Summary Text**"
   ]
  },
  {
   "cell_type": "code",
   "execution_count": null,
   "id": "4b2a22dc-4ce6-4ad8-b519-0b9b218d8752",
   "metadata": {},
   "outputs": [],
   "source": [
    "# nltk.download('stopwords')"
   ]
  },
  {
   "cell_type": "code",
   "execution_count": null,
   "id": "1c5bc010-9043-47d5-ab15-304bca6f468c",
   "metadata": {},
   "outputs": [],
   "source": [
    "#stop_words = set(stopwords.words('english'))"
   ]
  },
  {
   "cell_type": "code",
   "execution_count": null,
   "id": "c698d64f-6b50-408a-b47d-bbf1acc3c3fd",
   "metadata": {},
   "outputs": [],
   "source": [
    "# class TextPreprocessor(BaseEstimator, TransformerMixin):\n",
    "#     def __init__(self):\n",
    "#         self.stopwords = {'a', 'about', 'above', 'after', 'again', 'against', 'ain', 'all', 'am', 'an', 'and', 'any', 'are',  'aren', \"aren't\", 'as', 'at', \n",
    "#                      'be', 'because', 'been', 'before', 'being', 'below', 'between', 'both','but', 'by', 'can', 'couldn', \"couldn't\", 'd', 'did', 'didn', \n",
    "#                      \"didn't\", 'do', 'does', 'doesn', \"doesn't\", 'doing', 'don', \"don't\", 'down', 'during', 'each', 'few', 'for', 'from', 'further', 'had', \n",
    "#                      'hadn', \"hadn't\",'has', 'hasn', \"hasn't\", 'have', 'haven', \"haven't\", 'having', 'he', 'her', 'here', 'hers', 'herself', 'him', 'himself', \n",
    "#                      'his', 'how', 'i', 'if', 'in', 'into', 'is', 'isn', \"isn't\", 'it', \"it's\", 'its', 'itself', 'just', 'll', 'm', 'ma', 'me', 'mightn', \"mightn't\",\n",
    "#                      'more', 'most', 'mustn', \"mustn't\", 'my', 'myself', 'needn', \"needn't\", 'no', 'nor', 'not', 'now', 'o', 'of', 'off', 'on', 'once', 'only', 'or',\n",
    "#                      'other', 'our', 'ours', 'ourselves', 'out','over', 'own', 're', 's', 'same', 'shan', \"shan't\", 'she', \"she's\", 'should', \"should've\", 'shouldn', \n",
    "#                      \"shouldn't\",'so', 'some', 'such', 't', 'than', 'that', \"that'll\", 'the', 'their', 'theirs', 'them', 'themselves', 'then', 'there', 'these', 'they',\n",
    "#                      'this', 'those', 'through', 'to', 'too', 'under', 'until', 'up', 've', 'very', 'was', 'wasn', \"wasn't\",'we', 'were', 'weren', \"weren't\", 'what', 'when',\n",
    "#                      'where', 'which', 'while', 'who', 'whom', 'why', 'will', 'with', 'won', \"won't\", 'wouldn', \"wouldn't\", 'y', 'you', \"you'd\", \"you'll\", \"you're\", \"you've\", \n",
    "#                      'your', 'yours', 'yourself', 'yourselves'}        \n",
    "\n",
    "#     def clean_summary(self, summary):\n",
    "#         stopwords = {'a', 'about', 'above', 'after', 'again', 'against', 'ain', 'all', 'am', 'an', 'and', 'any', 'are',  'aren', \"aren't\", 'as', 'at', \n",
    "#                      'be', 'because', 'been', 'before', 'being', 'below', 'between', 'both','but', 'by', 'can', 'couldn', \"couldn't\", 'd', 'did', 'didn', \n",
    "#                      \"didn't\", 'do', 'does', 'doesn', \"doesn't\", 'doing', 'don', \"don't\", 'down', 'during', 'each', 'few', 'for', 'from', 'further', 'had', \n",
    "#                      'hadn', \"hadn't\",'has', 'hasn', \"hasn't\", 'have', 'haven', \"haven't\", 'having', 'he', 'her', 'here', 'hers', 'herself', 'him', 'himself', \n",
    "#                      'his', 'how', 'i', 'if', 'in', 'into', 'is', 'isn', \"isn't\", 'it', \"it's\", 'its', 'itself', 'just', 'll', 'm', 'ma', 'me', 'mightn', \"mightn't\",\n",
    "#                      'more', 'most', 'mustn', \"mustn't\", 'my', 'myself', 'needn', \"needn't\", 'no', 'nor', 'not', 'now', 'o', 'of', 'off', 'on', 'once', 'only', 'or',\n",
    "#                      'other', 'our', 'ours', 'ourselves', 'out','over', 'own', 're', 's', 'same', 'shan', \"shan't\", 'she', \"she's\", 'should', \"should've\", 'shouldn', \n",
    "#                      \"shouldn't\",'so', 'some', 'such', 't', 'than', 'that', \"that'll\", 'the', 'their', 'theirs', 'them', 'themselves', 'then', 'there', 'these', 'they',\n",
    "#                      'this', 'those', 'through', 'to', 'too', 'under', 'until', 'up', 've', 'very', 'was', 'wasn', \"wasn't\",'we', 'were', 'weren', \"weren't\", 'what', 'when',\n",
    "#                      'where', 'which', 'while', 'who', 'whom', 'why', 'will', 'with', 'won', \"won't\", 'wouldn', \"wouldn't\", 'y', 'you', \"you'd\", \"you'll\", \"you're\", \"you've\", \n",
    "#                      'your', 'yours', 'yourself', 'yourselves'}     \n",
    "        \n",
    "#         summary = re.sub(\n",
    "#             r'(\\bNew York Times Bestseller|Winner of the Pulitzer Prize|ANDNEW YORK TIMESBESTSELLERIn|ISBN|ASIN\\b'\n",
    "#             r'|Librarian note|Alternate cover edition.*?|(This|There) is an alternate Cover Edition.*?|forASIN:\\s*\\S+|'\n",
    "#             r'\\b\\w*(ASIN|ISBN)\\w*\\b'\n",
    "#             r'ASIN:\\s*\\S+|ISBN[:\\d]+)',\n",
    "#             '',\n",
    "#             summary,\n",
    "#             flags=re.IGNORECASE\n",
    "#         ).strip()\n",
    "\n",
    "#         # Remove characters like M.D. or m.d.\n",
    "#         summary = re.sub(r'[A-Za-z]\\.[A-Za-z]\\.', '', summary)\n",
    "    \n",
    "#         # Remove characters like M. or m.\n",
    "#         summary = re.sub(r'\\b[A-Za-z]\\.(?=\\s|$)','',summary)\n",
    "    \n",
    "#         # Remove html tags\n",
    "#         summary = BeautifulSoup(summary, 'html.parser').get_text()\n",
    "    \n",
    "#         # Remove special characters and punctuation(i.e. ?, @, ',' etc) (\\. leaves full stop,\\w leaves word characters like _,a,z , \\s leaves white space)\n",
    "#         summary = re.sub(r'[^\\w\\s\\.]', ' ', summary)\n",
    "\n",
    "#         # Remove underscores\n",
    "#         summary = re.sub(r'\\_+',' ', summary)\n",
    "\n",
    "#         # Remove numbers\n",
    "#         summary = re.sub(r'[0-9]','',summary)\n",
    "\n",
    "#         # Convert to lower case\n",
    "#         summary = summary.lower()\n",
    "\n",
    "#         # Replace ellipses with white space\n",
    "#         summary = re.sub(r'\\.\\.\\.*', ' ', summary)\n",
    "#         summary = re.sub(r'\\.\\s*\\.\\s*\\.+', ' ', summary)\n",
    "#         summary = re.sub(r'\\s*\\.\\s*\\.\\s*\\.',' ', summary)\n",
    "\n",
    "#         # Remove stop words\n",
    "#         summary = ' '.join([word for word in summary.split() if word not in self.stopwords])\n",
    "\n",
    "#         summary = re.sub(\n",
    "#             r'award winning author|world bestselling authors|new york timesbestselling author|new york timesbestselleryou|new york times bestselling|goodreads|phenomenal worldwide bestseller|alternate cover|newer edition foundhere|national book award|pulitzer prize',\n",
    "#             '',\n",
    "#             summary,\n",
    "#             flags = re.IGNORECASE\n",
    "#         ).strip()\n",
    "\n",
    "#         # Remove extra spaces and clean text\n",
    "#         # \\s checks for white space, + matches for preceding characters(i.e. one or more whitespace)\n",
    "#         summary = re.sub(r'\\s+', ' ', summary).strip()\n",
    "\n",
    "#         # Remove white space before full stop\n",
    "#         summary = re.sub(r'\\s+(?=\\.)', '', summary)\n",
    "\n",
    "#         # Ensure there is a single white space after each full stop.\n",
    "#         summary = re.sub(r'\\.(?=\\S)', '. ', summary)\n",
    "    \n",
    "#         return summary\n",
    "        \n",
    "#     def fit(self, X, y = None):\n",
    "#         return self\n",
    "        \n",
    "#     def transform(self, X):\n",
    "#         return [self.clean_summary(summary) for summary in X]\n"
   ]
  },
  {
   "cell_type": "markdown",
   "id": "54dd165e-eb0d-4a66-ba72-19a866da076a",
   "metadata": {},
   "source": [
    "### **b. Word2Vec Embeddings**"
   ]
  },
  {
   "cell_type": "code",
   "execution_count": null,
   "id": "a755f10e-5dd8-4c26-9c1b-376c4867f079",
   "metadata": {},
   "outputs": [],
   "source": [
    "# class Word2VecEmbeddings(BaseEstimator, TransformerMixin):\n",
    "#     def __init__(self, word2vec_model, vector_size = 300):\n",
    "#         self.word2vec_model = word2vec_model\n",
    "#         self.vector_size = vector_size\n",
    "\n",
    "#     def generate_embeddings(self, summary):\n",
    "#         words = word_tokenize(summary)\n",
    "#         word_vectors = [self.word2vec_model[word] for word in words if word in self.word2vec_model]\n",
    "#         if word_vectors:\n",
    "#             return np.mean(word_vectors, axis = 0)\n",
    "#         else:\n",
    "#             return np.zeros(self.vector_size)\n",
    "        \n",
    "#     def fit(self, X, y = None):\n",
    "#         return self\n",
    "        \n",
    "#     def transform(self, X):\n",
    "#         return np.array([self.generate_embeddings(summary) for summary in X])"
   ]
  },
  {
   "cell_type": "code",
   "execution_count": null,
   "id": "b01af6f8-d489-4d9a-99a9-30fc0cf72706",
   "metadata": {},
   "outputs": [],
   "source": [
    "# class TfidfEmbeddings(BaseEstimator, TransformerMixin):\n",
    "#     def __init__(self, max_features = 5000):\n",
    "#         self.max_features = max_features\n",
    "#         self.tfidfVectorizer = TfidfVectorizer(max_features = self.max_features)\n",
    "\n",
    "#     def fit(self, X, y = None):\n",
    "#         self.tfidfVectorizer.fit(X)\n",
    "#         return self\n",
    "        \n",
    "#     def transform(self, X):\n",
    "#         return self.tfidfVectorizer.transform(X).toarray()"
   ]
  },
  {
   "cell_type": "code",
   "execution_count": null,
   "id": "685806de-85b1-4366-9f2e-813e812b36f3",
   "metadata": {},
   "outputs": [],
   "source": []
  },
  {
   "cell_type": "code",
   "execution_count": null,
   "id": "d85e102b-80e5-4825-8a81-0e6893614e2c",
   "metadata": {},
   "outputs": [],
   "source": [
    "#a = '<title>The \\girl lived, very $far away.. in a *jungle.</title>'\n",
    "#a = 'Alternate cover of ISBN 9781627792127Ketterdam: a bustling hub of international trade where anything can be had for the right price—and no one knows that better than criminal prodigy Kaz Brekker. Kaz is offered a chance at a deadly heist that could make him rich beyond his wildest dreams. But he can’t pull it off alone...A convict with a thirst for revengeA sharpshooter who can’t walk away from a wagerA runaway with a privileged pastA spy known as the WraithA Heartrender using her magic to survive the slumsA thief with a gift for unlikely escapesSix dangerous outcasts. One impossible heist. Kaz’s crew is the only thing that might stand between the world and destruction—if they don’t kill each other first.'\n",
    "#a = \"Librarian note:This is an alternate cover edition for MYTHS OF GODSISBN: 0615491898 (ISBN13: 9780615491899)Being God can be hell....Take a critical look at religion through an infant God's eyes in this dark and disturbing science fantasy allegory that spans from the Big Bang to present day.\""
   ]
  },
  {
   "cell_type": "code",
   "execution_count": null,
   "id": "3d02f3d8-f507-4fc6-93e5-249550993e5d",
   "metadata": {},
   "outputs": [],
   "source": [
    "# summary1 = \"WINNER OF THE PULITZER PRIZE ANDNEW YORK TIMESBESTSELLERIn the first volume of his monumental trilogy about the liberation of Europe in WW II, Pulitzer Prize winner Rick Atkinson tells the riveting story of the war in North AfricaThe liberation of Europe and the destruction of the Third Reich is a story of courage and enduring triumph, of calamity and miscalculation. In this first volume of the Liberation Trilogy, Rick Atkinson shows why no modern reader can understand the ultimate victory of the Allied powers without a grasp of the great drama that unfolded in North Africa in 1942 and 1943. That first year of the Allied war was a pivotal point in American history, the moment when the United States began to act like a great power.Beginning with the daring amphibious invasion in November 1942, An Army at Dawn follows the American and British armies as they fight the French in Morocco and Algeria, and then take on the Germans and Italians in Tunisia. Battle by battle, an inexperienced and sometimes poorly led army gradually becomes a superb fighting force. Central to the tale are the extraordinary but fallible commanders who come to dominate the battlefield: Eisenhower, Patton, Bradley, Montgomery, and Rommel.Brilliantly researched, rich with new material and vivid insights, Atkinson's narrative provides the definitive history of the war in North Africa.\"\n",
    "# summary2 = \"This is an alternate Cover Edition forASIN: B00K3NEE56.When the Creeds move into a beautiful old house in rural Maine, it all seems too good to be true: physician father, beautiful wife, charming little daughter, adorable infant son-and now an idyllic home.\"\n",
    "# summary3 = 'There is an alternate cover edition for this ISBN13here.The 5science of 22 five breaking up...Remy always knows when to give a guy \"the speech\" - right after the initial romantic rush, but before anything gets too serious. She\\'s had her fair share of boyfriends, and she\\'s learned all there is to learn from her mother, who\\'s currently working on husband number five. So why is it that\\'s Remy can\\'t seem to dump Dexter? It can\\'t be his name. It can\\'t be that he\\'s messy and disorganized. And it certainly isn\\'t that he\\'s a musician - just like Remy\\'s father, a man she never knew because he left before she was born. Could it be that Remy\\'s romantic rules to live by don\\'t apply anymore?'\n",
    "# summary4 = \"All things in their time . . .Candy Quackenbush's adventures in the Abarat are getting stranger by the hour. Why has the Lord of Midnight sent his henchman after her? Why can she suddenly speak words of magic? Why is this worldfamiliar?Candy and her companions must solve the mystery of her past before the forces of Night and Day clash and Absolute Midnight descends upon the islands.A final war is about to begin. . . .\""
   ]
  },
  {
   "cell_type": "code",
   "execution_count": null,
   "id": "a15c82ca-3f4d-4e39-b5f7-efc90ac8956f",
   "metadata": {},
   "outputs": [],
   "source": [
    "# clean_summary('Alternate cover edition.... of ... ASIN 123456789 . . .A. . . gripping <title> five 22tale of adventure and courage.')"
   ]
  },
  {
   "cell_type": "markdown",
   "id": "7bb70e92-f1a2-4298-95e9-b290a9c2495f",
   "metadata": {},
   "source": [
    "### **a. Tokenization**"
   ]
  },
  {
   "cell_type": "code",
   "execution_count": null,
   "id": "355cece9-a82a-4972-9f4a-4d65d65cd482",
   "metadata": {},
   "outputs": [],
   "source": [
    "# tokenized_sentence = word_tokenize(xyz)\n",
    "# tokenized_sentence"
   ]
  },
  {
   "cell_type": "markdown",
   "id": "38d8f1ed-d0a3-4aae-9959-2af217772b12",
   "metadata": {},
   "source": [
    "## **6. Creating Word Embeddings Using Word2Vec**"
   ]
  },
  {
   "cell_type": "code",
   "execution_count": null,
   "id": "edad23fd-0fc2-4044-bb0e-a25a909f5666",
   "metadata": {},
   "outputs": [],
   "source": [
    "#wv = KeyedVectors.load_word2vec_format(datapath(r\"C:/Users/HP/Downloads/GoogleNews-vectors-negative300.bin.gz\"), binary = True)"
   ]
  },
  {
   "cell_type": "code",
   "execution_count": null,
   "id": "03bd35c7-031f-4c1c-bec0-19ed7690927c",
   "metadata": {},
   "outputs": [],
   "source": [
    "#result = wv.most_similar(positive = ['king','woman'], negative = ['man'], topn = 5)"
   ]
  },
  {
   "cell_type": "code",
   "execution_count": null,
   "id": "eb100476-4669-4131-be77-9b1006efa1f6",
   "metadata": {},
   "outputs": [],
   "source": [
    "#wv['cat']"
   ]
  },
  {
   "cell_type": "code",
   "execution_count": null,
   "id": "bfa0fbea-4681-4fc2-b208-cea60b7e2c6c",
   "metadata": {},
   "outputs": [],
   "source": [
    "#summary_data = df.loc[:51, :]"
   ]
  },
  {
   "cell_type": "markdown",
   "id": "32bbd0c8-484d-4b6c-b54f-077118f2ee18",
   "metadata": {},
   "source": [
    "### **Train Test Split**"
   ]
  },
  {
   "cell_type": "code",
   "execution_count": null,
   "id": "f92da86f-9773-49f0-bb30-28cd674960e0",
   "metadata": {},
   "outputs": [],
   "source": [
    "def clean_summary(summary):\n",
    "    stopwords = {'a', 'about', 'above', 'after', 'again', 'against', 'ain', 'all', 'am', 'an', 'and', 'any', 'are',  'aren', \"aren't\", 'as', 'at', \n",
    "                     'be', 'because', 'been', 'before', 'being', 'below', 'between', 'both','but', 'by', 'can', 'couldn', \"couldn't\", 'd', 'did', 'didn', \n",
    "                     \"didn't\", 'do', 'does', 'doesn', \"doesn't\", 'doing', 'don', \"don't\", 'down', 'during', 'each', 'few', 'for', 'from', 'further', 'had', \n",
    "                     'hadn', \"hadn't\",'has', 'hasn', \"hasn't\", 'have', 'haven', \"haven't\", 'having', 'he', 'her', 'here', 'hers', 'herself', 'him', 'himself', \n",
    "                     'his', 'how', 'i', 'if', 'in', 'into', 'is', 'isn', \"isn't\", 'it', \"it's\", 'its', 'itself', 'just', 'll', 'm', 'ma', 'me', 'mightn', \"mightn't\",\n",
    "                     'more', 'most', 'mustn', \"mustn't\", 'my', 'myself', 'needn', \"needn't\", 'no', 'nor', 'not', 'now', 'o', 'of', 'off', 'on', 'once', 'only', 'or',\n",
    "                     'other', 'our', 'ours', 'ourselves', 'out','over', 'own', 're', 's', 'same', 'shan', \"shan't\", 'she', \"she's\", 'should', \"should've\", 'shouldn', \n",
    "                     \"shouldn't\",'so', 'some', 'such', 't', 'than', 'that', \"that'll\", 'the', 'their', 'theirs', 'them', 'themselves', 'then', 'there', 'these', 'they',\n",
    "                     'this', 'those', 'through', 'to', 'too', 'under', 'until', 'up', 've', 'very', 'was', 'wasn', \"wasn't\",'we', 'were', 'weren', \"weren't\", 'what', 'when',\n",
    "                     'where', 'which', 'while', 'who', 'whom', 'why', 'will', 'with', 'won', \"won't\", 'wouldn', \"wouldn't\", 'y', 'you', \"you'd\", \"you'll\", \"you're\", \"you've\", \n",
    "                     'your', 'yours', 'yourself', 'yourselves'}     \n",
    "        \n",
    "    summary = re.sub(\n",
    "        r'(\\bNew York Times Bestseller|Winner of the Pulitzer Prize|ANDNEW YORK TIMESBESTSELLERIn|ISBN|ASIN\\b'\n",
    "        r'|Librarian note|Alternate cover edition.*?|(This|There) is an alternate Cover Edition.*?|forASIN:\\s*\\S+|'\n",
    "        r'\\b\\w*(ASIN|ISBN)\\w*\\b'\n",
    "        r'ASIN:\\s*\\S+|ISBN[:\\d]+)',\n",
    "        '',\n",
    "        summary,\n",
    "        flags=re.IGNORECASE\n",
    "    ).strip()\n",
    "\n",
    "    # Remove characters like M.D. or m.d.\n",
    "    summary = re.sub(r'[A-Za-z]\\.[A-Za-z]\\.', '', summary)\n",
    "    \n",
    "    # Remove characters like M. or m.\n",
    "    summary = re.sub(r'\\b[A-Za-z]\\.(?=\\s|$)','',summary)\n",
    "    \n",
    "    # Remove html tags\n",
    "    summary = BeautifulSoup(summary, 'html.parser').get_text()\n",
    "    \n",
    "    # Remove special characters and punctuation(i.e. ?, @, ',' etc) (\\. leaves full stop,\\w leaves word characters like _,a,z , \\s leaves white space)\n",
    "    summary = re.sub(r'[^\\w\\s\\.]', ' ', summary)\n",
    "\n",
    "    # Remove underscores\n",
    "    summary = re.sub(r'\\_+',' ', summary)\n",
    "\n",
    "    # Remove numbers\n",
    "    summary = re.sub(r'[0-9]','',summary)\n",
    "\n",
    "    # Convert to lower case\n",
    "    summary = summary.lower()\n",
    "\n",
    "    # Replace ellipses with white space\n",
    "    summary = re.sub(r'\\.\\.\\.*', ' ', summary)\n",
    "    summary = re.sub(r'\\.\\s*\\.\\s*\\.+', ' ', summary)\n",
    "    summary = re.sub(r'\\s*\\.\\s*\\.\\s*\\.',' ', summary)\n",
    "\n",
    "    # Remove stop words\n",
    "    summary = ' '.join([word for word in summary.split() if word not in stopwords])\n",
    "\n",
    "    summary = re.sub(\n",
    "        r'award winning author|world bestselling authors|new york timesbestselling author|new york timesbestselleryou|new york times bestselling|goodreads|phenomenal worldwide bestseller|alternate cover|newer edition foundhere|national book award|pulitzer prize',\n",
    "        '',\n",
    "        summary,\n",
    "        flags = re.IGNORECASE\n",
    "    ).strip()\n",
    "\n",
    "    # Remove extra spaces and clean text\n",
    "    # \\s checks for white space, + matches for preceding characters(i.e. one or more whitespace)\n",
    "    summary = re.sub(r'\\s+', ' ', summary).strip()\n",
    "\n",
    "    # Remove white space before full stop\n",
    "    summary = re.sub(r'\\s+(?=\\.)', '', summary)\n",
    "\n",
    "    # Ensure there is a single white space after each full stop.\n",
    "    summary = re.sub(r'\\.(?=\\S)', '. ', summary)\n",
    "    \n",
    "    return summary"
   ]
  },
  {
   "cell_type": "code",
   "execution_count": null,
   "id": "1deb2e2a-354a-4a5b-a04a-92cfa274e2db",
   "metadata": {},
   "outputs": [],
   "source": [
    "def generate_embeddings(summary):\n",
    "    words = word_tokenize(summary)\n",
    "    word_vectors = [wv[word] for word in words if word in wv]\n",
    "    if word_vectors:\n",
    "        return np.mean(word_vectors, axis = 0)\n",
    "    else:\n",
    "        return np.zeros(300)"
   ]
  },
  {
   "cell_type": "code",
   "execution_count": null,
   "id": "ad8e4c3b-c798-4633-89fb-9ae12ea8b940",
   "metadata": {},
   "outputs": [],
   "source": [
    "def lstm_model(input_dim, num_classes):\n",
    "    model = Sequential([\n",
    "        Embedding(input_dim = input_dim, output_dim = 128),\n",
    "        LSTM(128, return_sequences = False),\n",
    "        \n",
    "        Dropout(0.3),\n",
    "        Dense(64, activation = 'relu'),\n",
    "        \n",
    "        Dropout(0.3),\n",
    "        Dense(num_classes, activation = 'softmax'),\n",
    "        \n",
    "    ])\n",
    "    model.compile(optimizer = 'adam', loss = 'sparse_categorical_crossentropy', metrics = ['accuracy'])\n",
    "    return model"
   ]
  },
  {
   "cell_type": "code",
   "execution_count": null,
   "id": "8994d2d3-e93a-4a7e-865e-941c4c3135f9",
   "metadata": {},
   "outputs": [],
   "source": []
  },
  {
   "cell_type": "code",
   "execution_count": null,
   "id": "1b309ced-56a4-4c43-aaae-b18a04703056",
   "metadata": {},
   "outputs": [],
   "source": [
    "# df.loc[:,'Clean_summary'] = df['Summary'].apply(clean_summary)"
   ]
  },
  {
   "cell_type": "code",
   "execution_count": null,
   "id": "3dfe5758-27b7-4ff6-968c-6834e2da172c",
   "metadata": {},
   "outputs": [],
   "source": [
    "# df.loc[:,'Vectorized_summary'] = df['Clean_summary'].apply(generate_embeddings)"
   ]
  },
  {
   "cell_type": "code",
   "execution_count": null,
   "id": "0a8ae616-1727-4a1b-8d21-4da6b030daec",
   "metadata": {
    "scrolled": true
   },
   "outputs": [],
   "source": [
    "# df.head()"
   ]
  },
  {
   "cell_type": "code",
   "execution_count": null,
   "id": "3834f943-3505-4101-9053-429e4acea489",
   "metadata": {},
   "outputs": [],
   "source": [
    "# df.drop(['Summary','Clean_summary'], inplace = True, axis = 1)"
   ]
  },
  {
   "cell_type": "code",
   "execution_count": null,
   "id": "18a3b05b-1d65-44d3-b266-12fb823e4b66",
   "metadata": {},
   "outputs": [],
   "source": [
    "# tokenizer = Tokenizer()\n",
    "# tokenizer.fit_on_texts(df['Clean_summary'])\n",
    "# vocab_size = len(tokenizer.word_index)\n",
    "# print(\"Vocabulary size:\", vocab_size)"
   ]
  },
  {
   "cell_type": "code",
   "execution_count": null,
   "id": "24754ddd-0c08-418b-951d-31d5569ea474",
   "metadata": {},
   "outputs": [],
   "source": [
    "# X = np.vstack(df['Vectorized_summary'])\n",
    "# y = df['GroupedGenres']"
   ]
  },
  {
   "cell_type": "code",
   "execution_count": null,
   "id": "ffba03cd-7bf1-4a25-aa40-079e6f8332ea",
   "metadata": {},
   "outputs": [],
   "source": [
    "# X = df['Summary']\n",
    "# y = df['GroupedGenres']"
   ]
  },
  {
   "cell_type": "code",
   "execution_count": null,
   "id": "d209cbe3-662b-4f90-abd7-63b806329493",
   "metadata": {},
   "outputs": [],
   "source": [
    "# y.nunique()"
   ]
  },
  {
   "cell_type": "code",
   "execution_count": null,
   "id": "0298b821-8ec5-4b36-8974-821601067f60",
   "metadata": {},
   "outputs": [],
   "source": [
    "# X_train, X_test, y_train, y_test = train_test_split(X, y, test_size = 0.2, random_state = RANDOM_STATE, stratify = y)"
   ]
  },
  {
   "cell_type": "code",
   "execution_count": null,
   "id": "37f3c075-b1e5-44c8-8f1a-8c4b4180e061",
   "metadata": {},
   "outputs": [],
   "source": [
    "# print(f\"X_train shape {X_train.shape}\")\n",
    "# print(f\"y_train shape {y_train.shape}\")\n",
    "# print(f\"X_test shape {X_test.shape}\")\n",
    "# print(f\"y_test shape {y_test.shape}\")"
   ]
  },
  {
   "cell_type": "code",
   "execution_count": null,
   "id": "6ef296bd-a16b-420f-8060-d6ad0e6490ef",
   "metadata": {},
   "outputs": [],
   "source": [
    "# smote = SMOTE()\n",
    "# X_train_resampled, y_train_resampled = smote.fit_resample(X_train, y_train)"
   ]
  },
  {
   "cell_type": "code",
   "execution_count": null,
   "id": "aeb89f09-b17d-4b3c-bdb3-40126cf00af0",
   "metadata": {},
   "outputs": [],
   "source": [
    "# print(f\"X_train_resampled shape {X_train_resampled.shape}\")\n",
    "# print(f\"y_train_resampled shape {y_train_resampled.shape}\")"
   ]
  },
  {
   "cell_type": "code",
   "execution_count": null,
   "id": "3f836de3-4be7-4ddc-9570-c3b06bfdc943",
   "metadata": {},
   "outputs": [],
   "source": [
    "#summary_data.loc[:,'Vectorized_Summary'] = summary_data['Clean_summary'].apply(generate_embeddings)"
   ]
  },
  {
   "cell_type": "markdown",
   "id": "f2a2dc8d-d08e-46b1-97d1-5d9f2a3883be",
   "metadata": {},
   "source": [
    "### **Label Encoding**"
   ]
  },
  {
   "cell_type": "code",
   "execution_count": null,
   "id": "5a85258c-ab79-48d3-99e7-589ba24812ed",
   "metadata": {},
   "outputs": [],
   "source": [
    "# label_encoder = LabelEncoder()\n",
    "# y_train_encoded = label_encoder.fit_transform(y_train)\n",
    "# y_test_encoded = label_encoder.transform(y_test)"
   ]
  },
  {
   "cell_type": "code",
   "execution_count": null,
   "id": "5fbf9d7c-1ba7-4fcf-8545-060448976230",
   "metadata": {},
   "outputs": [],
   "source": [
    "# y_test_encoded.dtype"
   ]
  },
  {
   "cell_type": "code",
   "execution_count": null,
   "id": "3e11cfa3-542d-41e6-af55-4f4744e9d3ce",
   "metadata": {},
   "outputs": [],
   "source": [
    "# np.unique(y_train_encoded)"
   ]
  },
  {
   "cell_type": "code",
   "execution_count": null,
   "id": "fc050cb2-3521-4c62-b1de-e5e814a8507f",
   "metadata": {},
   "outputs": [],
   "source": [
    "# np.unique(y_test_encoded)"
   ]
  },
  {
   "cell_type": "markdown",
   "id": "5ed60bfa-1efe-4dc2-931c-021cc830ba7b",
   "metadata": {},
   "source": [
    "## **Creating Pipeline**"
   ]
  },
  {
   "cell_type": "code",
   "execution_count": null,
   "id": "5aa9608b-5c61-43b3-9f6c-83e9f0606198",
   "metadata": {},
   "outputs": [],
   "source": []
  },
  {
   "cell_type": "code",
   "execution_count": null,
   "id": "754ce64e-fdb6-4281-ba25-f20d78f9b28e",
   "metadata": {},
   "outputs": [],
   "source": [
    "#xgb_trf = XGBClassifier(eval_metric = 'mlogloss', objective='multi:softprob', random_state = RANDOM_STATE)# ,n_estimators = 94 ,n_estimators = 90"
   ]
  },
  {
   "cell_type": "code",
   "execution_count": null,
   "id": "76e1d289-e846-4909-aa29-b08288d4d47f",
   "metadata": {},
   "outputs": [],
   "source": [
    "#trf2 = AdaBoostClassifier(random_state = RANDOM_STATE)"
   ]
  },
  {
   "cell_type": "code",
   "execution_count": null,
   "id": "2a99ebf9-1fee-4019-aa12-defe524c61f2",
   "metadata": {},
   "outputs": [],
   "source": []
  },
  {
   "cell_type": "code",
   "execution_count": null,
   "id": "c35a0c04-fdf2-4b37-83cb-c6cddc1a3b68",
   "metadata": {},
   "outputs": [],
   "source": [
    "# lstm_trf = KerasClassifier(\n",
    "#     build_fn = lstm_model,\n",
    "#     input_dim = 20000,\n",
    "#     num_classes = 28, # Num of genres\n",
    "#     epochs = 5,\n",
    "#     batch_size = 32,\n",
    "#     verbose = 1\n",
    "# )"
   ]
  },
  {
   "cell_type": "code",
   "execution_count": null,
   "id": "1684f442-c387-4470-9506-aa3bb843abc0",
   "metadata": {},
   "outputs": [],
   "source": [
    "# pipeline = Pipeline([\n",
    "#     ('preprocess_text', TextPreprocessor()),\n",
    "#     ('tfidf', TfidfEmbeddings(max_features = 24000)),\n",
    "#     ('smote', SMOTE(sampling_strategy = 'auto', random_state = RANDOM_STATE)),\n",
    "#     ('xgb', xgb_trf),\n",
    "# ])"
   ]
  },
  {
   "cell_type": "code",
   "execution_count": null,
   "id": "a8afdde6-ec67-4360-a26e-c866d4a3d19b",
   "metadata": {},
   "outputs": [],
   "source": [
    "# pipeline = Pipeline([\n",
    "#     ('preprocess_text', TextPreprocessor()),\n",
    "#     ('word2vec', Word2VecEmbeddings(word2vec_model = wv, vector_size = 300)),\n",
    "#     ('xgb', xgb_trf),\n",
    "# ])"
   ]
  },
  {
   "cell_type": "code",
   "execution_count": null,
   "id": "7d98ee6b-42d1-4c31-8d44-2e83e07ae688",
   "metadata": {},
   "outputs": [],
   "source": [
    "# pipeline = Pipeline([\n",
    "#     ('xgb', xgb_trf),\n",
    "# ])"
   ]
  },
  {
   "cell_type": "code",
   "execution_count": null,
   "id": "0e96b9b6-ee09-4913-8ac6-78583217d433",
   "metadata": {},
   "outputs": [],
   "source": [
    "# pipeline = Pipeline([\n",
    "#     ('lstm', lstm_trf),\n",
    "# ])"
   ]
  },
  {
   "cell_type": "code",
   "execution_count": null,
   "id": "c43a4e5a-ef7e-433a-90ac-e3c4ffac3532",
   "metadata": {},
   "outputs": [],
   "source": [
    "# pipeline.fit(X_train, y_train_encoded)"
   ]
  },
  {
   "cell_type": "code",
   "execution_count": null,
   "id": "20dd068a-09ec-48a5-9a11-2f96ec748244",
   "metadata": {},
   "outputs": [],
   "source": [
    "# y_pred = pipeline.predict(X_test)"
   ]
  },
  {
   "cell_type": "code",
   "execution_count": null,
   "id": "767cfd1f-2115-48fc-8ec0-d35c6f3e6eb1",
   "metadata": {},
   "outputs": [],
   "source": [
    "# y_pred_decoded = label_encoder.inverse_transform(y_pred)"
   ]
  },
  {
   "cell_type": "code",
   "execution_count": null,
   "id": "4e38089f-20ca-44b7-ba9c-24208df7cdf9",
   "metadata": {},
   "outputs": [],
   "source": [
    "# accuracy = accuracy_score(y_test, y_pred_decoded)\n",
    "# accuracy"
   ]
  },
  {
   "cell_type": "code",
   "execution_count": null,
   "id": "348194c9-ac39-4413-9f99-51b9dc44fba8",
   "metadata": {},
   "outputs": [],
   "source": [
    "# f1 = f1_score(y_test, y_pred_decoded, average = 'weighted')\n",
    "# f1"
   ]
  },
  {
   "cell_type": "code",
   "execution_count": null,
   "id": "98be3d95-c547-48e2-a9e6-3205d2b0dab2",
   "metadata": {},
   "outputs": [],
   "source": [
    "# precision =  precision_score(y_test, y_pred_decoded, average = 'weighted')\n",
    "# precision"
   ]
  },
  {
   "cell_type": "code",
   "execution_count": null,
   "id": "eecd37d2-d708-497a-8d65-b380cd3474b5",
   "metadata": {},
   "outputs": [],
   "source": [
    "#cross_val_score(pipeline, X_train, y_train_encoded, cv = 5)"
   ]
  },
  {
   "cell_type": "markdown",
   "id": "02ebe72f-3ae9-441c-9519-01385eb291a5",
   "metadata": {},
   "source": [
    "### **Hyper parameter Tuning**"
   ]
  },
  {
   "cell_type": "code",
   "execution_count": null,
   "id": "fc6904a4-c660-4b39-bea0-65204359ab17",
   "metadata": {},
   "outputs": [],
   "source": [
    "# cv = StratifiedKFold(n_splits = 3)"
   ]
  },
  {
   "cell_type": "code",
   "execution_count": null,
   "id": "8c483055-63dd-4b63-a7c6-5dff44b820d9",
   "metadata": {},
   "outputs": [],
   "source": [
    "# params_1 = {\n",
    "#     #'xgb__max_depth': range(5,15,2),\n",
    "#     #'xgb__max_depth': 7,\n",
    "#     #'xgb__subsample': (0,1,0.2),\n",
    "#     #'xgb__subsample': 1,\n",
    "#     #'xgb__learning_rate': [0.01,0.03,0.05,0.07]\n",
    "#     'xgb__n_estimators': range(85,100,3)\n",
    "    \n",
    "# }\n",
    "\n",
    "# random_search1 = RandomizedSearchCV(pipeline, params_1, cv=cv, n_jobs = -1, scoring = 'f1_weighted')\n",
    "# random_result1 = random_search1.fit(X_train_resampled, y_train_encoded)\n",
    "# best_params1 = random_result1.best_params_\n",
    "# best_params1\n",
    "\n",
    "# print(\"Best parameters: \",best_params1)\n",
    "# print(\"Best MAE: \", grid_result1.best_score_)"
   ]
  },
  {
   "cell_type": "code",
   "execution_count": null,
   "id": "712017e8-459a-4238-8cf7-8cc6e6d791cc",
   "metadata": {},
   "outputs": [],
   "source": [
    "# print(\"Best parameters: \",best_params1)\n",
    "# print(\"Best MAE: \", random_result1.best_score_)"
   ]
  },
  {
   "cell_type": "code",
   "execution_count": null,
   "id": "bb0f7411-34bc-4b30-b22c-417094236200",
   "metadata": {},
   "outputs": [],
   "source": []
  }
 ],
 "metadata": {
  "kernelspec": {
   "display_name": "Python 3 (ipykernel)",
   "language": "python",
   "name": "python3"
  },
  "language_info": {
   "codemirror_mode": {
    "name": "ipython",
    "version": 3
   },
   "file_extension": ".py",
   "mimetype": "text/x-python",
   "name": "python",
   "nbconvert_exporter": "python",
   "pygments_lexer": "ipython3",
   "version": "3.12.4"
  }
 },
 "nbformat": 4,
 "nbformat_minor": 5
}
